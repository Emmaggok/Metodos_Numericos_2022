{
 "cells": [
  {
   "cell_type": "markdown",
   "id": "c68b0773-ec88-41c2-be3d-20a425b2113c",
   "metadata": {},
   "source": [
    "## Errores de truncamiento debido a los cálculos finitos."
   ]
  },
  {
   "cell_type": "markdown",
   "id": "47ab2b8d-0766-4fe3-93cc-d0f458df1dde",
   "metadata": {},
   "source": [
    "El término *error de truncamiento* proviene de la necesidad de truncar expresiones infinitas para obtener números concretos, aunque no exactos.\n",
    "\n",
    "Un ejemplo de ello es si queremos calcular el seno de un número arbitrario, $x$. De su definición tenemos:\n",
    "\n",
    "\n",
    "$$\n",
    "sin(x) = \\sum_{n=0}^{\\infty} \\frac{(-1)^n x^{2n+1}}{(2n+1)!}\n",
    "$$\n",
    "\n",
    "Como no podemos hacer esa cuenta en la práctica, tomamos un número aproximado calculando:\n",
    "\n",
    "$$\n",
    "sin_N(x) = \\sum_{n=0}^{N} \\frac{(-1)^n x^{2n+1}}{(2n+1)!}\n",
    "$$\n",
    "\n",
    "donde $N$ será tomado de acuerdo a la precisión que necesitemos tener en el cálculo. "
   ]
  },
  {
   "cell_type": "markdown",
   "id": "ad8ce624-f85d-442a-b5e6-b8a587ada12f",
   "metadata": {},
   "source": [
    "Esas necesidades de presición pueden ser de dos tipos: \n",
    "\n",
    "1. el *error absoluto* $error_{abs} = |\\sin(x) - \\sin_N(x)|$\n",
    "\n",
    "2. el *error relativo* $error_{rel} = \\frac{|\\sin(x) - \\sin_N(x)|}{|\\sin(x)|}$"
   ]
  },
  {
   "cell_type": "markdown",
   "id": "994e543c-502b-4be0-b0bb-c025c7a239e2",
   "metadata": {},
   "source": [
    "### Debido a la finitud de los cálculos en en una computadora aparece siempre un error de truncamiento!"
   ]
  },
  {
   "cell_type": "markdown",
   "id": "e9e6f693-ae7f-40c0-bc42-c4fb4197a567",
   "metadata": {},
   "source": [
    "### Otros errores:\n",
    "\n",
    "1. De la teoría (modelado de fenómenos que son idealizaciones)\n",
    "2. Estocásticos (los números *al azar* no son al azar)\n",
    "3. De aproximaciones (por ejemplo a funciones no algebraicas, raices, trigonométricas, etc.)\n",
    "4. Redondeo"
   ]
  },
  {
   "cell_type": "markdown",
   "id": "4601cddc-6eff-4400-a105-b55b83a4bf5c",
   "metadata": {},
   "source": [
    "## Error de redondeo debido a la finitud de la representación de números.\n",
    "\n",
    "Está dado por la diferencia (en módulo) del valor real del número y el número más próximo en la representación:\n",
    "\n",
    "$$\n",
    "error_{abs} = |x - x_{rep}| = |x - rep(x)| \\;\\;\\;\\;\\;\\;\\;error_{rel} = \\frac{|x - x_{rep}|}{|x|} = \n",
    "\\frac{|x - rep(x)|}{|x|}\n",
    "$$\n",
    "\n",
    "\n",
    "\n",
    "1. Cuando trabajamos con números presición fija el error absoluto que cometemos es constante.\n",
    "\n",
    "2. Cuando trabajamos con números presición flotante el error relativo es constante."
   ]
  },
  {
   "cell_type": "markdown",
   "id": "8f613c6f-a27c-49bc-a2c3-a9f3bb7f9acf",
   "metadata": {},
   "source": [
    "A cualquier número lo podemos escribir como: \n",
    "\n",
    "$$\n",
    "x = (-1)^s * a_1 a_2 \\ldots a_t a_{t+1} \\ldots \\beta^e \\;\\;\\;\\;\\;\\;\\; a_1 \\neq 0\n",
    "$$\n",
    "donde en general la secuencia $\\{a_i\\}$ is infinita.\n",
    "\n",
    "Mientras que en una representación flotante solo tenemos:\n",
    "\n",
    "$$\n",
    "x_{fl} = fl(x) = (-1)^s * \\tilde{a}_1 \\tilde{a}_2 \\ldots \\tilde{a}_t * \\beta^e \\;\\;\\;\\;\\;\\;\\; t\\;\\; \\text{fijo }\\;\\;\\; L\\leq e \\leq U\n",
    "$$"
   ]
  },
  {
   "cell_type": "markdown",
   "id": "eb5b6011-d214-489b-b2cb-88f3fd5e16a3",
   "metadata": {},
   "source": [
    "#### Cuál es el número más cercano a $x$ en una representación flotante?\n",
    "\n",
    "La respuesta es simple. Si el número cae entre dos números de la representación, quédese con el menor si está de la mitad para abajo del intervalo (de longitud `eps(x)`), de lo contrario quédese con el mayor."
   ]
  },
  {
   "cell_type": "markdown",
   "id": "9f27ffb3-f895-47ff-a614-9c41df76a4db",
   "metadata": {},
   "source": [
    "$$\n",
    "\\tilde{a}_i = a_i \\;\\;\\; i = 1\\ldots t-1 \\;\\;\\;\\;\\;\\;\\; \n",
    "$$"
   ]
  },
  {
   "cell_type": "markdown",
   "id": "d03a893b-fddc-40e6-baec-058ee95b8068",
   "metadata": {},
   "source": [
    "$$\n",
    "\\tilde{a}_t = \\left\\{ \n",
    "                    \\begin{array}{cc}\n",
    "                        a_t  \\;\\;\\; &si \\;\\; a_{t+1}  < \\frac{\\beta}{2} \\\\\n",
    "                        a_t + 1  \\;\\;\\; &si \\;\\; a_{t+1} \\geq \\frac{\\beta}{2}\n",
    "                     \\end{array}\n",
    "              \\right.\n",
    "$$"
   ]
  },
  {
   "cell_type": "markdown",
   "id": "72edc934-3a1d-488b-b5ea-349718592972",
   "metadata": {},
   "source": [
    "De esta forma nos garantizamos que:\n",
    "\n",
    "\n",
    "$$\n",
    "|x - fl(x)| \\leq \\frac{\\beta^{e-t+1}}{2} = \\frac{eps(x)}{2}\n",
    "$$\n",
    "\n",
    "y\n",
    "\n",
    "$$\n",
    "\\frac{|x - fl(x)|}{|x|} \\leq \\frac{\\beta^{e-t+1}}{2\\beta^{e}} = \\frac{\\beta^{1-t}}{2}\n",
    "$$\n",
    "\n",
    "Therefore, \n",
    "\n",
    "$$\n",
    "fl(x) = x(1 + \\delta) \\;\\;\\;\\;\\;\\; |\\delta \\leq \\frac{eps(1)}{2} \n",
    "$$"
   ]
  },
  {
   "cell_type": "markdown",
   "id": "3101efb9-e0a0-4386-90b3-6c2fb8d53321",
   "metadata": {},
   "source": [
    "### Operaciones aritméticas y sus errores\n",
    "\n",
    "Como hemos visto, existe $\\delta $ tal que \n",
    "\n",
    "$$\n",
    "fl(x) = x(1+\\delta) \\;\\;\\;\\;\\;\\;\\; |\\delta| \\leq \\frac{eps(x)}{2}\n",
    "$$\n",
    "\n",
    "Idealmente nos gustaría que:\n",
    "\n",
    "$$\n",
    "x \\;op_{FL}\\; y := fl(x \\;op\\; y)(1 + \\delta)\n",
    "$$\n",
    "\n",
    "Pero eso no es lo que hace la máquina. Las operaciones se hacen en la representación:"
   ]
  },
  {
   "cell_type": "markdown",
   "id": "582f2656-648f-4bf6-b378-3f36232e5f72",
   "metadata": {},
   "source": [
    "### Atención: una operación aritmética puede que tenga un error mucho mayor!\n",
    "\n",
    "Consideremos $\\mathcal{F}(10,2,L,U)$ y restemos $1.0 - 0.99 = 0.01$\n",
    "\n",
    "\\begin{align}\n",
    "&0.10 * 10^1 \\\\\n",
    "- & \\\\\n",
    "&0.09 * 10^1 \\\\\n",
    "&\\rule{1.8cm}{0.8pt}\\\\\n",
    "&0.01 * 10^1 = 0.1\n",
    "\\end{align}\n",
    "\n",
    "**un error absoluto muy grande pero esperable, pero el error relativo es muy grande!\n",
    "En este caso el error relativo es 10!**\n",
    "\n",
    "Para este caso $eps(1) = 0.01 * 10^1 = 0.1$ mientras que $eps(0.9) = 0.01 * 10^0 = 0.01$\n",
    "\n",
    "\n",
    "Por lo tanto si dos números son similares el error relativo puede ser muy grande. \n",
    "Para aliviarlo se puede aumentar provisoriamente $t$ (o sea disminuir eps(1)).\n",
    "\n",
    "Si hacemos el ejemplo anterior con $t=3$ obtenemos:\n",
    "\n",
    "\\begin{align}\n",
    "&0.100 * 10^1 \\\\\n",
    "- & \\\\\n",
    "&0.099 * 10^1 \\\\\n",
    "&\\rule{1.8cm}{0.8pt}\\\\\n",
    "&0.001 * 10^1\n",
    "\\end{align}\n",
    "\n",
    "\n"
   ]
  },
  {
   "cell_type": "markdown",
   "id": "32bd5b90-01cd-4f21-afdf-77fbc8a2ba26",
   "metadata": {},
   "source": [
    "Las computadoras modernas usan internamente (en el co-procesador matemático) mantizas mucho más grandes (*dígitos de guarda*). Típicamente de 80 o más bits."
   ]
  },
  {
   "cell_type": "markdown",
   "id": "d7b586fe-bf5d-4d76-a531-57fa5ff990d1",
   "metadata": {},
   "source": [
    "Eso nos garantiza que \n",
    "\n",
    "$$\n",
    "x \\;op_{FL}\\; y = fl(x \\;op\\; y)(1 + \\delta)\n",
    "$$"
   ]
  },
  {
   "cell_type": "markdown",
   "id": "647b1030-8f22-4cfa-bb27-e8d9aeb943b1",
   "metadata": {},
   "source": [
    "### Las operaciones no son asociativas!\n",
    "\n",
    "#### Ejercicio:\n",
    "\n",
    "Con $a =1234.567$, $b = 45.67844$, $c = 0.0004$ y utilizando aritmética *decimal* de punto flotante de 7 dígitos, calcule:\n",
    "\n",
    "$$\n",
    "(a +b)+c\n",
    "$$\n",
    "\n",
    "y \n",
    "\n",
    "$$\n",
    "a +(b+c).\n",
    "$$"
   ]
  },
  {
   "cell_type": "markdown",
   "id": "d3811eac-318d-4586-8845-32bcf2a99699",
   "metadata": {},
   "source": [
    "Por ejemplo: \n",
    "\n",
    "\\begin{align}\n",
    "a &= 0.1234567 * 10^4 \\\\\n",
    "b &= 0.0045678 * 10^4 \\\\\n",
    "\\rule{1cm}{0.8pt} & \\rule{3.8cm}{0.8pt}\\\\\n",
    "a + b &= 0.1280245 * 10^4\n",
    "\\end{align}"
   ]
  },
  {
   "cell_type": "code",
   "execution_count": 16,
   "id": "3d592e19-558a-4b82-b914-e584f4bfb47b",
   "metadata": {},
   "outputs": [
    {
     "data": {
      "text/plain": [
       "0.0"
      ]
     },
     "execution_count": 16,
     "metadata": {},
     "output_type": "execute_result"
    }
   ],
   "source": [
    "1.0 - (1.0 - eps(0.1))"
   ]
  },
  {
   "cell_type": "code",
   "execution_count": 17,
   "id": "2375739f-3ca3-4652-8245-7d1a72e0aee3",
   "metadata": {},
   "outputs": [
    {
     "data": {
      "text/plain": [
       "1.3877787807814457e-17"
      ]
     },
     "execution_count": 17,
     "metadata": {},
     "output_type": "execute_result"
    }
   ],
   "source": [
    "(1.0 - 1.0) + eps(0.1)"
   ]
  },
  {
   "cell_type": "markdown",
   "id": "63174d5b-33e5-4545-8b86-7edb64cd57e4",
   "metadata": {},
   "source": [
    "### Propagación de errores\n",
    "\n",
    "Ahora vamos a tratar el caso real, es decir:\n",
    "\n",
    "$$\n",
    "x \\;op_{fl}\\; y = fl(fl(x) \\;op\\; fl(y))\n",
    "$$\n",
    "\n",
    "O sea nos dan dos números reales, los pasamos a una representación flotante y luego hacemos la operación como flotante.  Además del error ya tratado ahora tenemos un error por haber asignado a cada número real un número (distinto en general en la representación).\n",
    "\n",
    "Tenemos así que, por ejemplo:\n",
    "\n",
    "$$\n",
    "x +_{fl} y = (x(1 + \\delta_x) + y(1 + \\delta_y) )(1 + \\delta) \\;\\;\\;\\; |\\delta|, \\;|\\delta_x|,\\; |\\delta_y| \\leq \\frac{eps(1)}{2} := u\n",
    "$$\n",
    "\n",
    "El error cometido se puede estimar entonces como:\n",
    "\n",
    "\\begin{align}\n",
    "|x +_{fl} y - (x+y)| &=  |x \\delta_x + y \\delta_y + (x+y)\\delta +  (x \\delta_x + y \\delta_y)\\delta| \\\\\n",
    "&\\leq |x||\\delta_x| + |y||\\delta_y| + |x+y||\\delta| + (|x||\\delta_x| + |y||\\delta_y|)|\\delta|\\\\\n",
    "&\\leq (|x|+|y|)(1+u)u + |x+y|u\n",
    "\\end{align}\n",
    "\n",
    "El error relativo es entonces:\n",
    "\n",
    "\\begin{align}\n",
    "\\frac{|x +_{fl} y - (x+y)|}{|x+y|} &\\leq \\frac{|x|+|y|}{|x+y|}(1+u)u + u\n",
    "\\end{align}\n",
    "\n",
    "Si $y \\approx -x$ el error relativo puede ser muy grande y es debido al error de redondeo inicial en $x$ e $y$."
   ]
  },
  {
   "cell_type": "markdown",
   "id": "42284017-d762-4a63-91b9-84b418612f12",
   "metadata": {},
   "source": [
    "### Evitar:\n",
    "\n",
    "1. resta de dos números parecidos\n",
    "\n",
    "2. suma/resta de números muy dispares\n",
    "\n",
    "3. cociente de números muy grandes o muy chicos (overflow o underflow).\n",
    "\n"
   ]
  },
  {
   "cell_type": "markdown",
   "id": "57be3259-3d99-4073-a11c-11cf37ef0cc2",
   "metadata": {},
   "source": [
    "### Ejemplos:\n",
    "\n",
    "#### Ejemplo 1:\n",
    "\n",
    "\\begin{align}\n",
    "\\sqrt{x+h} - \\sqrt{x} &= \\frac{(\\sqrt{x+h} - \\sqrt{x})(\\sqrt{x+h} + \\sqrt{x})}{\\sqrt{x+h} + \\sqrt{x}} \\\\\n",
    "&= \\frac{(\\sqrt{x+h})^2 - (\\sqrt{x})^2}{\\sqrt{x+h} + \\sqrt{x}}\\\\\n",
    "&= \\frac{(x+h - x}{\\sqrt{x+h} + \\sqrt{x}}\\\\\n",
    "&= \\frac{h}{\\sqrt{x+h} + \\sqrt{x}}\n",
    "\\end{align}\n",
    "\n",
    "#### Ejemplo 2:\n",
    "\n",
    "Raices de $Ax^2 + Bx + C$ cuando $B^2 >> |4AC|$\n",
    "\n",
    "$$\n",
    "r_{\\pm} = \\frac{-B \\pm \\sqrt{B^2 - 4AC}}{2A}\n",
    "$$\n",
    "\n",
    "Si $B>0$ la raiz positiva tendrá problemas de presición. Si $B<0$ la negativa los tendrá.\n",
    "Supongamos el primer caso:\n",
    "\n",
    "\\begin{align}\n",
    "r_+ &= \\frac{-B + \\sqrt{B^2 - 4AC}}{2A} \\\\ \n",
    "&= \\frac{(-B + \\sqrt{B^2 - 4AC})(-B - \\sqrt{B^2 - 4AC})}{2A (-B - \\sqrt{B^2 - 4AC})} \\\\\n",
    "&= \\frac{(-B^2 + (\\sqrt{B^2 - 4AC})^2)}{2A (B + \\sqrt{B^2 - 4AC})} \\\\\n",
    "&= \\frac{- 2C}{B + \\sqrt{B^2 - 4AC}}\n",
    "\\end{align}\n"
   ]
  },
  {
   "cell_type": "code",
   "execution_count": 29,
   "id": "6f6a57f1-389d-453b-a1c2-8079701dbe50",
   "metadata": {},
   "outputs": [
    {
     "name": "stdout",
     "output_type": "stream",
     "text": [
      "modo usual raiz positiva = -9.947598300641403e-14\n",
      "modo seguro raiz positiva = -1.0000000000000105e-13\n"
     ]
    }
   ],
   "source": [
    "A = 1.0\n",
    "B = 10.0\n",
    "C = 10^(-12)\n",
    "\n",
    "println(\"modo usual raiz positiva = $((-B + sqrt(B^2 - 4*A*C))/2/A)\")\n",
    "println(\"modo seguro raiz positiva = $(-2*C/(+B + sqrt(B^2 - 4*A*C)))\")"
   ]
  },
  {
   "cell_type": "markdown",
   "id": "a7123472-ad94-4b26-8499-25cf363fb2d5",
   "metadata": {},
   "source": [
    "#### Ejemplo 3: (ver en el otro notebook)"
   ]
  },
  {
   "cell_type": "markdown",
   "id": "7b39702d-bbe5-473d-9ccd-c9aa8e92fa0c",
   "metadata": {},
   "source": [
    "### Que precisión combiene usar?"
   ]
  },
  {
   "cell_type": "markdown",
   "id": "76aaf72d-319e-4671-bda4-6df51b44dd26",
   "metadata": {},
   "source": [
    "Hasta hace unos años la respuesta era que lo mejor era usar doble precisión (64 bits): \n",
    "\n",
    "1. Nos asegurábamos más precisión.\n",
    "2. No incurríamos en demasiados gastos de tiempo de cómputo pues los co-procesadores tenían más dígitos (de guarda) en cualquier caso.\n",
    "3. Los cálculos estaban acotados por el procesamiento y no por el acceso a memoria."
   ]
  },
  {
   "cell_type": "markdown",
   "id": "f6baf066-a9cb-4d4c-be6c-3a7c3479a557",
   "metadata": {},
   "source": [
    "Hoy no es tan claro:\n",
    "\n",
    "1. Las GPU tienen co-procesadores más simples y en general son mejores para hacer cálculos en precisión simple.\n",
    "2. Los cores de las CPU comparten co-procesadores.\n",
    "3. La vectorización (muchas cuentas simultáneas en un solo ciclo) se beneficia de mantizas más cortas.\n",
    "4. Los cálculos hoy día están limitados por el acceso a memoria. Mantizas más cortas significa mayor cantidad de datos en la memoria rápida."
   ]
  },
  {
   "cell_type": "markdown",
   "id": "8636f2a6-baf7-43a3-bddf-3701bbe6dbcd",
   "metadata": {},
   "source": [
    "#### Estrategia:\n",
    "\n",
    "1. Haga su código de tal manera que pueda funcionar con ambas precisiones y compare resultados. \n",
    "2. Siempre tenga cuidado en no originar acumulación de errores innecesarias."
   ]
  },
  {
   "cell_type": "markdown",
   "id": "8277f336-6c43-46d6-bd96-6d7a003e79ad",
   "metadata": {},
   "source": [
    "### Otras representaciones:\n",
    "\n",
    "1. BigFloat (precisión arbitraria)\n",
    "2. Rationals (Int/Int)\n",
    "3. Irrationals (cálculo de por-ejemplo $\\pi$ de acuerdo a la precisión utilizada)"
   ]
  },
  {
   "cell_type": "code",
   "execution_count": 31,
   "id": "7411c09b-9398-46ca-93b6-0a39bb04c224",
   "metadata": {},
   "outputs": [
    {
     "data": {
      "text/plain": [
       "7//4"
      ]
     },
     "execution_count": 31,
     "metadata": {},
     "output_type": "execute_result"
    }
   ],
   "source": [
    "1//2 + 5//4"
   ]
  },
  {
   "cell_type": "code",
   "execution_count": 32,
   "id": "4e465331-7e05-47db-a1a0-52e7aba545b4",
   "metadata": {},
   "outputs": [
    {
     "data": {
      "text/plain": [
       "3.141592653589793238462643383279502884197169399375105820974944592307816406286198"
      ]
     },
     "execution_count": 32,
     "metadata": {},
     "output_type": "execute_result"
    }
   ],
   "source": [
    "BigFloat(π)"
   ]
  },
  {
   "cell_type": "code",
   "execution_count": null,
   "id": "7cb0c7d9-90ed-42bc-bce6-e2d4334958e6",
   "metadata": {},
   "outputs": [],
   "source": []
  }
 ],
 "metadata": {
  "kernelspec": {
   "display_name": "Julia 1.7.2",
   "language": "julia",
   "name": "julia-1.7"
  },
  "language_info": {
   "file_extension": ".jl",
   "mimetype": "application/julia",
   "name": "julia",
   "version": "1.7.2"
  }
 },
 "nbformat": 4,
 "nbformat_minor": 5
}
