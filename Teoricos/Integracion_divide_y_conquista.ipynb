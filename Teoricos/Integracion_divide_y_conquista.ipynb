{
 "cells": [
  {
   "cell_type": "code",
   "execution_count": 43,
   "id": "da547279-841a-43ac-9766-68790ee3f18c",
   "metadata": {
    "jupyter": {
     "source_hidden": true
    },
    "tags": []
   },
   "outputs": [],
   "source": [
    "using Plots\n",
    "using LaTeXStrings"
   ]
  },
  {
   "cell_type": "markdown",
   "id": "47a9344f-4017-46cf-a384-727dc54814ed",
   "metadata": {},
   "source": [
    "### Integración: Divide y Conquista! \n",
    "\n",
    "#### Reglas Compuestas.\n",
    "\n",
    "Cuando tenemos un intervalo de integración podemos dividir el mismo en intervalos menores y usar las reglas aprendidas (Punto Medio, Trapecio y Simpson) en cada una de ellas y sumar."
   ]
  },
  {
   "cell_type": "markdown",
   "id": "e2836855-a342-4e62-96bd-d0420d9bce0e",
   "metadata": {},
   "source": [
    "Consideremos un intervalo $[a,b]$ dividido en $N-1$ intervalos iguales de longitud $dx = (b-a)/(N-1)$, es decir donde los puntos de cada uno de ellos vienen dados por:\n",
    "\n",
    "$$\n",
    "x_i = a + dx(i-1)\n",
    "$$\n",
    "\n",
    "Supondremos que tenemos los valores de una función en dichos puntos, $y_i = f(x_i)$."
   ]
  },
  {
   "cell_type": "code",
   "execution_count": 44,
   "id": "4c418dc5-f4ad-4cb3-b652-60272405ef63",
   "metadata": {},
   "outputs": [
    {
     "data": {
      "image/svg+xml": [
       "<?xml version=\"1.0\" encoding=\"utf-8\"?>\n",
       "<svg xmlns=\"http://www.w3.org/2000/svg\" xmlns:xlink=\"http://www.w3.org/1999/xlink\" width=\"600\" height=\"400\" viewBox=\"0 0 2400 1600\">\n",
       "<defs>\n",
       "  <clipPath id=\"clip760\">\n",
       "    <rect x=\"0\" y=\"0\" width=\"2400\" height=\"1600\"/>\n",
       "  </clipPath>\n",
       "</defs>\n",
       "<path clip-path=\"url(#clip760)\" d=\"\n",
       "M0 1600 L2400 1600 L2400 0 L0 0  Z\n",
       "  \" fill=\"#ffffff\" fill-rule=\"evenodd\" fill-opacity=\"1\"/>\n",
       "<defs>\n",
       "  <clipPath id=\"clip761\">\n",
       "    <rect x=\"480\" y=\"0\" width=\"1681\" height=\"1600\"/>\n",
       "  </clipPath>\n",
       "</defs>\n",
       "<defs>\n",
       "  <clipPath id=\"clip762\">\n",
       "    <rect x=\"112\" y=\"47\" width=\"2242\" height=\"1440\"/>\n",
       "  </clipPath>\n",
       "</defs>\n",
       "<path clip-path=\"url(#clip760)\" d=\"\n",
       "M112.177 1486.45 L2352.76 1486.45 L2352.76 47.2441 L112.177 47.2441  Z\n",
       "  \" fill=\"#ffffff\" fill-rule=\"evenodd\" fill-opacity=\"1\"/>\n",
       "<polyline clip-path=\"url(#clip762)\" style=\"stroke:#000000; stroke-linecap:butt; stroke-linejoin:round; stroke-width:2; stroke-opacity:0.1; fill:none\" points=\"\n",
       "  175.59,1486.45 175.59,47.2441 \n",
       "  \"/>\n",
       "<polyline clip-path=\"url(#clip762)\" style=\"stroke:#000000; stroke-linecap:butt; stroke-linejoin:round; stroke-width:2; stroke-opacity:0.1; fill:none\" points=\"\n",
       "  704.028,1486.45 704.028,47.2441 \n",
       "  \"/>\n",
       "<polyline clip-path=\"url(#clip762)\" style=\"stroke:#000000; stroke-linecap:butt; stroke-linejoin:round; stroke-width:2; stroke-opacity:0.1; fill:none\" points=\"\n",
       "  1232.47,1486.45 1232.47,47.2441 \n",
       "  \"/>\n",
       "<polyline clip-path=\"url(#clip762)\" style=\"stroke:#000000; stroke-linecap:butt; stroke-linejoin:round; stroke-width:2; stroke-opacity:0.1; fill:none\" points=\"\n",
       "  1760.9,1486.45 1760.9,47.2441 \n",
       "  \"/>\n",
       "<polyline clip-path=\"url(#clip762)\" style=\"stroke:#000000; stroke-linecap:butt; stroke-linejoin:round; stroke-width:2; stroke-opacity:0.1; fill:none\" points=\"\n",
       "  2289.34,1486.45 2289.34,47.2441 \n",
       "  \"/>\n",
       "<polyline clip-path=\"url(#clip760)\" style=\"stroke:#000000; stroke-linecap:butt; stroke-linejoin:round; stroke-width:4; stroke-opacity:1; fill:none\" points=\"\n",
       "  112.177,1486.45 2352.76,1486.45 \n",
       "  \"/>\n",
       "<polyline clip-path=\"url(#clip760)\" style=\"stroke:#000000; stroke-linecap:butt; stroke-linejoin:round; stroke-width:4; stroke-opacity:1; fill:none\" points=\"\n",
       "  175.59,1486.45 175.59,1467.55 \n",
       "  \"/>\n",
       "<polyline clip-path=\"url(#clip760)\" style=\"stroke:#000000; stroke-linecap:butt; stroke-linejoin:round; stroke-width:4; stroke-opacity:1; fill:none\" points=\"\n",
       "  704.028,1486.45 704.028,1467.55 \n",
       "  \"/>\n",
       "<polyline clip-path=\"url(#clip760)\" style=\"stroke:#000000; stroke-linecap:butt; stroke-linejoin:round; stroke-width:4; stroke-opacity:1; fill:none\" points=\"\n",
       "  1232.47,1486.45 1232.47,1467.55 \n",
       "  \"/>\n",
       "<polyline clip-path=\"url(#clip760)\" style=\"stroke:#000000; stroke-linecap:butt; stroke-linejoin:round; stroke-width:4; stroke-opacity:1; fill:none\" points=\"\n",
       "  1760.9,1486.45 1760.9,1467.55 \n",
       "  \"/>\n",
       "<polyline clip-path=\"url(#clip760)\" style=\"stroke:#000000; stroke-linecap:butt; stroke-linejoin:round; stroke-width:4; stroke-opacity:1; fill:none\" points=\"\n",
       "  2289.34,1486.45 2289.34,1467.55 \n",
       "  \"/>\n",
       "<path clip-path=\"url(#clip760)\" d=\"M152.974 1517.37 Q149.363 1517.37 147.534 1520.93 Q145.729 1524.47 145.729 1531.6 Q145.729 1538.71 147.534 1542.27 Q149.363 1545.82 152.974 1545.82 Q156.608 1545.82 158.414 1542.27 Q160.243 1538.71 160.243 1531.6 Q160.243 1524.47 158.414 1520.93 Q156.608 1517.37 152.974 1517.37 M152.974 1513.66 Q158.784 1513.66 161.84 1518.27 Q164.919 1522.85 164.919 1531.6 Q164.919 1540.33 161.84 1544.94 Q158.784 1549.52 152.974 1549.52 Q147.164 1549.52 144.085 1544.94 Q141.03 1540.33 141.03 1531.6 Q141.03 1522.85 144.085 1518.27 Q147.164 1513.66 152.974 1513.66 Z\" fill=\"#000000\" fill-rule=\"evenodd\" fill-opacity=\"1\" /><path clip-path=\"url(#clip760)\" d=\"M173.136 1542.97 L178.02 1542.97 L178.02 1548.85 L173.136 1548.85 L173.136 1542.97 Z\" fill=\"#000000\" fill-rule=\"evenodd\" fill-opacity=\"1\" /><path clip-path=\"url(#clip760)\" d=\"M198.205 1517.37 Q194.594 1517.37 192.766 1520.93 Q190.96 1524.47 190.96 1531.6 Q190.96 1538.71 192.766 1542.27 Q194.594 1545.82 198.205 1545.82 Q201.84 1545.82 203.645 1542.27 Q205.474 1538.71 205.474 1531.6 Q205.474 1524.47 203.645 1520.93 Q201.84 1517.37 198.205 1517.37 M198.205 1513.66 Q204.016 1513.66 207.071 1518.27 Q210.15 1522.85 210.15 1531.6 Q210.15 1540.33 207.071 1544.94 Q204.016 1549.52 198.205 1549.52 Q192.395 1549.52 189.317 1544.94 Q186.261 1540.33 186.261 1531.6 Q186.261 1522.85 189.317 1518.27 Q192.395 1513.66 198.205 1513.66 Z\" fill=\"#000000\" fill-rule=\"evenodd\" fill-opacity=\"1\" /><path clip-path=\"url(#clip760)\" d=\"M681.91 1517.37 Q678.299 1517.37 676.47 1520.93 Q674.665 1524.47 674.665 1531.6 Q674.665 1538.71 676.47 1542.27 Q678.299 1545.82 681.91 1545.82 Q685.544 1545.82 687.35 1542.27 Q689.179 1538.71 689.179 1531.6 Q689.179 1524.47 687.35 1520.93 Q685.544 1517.37 681.91 1517.37 M681.91 1513.66 Q687.72 1513.66 690.776 1518.27 Q693.855 1522.85 693.855 1531.6 Q693.855 1540.33 690.776 1544.94 Q687.72 1549.52 681.91 1549.52 Q676.1 1549.52 673.021 1544.94 Q669.966 1540.33 669.966 1531.6 Q669.966 1522.85 673.021 1518.27 Q676.1 1513.66 681.91 1513.66 Z\" fill=\"#000000\" fill-rule=\"evenodd\" fill-opacity=\"1\" /><path clip-path=\"url(#clip760)\" d=\"M702.072 1542.97 L706.956 1542.97 L706.956 1548.85 L702.072 1548.85 L702.072 1542.97 Z\" fill=\"#000000\" fill-rule=\"evenodd\" fill-opacity=\"1\" /><path clip-path=\"url(#clip760)\" d=\"M717.188 1514.29 L735.544 1514.29 L735.544 1518.22 L721.47 1518.22 L721.47 1526.7 Q722.489 1526.35 723.507 1526.19 Q724.526 1526 725.544 1526 Q731.331 1526 734.711 1529.17 Q738.09 1532.34 738.09 1537.76 Q738.09 1543.34 734.618 1546.44 Q731.146 1549.52 724.827 1549.52 Q722.651 1549.52 720.382 1549.15 Q718.137 1548.78 715.729 1548.04 L715.729 1543.34 Q717.813 1544.47 720.035 1545.03 Q722.257 1545.58 724.734 1545.58 Q728.739 1545.58 731.077 1543.48 Q733.415 1541.37 733.415 1537.76 Q733.415 1534.15 731.077 1532.04 Q728.739 1529.94 724.734 1529.94 Q722.859 1529.94 720.984 1530.35 Q719.132 1530.77 717.188 1531.65 L717.188 1514.29 Z\" fill=\"#000000\" fill-rule=\"evenodd\" fill-opacity=\"1\" /><path clip-path=\"url(#clip760)\" d=\"M1199.62 1544.91 L1207.26 1544.91 L1207.26 1518.55 L1198.95 1520.21 L1198.95 1515.95 L1207.21 1514.29 L1211.89 1514.29 L1211.89 1544.91 L1219.53 1544.91 L1219.53 1548.85 L1199.62 1548.85 L1199.62 1544.91 Z\" fill=\"#000000\" fill-rule=\"evenodd\" fill-opacity=\"1\" /><path clip-path=\"url(#clip760)\" d=\"M1228.97 1542.97 L1233.86 1542.97 L1233.86 1548.85 L1228.97 1548.85 L1228.97 1542.97 Z\" fill=\"#000000\" fill-rule=\"evenodd\" fill-opacity=\"1\" /><path clip-path=\"url(#clip760)\" d=\"M1254.04 1517.37 Q1250.43 1517.37 1248.6 1520.93 Q1246.8 1524.47 1246.8 1531.6 Q1246.8 1538.71 1248.6 1542.27 Q1250.43 1545.82 1254.04 1545.82 Q1257.67 1545.82 1259.48 1542.27 Q1261.31 1538.71 1261.31 1531.6 Q1261.31 1524.47 1259.48 1520.93 Q1257.67 1517.37 1254.04 1517.37 M1254.04 1513.66 Q1259.85 1513.66 1262.91 1518.27 Q1265.98 1522.85 1265.98 1531.6 Q1265.98 1540.33 1262.91 1544.94 Q1259.85 1549.52 1254.04 1549.52 Q1248.23 1549.52 1245.15 1544.94 Q1242.1 1540.33 1242.1 1531.6 Q1242.1 1522.85 1245.15 1518.27 Q1248.23 1513.66 1254.04 1513.66 Z\" fill=\"#000000\" fill-rule=\"evenodd\" fill-opacity=\"1\" /><path clip-path=\"url(#clip760)\" d=\"M1728.56 1544.91 L1736.19 1544.91 L1736.19 1518.55 L1727.88 1520.21 L1727.88 1515.95 L1736.15 1514.29 L1740.82 1514.29 L1740.82 1544.91 L1748.46 1544.91 L1748.46 1548.85 L1728.56 1548.85 L1728.56 1544.91 Z\" fill=\"#000000\" fill-rule=\"evenodd\" fill-opacity=\"1\" /><path clip-path=\"url(#clip760)\" d=\"M1757.91 1542.97 L1762.79 1542.97 L1762.79 1548.85 L1757.91 1548.85 L1757.91 1542.97 Z\" fill=\"#000000\" fill-rule=\"evenodd\" fill-opacity=\"1\" /><path clip-path=\"url(#clip760)\" d=\"M1773.02 1514.29 L1791.38 1514.29 L1791.38 1518.22 L1777.31 1518.22 L1777.31 1526.7 Q1778.32 1526.35 1779.34 1526.19 Q1780.36 1526 1781.38 1526 Q1787.17 1526 1790.55 1529.17 Q1793.93 1532.34 1793.93 1537.76 Q1793.93 1543.34 1790.45 1546.44 Q1786.98 1549.52 1780.66 1549.52 Q1778.49 1549.52 1776.22 1549.15 Q1773.97 1548.78 1771.56 1548.04 L1771.56 1543.34 Q1773.65 1544.47 1775.87 1545.03 Q1778.09 1545.58 1780.57 1545.58 Q1784.57 1545.58 1786.91 1543.48 Q1789.25 1541.37 1789.25 1537.76 Q1789.25 1534.15 1786.91 1532.04 Q1784.57 1529.94 1780.57 1529.94 Q1778.69 1529.94 1776.82 1530.35 Q1774.97 1530.77 1773.02 1531.65 L1773.02 1514.29 Z\" fill=\"#000000\" fill-rule=\"evenodd\" fill-opacity=\"1\" /><path clip-path=\"url(#clip760)\" d=\"M2260.58 1544.91 L2276.9 1544.91 L2276.9 1548.85 L2254.96 1548.85 L2254.96 1544.91 Q2257.62 1542.16 2262.2 1537.53 Q2266.81 1532.88 2267.99 1531.53 Q2270.23 1529.01 2271.11 1527.27 Q2272.02 1525.51 2272.02 1523.82 Q2272.02 1521.07 2270.07 1519.33 Q2268.15 1517.6 2265.05 1517.6 Q2262.85 1517.6 2260.4 1518.36 Q2257.97 1519.13 2255.19 1520.68 L2255.19 1515.95 Q2258.01 1514.82 2260.47 1514.24 Q2262.92 1513.66 2264.96 1513.66 Q2270.33 1513.66 2273.52 1516.35 Q2276.72 1519.03 2276.72 1523.52 Q2276.72 1525.65 2275.91 1527.57 Q2275.12 1529.47 2273.01 1532.07 Q2272.43 1532.74 2269.33 1535.95 Q2266.23 1539.15 2260.58 1544.91 Z\" fill=\"#000000\" fill-rule=\"evenodd\" fill-opacity=\"1\" /><path clip-path=\"url(#clip760)\" d=\"M2286.72 1542.97 L2291.6 1542.97 L2291.6 1548.85 L2286.72 1548.85 L2286.72 1542.97 Z\" fill=\"#000000\" fill-rule=\"evenodd\" fill-opacity=\"1\" /><path clip-path=\"url(#clip760)\" d=\"M2311.79 1517.37 Q2308.17 1517.37 2306.35 1520.93 Q2304.54 1524.47 2304.54 1531.6 Q2304.54 1538.71 2306.35 1542.27 Q2308.17 1545.82 2311.79 1545.82 Q2315.42 1545.82 2317.23 1542.27 Q2319.05 1538.71 2319.05 1531.6 Q2319.05 1524.47 2317.23 1520.93 Q2315.42 1517.37 2311.79 1517.37 M2311.79 1513.66 Q2317.6 1513.66 2320.65 1518.27 Q2323.73 1522.85 2323.73 1531.6 Q2323.73 1540.33 2320.65 1544.94 Q2317.6 1549.52 2311.79 1549.52 Q2305.98 1549.52 2302.9 1544.94 Q2299.84 1540.33 2299.84 1531.6 Q2299.84 1522.85 2302.9 1518.27 Q2305.98 1513.66 2311.79 1513.66 Z\" fill=\"#000000\" fill-rule=\"evenodd\" fill-opacity=\"1\" /><polyline clip-path=\"url(#clip762)\" style=\"stroke:#000000; stroke-linecap:butt; stroke-linejoin:round; stroke-width:2; stroke-opacity:0.1; fill:none\" points=\"\n",
       "  112.177,1445.72 2352.76,1445.72 \n",
       "  \"/>\n",
       "<polyline clip-path=\"url(#clip762)\" style=\"stroke:#000000; stroke-linecap:butt; stroke-linejoin:round; stroke-width:2; stroke-opacity:0.1; fill:none\" points=\"\n",
       "  112.177,1078.22 2352.76,1078.22 \n",
       "  \"/>\n",
       "<polyline clip-path=\"url(#clip762)\" style=\"stroke:#000000; stroke-linecap:butt; stroke-linejoin:round; stroke-width:2; stroke-opacity:0.1; fill:none\" points=\"\n",
       "  112.177,710.715 2352.76,710.715 \n",
       "  \"/>\n",
       "<polyline clip-path=\"url(#clip762)\" style=\"stroke:#000000; stroke-linecap:butt; stroke-linejoin:round; stroke-width:2; stroke-opacity:0.1; fill:none\" points=\"\n",
       "  112.177,343.215 2352.76,343.215 \n",
       "  \"/>\n",
       "<polyline clip-path=\"url(#clip760)\" style=\"stroke:#000000; stroke-linecap:butt; stroke-linejoin:round; stroke-width:4; stroke-opacity:1; fill:none\" points=\"\n",
       "  112.177,1486.45 112.177,47.2441 \n",
       "  \"/>\n",
       "<polyline clip-path=\"url(#clip760)\" style=\"stroke:#000000; stroke-linecap:butt; stroke-linejoin:round; stroke-width:4; stroke-opacity:1; fill:none\" points=\"\n",
       "  112.177,1445.72 131.075,1445.72 \n",
       "  \"/>\n",
       "<polyline clip-path=\"url(#clip760)\" style=\"stroke:#000000; stroke-linecap:butt; stroke-linejoin:round; stroke-width:4; stroke-opacity:1; fill:none\" points=\"\n",
       "  112.177,1078.22 131.075,1078.22 \n",
       "  \"/>\n",
       "<polyline clip-path=\"url(#clip760)\" style=\"stroke:#000000; stroke-linecap:butt; stroke-linejoin:round; stroke-width:4; stroke-opacity:1; fill:none\" points=\"\n",
       "  112.177,710.715 131.075,710.715 \n",
       "  \"/>\n",
       "<polyline clip-path=\"url(#clip760)\" style=\"stroke:#000000; stroke-linecap:butt; stroke-linejoin:round; stroke-width:4; stroke-opacity:1; fill:none\" points=\"\n",
       "  112.177,343.215 131.075,343.215 \n",
       "  \"/>\n",
       "<path clip-path=\"url(#clip760)\" d=\"M64.2328 1431.51 Q60.6217 1431.51 58.793 1435.08 Q56.9875 1438.62 56.9875 1445.75 Q56.9875 1452.86 58.793 1456.42 Q60.6217 1459.96 64.2328 1459.96 Q67.867 1459.96 69.6726 1456.42 Q71.5013 1452.86 71.5013 1445.75 Q71.5013 1438.62 69.6726 1435.08 Q67.867 1431.51 64.2328 1431.51 M64.2328 1427.81 Q70.0429 1427.81 73.0985 1432.42 Q76.1772 1437 76.1772 1445.75 Q76.1772 1454.48 73.0985 1459.08 Q70.0429 1463.67 64.2328 1463.67 Q58.4226 1463.67 55.344 1459.08 Q52.2884 1454.48 52.2884 1445.75 Q52.2884 1437 55.344 1432.42 Q58.4226 1427.81 64.2328 1427.81 Z\" fill=\"#000000\" fill-rule=\"evenodd\" fill-opacity=\"1\" /><path clip-path=\"url(#clip760)\" d=\"M59.8578 1091.56 L76.1772 1091.56 L76.1772 1095.5 L54.2328 1095.5 L54.2328 1091.56 Q56.8949 1088.81 61.4782 1084.18 Q66.0846 1079.52 67.2652 1078.18 Q69.5105 1075.66 70.3902 1073.92 Q71.2929 1072.16 71.2929 1070.47 Q71.2929 1067.72 69.3485 1065.98 Q67.4272 1064.25 64.3254 1064.25 Q62.1263 1064.25 59.6726 1065.01 Q57.2421 1065.77 54.4643 1067.32 L54.4643 1062.6 Q57.2884 1061.47 59.7421 1060.89 Q62.1958 1060.31 64.2328 1060.31 Q69.6031 1060.31 72.7976 1063 Q75.992 1065.68 75.992 1070.17 Q75.992 1072.3 75.1818 1074.22 Q74.3948 1076.12 72.2883 1078.71 Q71.7096 1079.38 68.6078 1082.6 Q65.5059 1085.8 59.8578 1091.56 Z\" fill=\"#000000\" fill-rule=\"evenodd\" fill-opacity=\"1\" /><path clip-path=\"url(#clip760)\" d=\"M66.5939 697.51 L54.7884 715.959 L66.5939 715.959 L66.5939 697.51 M65.367 693.435 L71.2466 693.435 L71.2466 715.959 L76.1772 715.959 L76.1772 719.847 L71.2466 719.847 L71.2466 727.995 L66.5939 727.995 L66.5939 719.847 L50.9921 719.847 L50.9921 715.334 L65.367 693.435 Z\" fill=\"#000000\" fill-rule=\"evenodd\" fill-opacity=\"1\" /><path clip-path=\"url(#clip760)\" d=\"M64.6495 341.352 Q61.5013 341.352 59.6495 343.505 Q57.8208 345.658 57.8208 349.407 Q57.8208 353.134 59.6495 355.31 Q61.5013 357.463 64.6495 357.463 Q67.7976 357.463 69.6263 355.31 Q71.4781 353.134 71.4781 349.407 Q71.4781 345.658 69.6263 343.505 Q67.7976 341.352 64.6495 341.352 M73.9318 326.699 L73.9318 330.959 Q72.1726 330.125 70.367 329.685 Q68.5846 329.246 66.8254 329.246 Q62.1958 329.246 59.7421 332.371 Q57.3115 335.496 56.9643 341.815 Q58.33 339.801 60.3902 338.736 Q62.4504 337.648 64.9272 337.648 Q70.1355 337.648 73.1448 340.82 Q76.1772 343.968 76.1772 349.407 Q76.1772 354.732 73.029 357.949 Q69.8809 361.167 64.6495 361.167 Q58.6541 361.167 55.4828 356.583 Q52.3116 351.977 52.3116 343.25 Q52.3116 335.056 56.2004 330.195 Q60.0893 325.31 66.6402 325.31 Q68.3994 325.31 70.1818 325.658 Q71.9874 326.005 73.9318 326.699 Z\" fill=\"#000000\" fill-rule=\"evenodd\" fill-opacity=\"1\" /><path clip-path=\"url(#clip762)\" d=\"\n",
       "M175.59 1261.97 L704.028 1142.76 L1232.47 946.231 L1760.9 622.205 L2289.34 87.9763 L2289.34 1445.72 L1760.9 1445.72 L1232.47 1445.72 L704.028 1445.72 L175.59 1445.72 \n",
       "   Z\n",
       "  \" fill=\"#009af9\" fill-rule=\"evenodd\" fill-opacity=\"0.3\"/>\n",
       "<polyline clip-path=\"url(#clip762)\" style=\"stroke:#009af9; stroke-linecap:butt; stroke-linejoin:round; stroke-width:4; stroke-opacity:0.3; fill:none\" points=\"\n",
       "  175.59,1261.97 704.028,1142.76 1232.47,946.231 1760.9,622.205 2289.34,87.9763 \n",
       "  \"/>\n",
       "<circle clip-path=\"url(#clip762)\" cx=\"175.59\" cy=\"1261.97\" r=\"14\" fill=\"#e26f46\" fill-rule=\"evenodd\" fill-opacity=\"1\" stroke=\"#000000\" stroke-opacity=\"1\" stroke-width=\"3.2\"/>\n",
       "<circle clip-path=\"url(#clip762)\" cx=\"704.028\" cy=\"1142.76\" r=\"14\" fill=\"#e26f46\" fill-rule=\"evenodd\" fill-opacity=\"1\" stroke=\"#000000\" stroke-opacity=\"1\" stroke-width=\"3.2\"/>\n",
       "<circle clip-path=\"url(#clip762)\" cx=\"1232.47\" cy=\"946.231\" r=\"14\" fill=\"#e26f46\" fill-rule=\"evenodd\" fill-opacity=\"1\" stroke=\"#000000\" stroke-opacity=\"1\" stroke-width=\"3.2\"/>\n",
       "<circle clip-path=\"url(#clip762)\" cx=\"1760.9\" cy=\"622.205\" r=\"14\" fill=\"#e26f46\" fill-rule=\"evenodd\" fill-opacity=\"1\" stroke=\"#000000\" stroke-opacity=\"1\" stroke-width=\"3.2\"/>\n",
       "<circle clip-path=\"url(#clip762)\" cx=\"2289.34\" cy=\"87.9763\" r=\"14\" fill=\"#e26f46\" fill-rule=\"evenodd\" fill-opacity=\"1\" stroke=\"#000000\" stroke-opacity=\"1\" stroke-width=\"3.2\"/>\n",
       "<path clip-path=\"url(#clip760)\" d=\"\n",
       "M2014.81 198.898 L2278.07 198.898 L2278.07 95.2176 L2014.81 95.2176  Z\n",
       "  \" fill=\"#ffffff\" fill-rule=\"evenodd\" fill-opacity=\"1\"/>\n",
       "<polyline clip-path=\"url(#clip760)\" style=\"stroke:#000000; stroke-linecap:butt; stroke-linejoin:round; stroke-width:4; stroke-opacity:1; fill:none\" points=\"\n",
       "  2014.81,198.898 2278.07,198.898 2278.07,95.2176 2014.81,95.2176 2014.81,198.898 \n",
       "  \"/>\n",
       "<path clip-path=\"url(#clip760)\" d=\"\n",
       "M2038.81 167.794 L2182.81 167.794 L2182.81 126.322 L2038.81 126.322 L2038.81 167.794  Z\n",
       "  \" fill=\"#009af9\" fill-rule=\"evenodd\" fill-opacity=\"0.3\"/>\n",
       "<polyline clip-path=\"url(#clip760)\" style=\"stroke:#009af9; stroke-linecap:butt; stroke-linejoin:round; stroke-width:4; stroke-opacity:0.3; fill:none\" points=\"\n",
       "  2038.81,126.322 2182.81,126.322 \n",
       "  \"/>\n",
       "<path clip-path=\"url(#clip760)\" d=\"M2230.72 135.325 Q2230.72 136.613 2229.9 137.41 Q2229.11 138.206 2228.1 138.206 Q2227.37 138.206 2226.83 137.761 Q2226.32 137.316 2226.32 136.543 Q2226.32 135.747 2226.93 134.904 Q2227.54 134.06 2228.92 133.943 Q2228 133.077 2226.55 133.077 Q2225.83 133.077 2225.22 133.545 Q2224.63 133.99 2224.3 134.716 Q2223.95 135.466 2223.16 139.705 Q2222.9 141.087 2222.66 142.422 Q2222.43 143.757 2222.15 145.163 L2226.13 145.163 Q2226.65 145.163 2226.86 145.186 Q2227.07 145.209 2227.23 145.326 Q2227.42 145.444 2227.42 145.701 Q2227.42 146.357 2227.11 146.521 Q2226.83 146.662 2225.99 146.662 L2221.87 146.662 L2218.99 161.863 Q2218.92 162.308 2218.61 163.713 Q2218.33 165.095 2217.65 167.367 Q2216.97 169.662 2216.29 171.021 Q2215.92 171.794 2215.43 172.52 Q2214.96 173.269 2214.28 174.019 Q2213.6 174.769 2212.71 175.214 Q2211.82 175.682 2210.88 175.682 Q2209.29 175.682 2208.05 174.792 Q2206.81 173.902 2206.81 172.379 Q2206.81 171.091 2207.6 170.295 Q2208.42 169.498 2209.43 169.498 Q2210.16 169.498 2210.67 169.943 Q2211.21 170.389 2211.21 171.161 Q2211.21 171.489 2211.09 171.864 Q2210.98 172.239 2210.72 172.66 Q2210.46 173.106 2209.9 173.41 Q2209.34 173.714 2208.56 173.761 Q2209.48 174.628 2210.88 174.628 Q2211.33 174.628 2211.73 174.441 Q2212.12 174.277 2212.45 173.855 Q2212.8 173.433 2213.06 173.012 Q2213.32 172.614 2213.58 171.841 Q2213.83 171.091 2214 170.529 Q2214.16 169.967 2214.37 168.96 Q2214.61 167.953 2214.72 167.344 Q2214.84 166.758 2215.05 165.61 L2218.64 146.662 L2215.47 146.662 Q2214.91 146.662 2214.68 146.638 Q2214.47 146.615 2214.3 146.498 Q2214.14 146.357 2214.14 146.076 Q2214.14 145.631 2214.33 145.444 Q2214.54 145.233 2214.77 145.209 Q2215 145.163 2215.57 145.163 L2218.89 145.163 Q2220.02 139.237 2220.46 137.644 Q2220.98 135.958 2221.77 134.786 Q2222.57 133.592 2223.46 133.03 Q2224.35 132.468 2225.08 132.257 Q2225.83 132.023 2226.55 132.023 Q2228.19 132.023 2229.46 132.913 Q2230.72 133.779 2230.72 135.325 Z\" fill=\"#000000\" fill-rule=\"evenodd\" fill-opacity=\"1\" /></svg>\n"
      ]
     },
     "execution_count": 44,
     "metadata": {},
     "output_type": "execute_result"
    }
   ],
   "source": [
    "a = 0\n",
    "b = 2\n",
    "N = 5\n",
    "dx = (b-a)/(N-1)\n",
    "x = [a + dx*(i-1) for i in 1:N]\n",
    "\n",
    "f(x) = exp(x)\n",
    "\n",
    "plot(x,f,label=L\"f\",fillrange = 0, alpha=0.3)\n",
    "scatter!(x,f,ns=5, label=\"\")"
   ]
  },
  {
   "cell_type": "markdown",
   "id": "e0f6e9f2-815f-40f8-a8c7-d755dddafc7b",
   "metadata": {},
   "source": [
    "La fórmula que me quedará será entonces:\n",
    "\n",
    "$$\n",
    "I_T(f)[a,b]_5 = I_T(f)[a,a+dx] + I_T(f)[a+dx,a+2dx] + I_T(f)[a+2dx,a+3dx] + I_T(f)[a+3dx,a+b]\n",
    "$$"
   ]
  },
  {
   "cell_type": "markdown",
   "id": "83d93358-6cf3-4bad-9502-cb2b2a15c053",
   "metadata": {},
   "source": [
    "$$\n",
    "I_T(f)[a,b]_5 = [\\frac{f(a) + f(a+dx)}{2} + \\frac{f(a+dx) + f(a+2dx)}{2}  + \\frac{f(a+2dx) + f(a+3dx)}{2}  + \\frac{f(a+3dx) + f(b)}{2}]dx\n",
    "$$\n"
   ]
  },
  {
   "cell_type": "markdown",
   "id": "87dc43b2-d0f8-4a3b-9ca4-60bdafff0c66",
   "metadata": {},
   "source": [
    "$$\n",
    "I_T(f)[a,b]_5 = [\\frac{1}{2}f(a) + f(a+dx) + f(a+2dx)  + f(a+3dx) + \\frac{f(b)}{2}]dx\n",
    "$$"
   ]
  },
  {
   "cell_type": "markdown",
   "id": "2cfe2653-e52a-4454-b5e3-48b4098697b1",
   "metadata": {},
   "source": [
    "En general tendremos:\n",
    "\n",
    "$$\n",
    "I_T(f)[a,b]_N = [\\frac{1}{2}(f(a)+f(b)) + \\sum_{i=2}^{N-1} f(a+dx*(i-1))]*dx\n",
    "$$\n",
    "\n",
    "$$\n",
    "I_T(f)[a,b]_N = [\\frac{1}{2}(f(a)+f(b)) + \\sum_{i=2}^{N-1} f(x_i)]*dx\n",
    "$$"
   ]
  },
  {
   "cell_type": "markdown",
   "id": "d42c3c68-5b1f-4476-beb9-c6c1e0614837",
   "metadata": {},
   "source": [
    "#### Ejemplo:\n",
    "\n",
    "$$\n",
    "I_e = \\int_0^2 e^x\\; dx = 6.38905609893065\n",
    "$$\n",
    "\n",
    "$$\n",
    "I_T(e)[0,2]_5 = [(e^0 + e^2)/2 + e^{0.5} + e^{1} + e^{1.5}]\\frac{2}{4}\n",
    "$$"
   ]
  },
  {
   "cell_type": "code",
   "execution_count": 37,
   "id": "478b12e6-83da-43cc-82b8-8e7e430d5314",
   "metadata": {},
   "outputs": [
    {
     "name": "stdout",
     "output_type": "stream",
     "text": [
      "I_T = [(1.0 + 7.38905609893065)/2 + 1.6487212707001282 + 2.718281828459045 + 4.4816890703380645)/2\n",
      "I_T = 6.521610109481282\n"
     ]
    }
   ],
   "source": [
    "println(\"I_T = [($(exp(0)) + $(exp(2)))/2 + $(exp(0.5)) + $(exp(1)) + $(exp(1.5)))/2\") \n",
    "I_T = (((exp(0) + exp(2))/2 + (exp(0.5)) + (exp(1)) + (exp(1.5)))/2)\n",
    "println(\"I_T = $(I_T)\") "
   ]
  },
  {
   "cell_type": "code",
   "execution_count": 38,
   "id": "54126185-16b5-4392-8568-c636e6e370b7",
   "metadata": {},
   "outputs": [
    {
     "data": {
      "text/plain": [
       "-0.13255401055063132"
      ]
     },
     "execution_count": 38,
     "metadata": {},
     "output_type": "execute_result"
    }
   ],
   "source": [
    "I_e = 6.38905609893065\n",
    "I_e - I_T "
   ]
  },
  {
   "cell_type": "code",
   "execution_count": 46,
   "id": "73502ff7-a05f-43be-b0d2-4e2161db312a",
   "metadata": {},
   "outputs": [
    {
     "data": {
      "text/plain": [
       "6.422297821432638"
      ]
     },
     "execution_count": 46,
     "metadata": {},
     "output_type": "execute_result"
    }
   ],
   "source": [
    "N = 9\n",
    "a = 0\n",
    "b = 2\n",
    "dx = (b-a)/(N-1)\n",
    "x = [a + dx*(i-1) for i in 1:N]\n",
    "y = exp.(x)\n",
    "\n",
    "I_T_9 = (sum(y) - (y[1]+y[N])/2)*dx"
   ]
  },
  {
   "cell_type": "code",
   "execution_count": 48,
   "id": "2c6d9cd2-608f-43ef-b725-cb92748cd928",
   "metadata": {},
   "outputs": [
    {
     "data": {
      "image/svg+xml": [
       "<?xml version=\"1.0\" encoding=\"utf-8\"?>\n",
       "<svg xmlns=\"http://www.w3.org/2000/svg\" xmlns:xlink=\"http://www.w3.org/1999/xlink\" width=\"600\" height=\"400\" viewBox=\"0 0 2400 1600\">\n",
       "<defs>\n",
       "  <clipPath id=\"clip860\">\n",
       "    <rect x=\"0\" y=\"0\" width=\"2400\" height=\"1600\"/>\n",
       "  </clipPath>\n",
       "</defs>\n",
       "<path clip-path=\"url(#clip860)\" d=\"\n",
       "M0 1600 L2400 1600 L2400 0 L0 0  Z\n",
       "  \" fill=\"#ffffff\" fill-rule=\"evenodd\" fill-opacity=\"1\"/>\n",
       "<defs>\n",
       "  <clipPath id=\"clip861\">\n",
       "    <rect x=\"480\" y=\"0\" width=\"1681\" height=\"1600\"/>\n",
       "  </clipPath>\n",
       "</defs>\n",
       "<defs>\n",
       "  <clipPath id=\"clip862\">\n",
       "    <rect x=\"112\" y=\"47\" width=\"2242\" height=\"1440\"/>\n",
       "  </clipPath>\n",
       "</defs>\n",
       "<path clip-path=\"url(#clip860)\" d=\"\n",
       "M112.177 1486.45 L2352.76 1486.45 L2352.76 47.2441 L112.177 47.2441  Z\n",
       "  \" fill=\"#ffffff\" fill-rule=\"evenodd\" fill-opacity=\"1\"/>\n",
       "<polyline clip-path=\"url(#clip862)\" style=\"stroke:#000000; stroke-linecap:butt; stroke-linejoin:round; stroke-width:2; stroke-opacity:0.1; fill:none\" points=\"\n",
       "  175.59,1486.45 175.59,47.2441 \n",
       "  \"/>\n",
       "<polyline clip-path=\"url(#clip862)\" style=\"stroke:#000000; stroke-linecap:butt; stroke-linejoin:round; stroke-width:2; stroke-opacity:0.1; fill:none\" points=\"\n",
       "  704.028,1486.45 704.028,47.2441 \n",
       "  \"/>\n",
       "<polyline clip-path=\"url(#clip862)\" style=\"stroke:#000000; stroke-linecap:butt; stroke-linejoin:round; stroke-width:2; stroke-opacity:0.1; fill:none\" points=\"\n",
       "  1232.47,1486.45 1232.47,47.2441 \n",
       "  \"/>\n",
       "<polyline clip-path=\"url(#clip862)\" style=\"stroke:#000000; stroke-linecap:butt; stroke-linejoin:round; stroke-width:2; stroke-opacity:0.1; fill:none\" points=\"\n",
       "  1760.9,1486.45 1760.9,47.2441 \n",
       "  \"/>\n",
       "<polyline clip-path=\"url(#clip862)\" style=\"stroke:#000000; stroke-linecap:butt; stroke-linejoin:round; stroke-width:2; stroke-opacity:0.1; fill:none\" points=\"\n",
       "  2289.34,1486.45 2289.34,47.2441 \n",
       "  \"/>\n",
       "<polyline clip-path=\"url(#clip860)\" style=\"stroke:#000000; stroke-linecap:butt; stroke-linejoin:round; stroke-width:4; stroke-opacity:1; fill:none\" points=\"\n",
       "  112.177,1486.45 2352.76,1486.45 \n",
       "  \"/>\n",
       "<polyline clip-path=\"url(#clip860)\" style=\"stroke:#000000; stroke-linecap:butt; stroke-linejoin:round; stroke-width:4; stroke-opacity:1; fill:none\" points=\"\n",
       "  175.59,1486.45 175.59,1467.55 \n",
       "  \"/>\n",
       "<polyline clip-path=\"url(#clip860)\" style=\"stroke:#000000; stroke-linecap:butt; stroke-linejoin:round; stroke-width:4; stroke-opacity:1; fill:none\" points=\"\n",
       "  704.028,1486.45 704.028,1467.55 \n",
       "  \"/>\n",
       "<polyline clip-path=\"url(#clip860)\" style=\"stroke:#000000; stroke-linecap:butt; stroke-linejoin:round; stroke-width:4; stroke-opacity:1; fill:none\" points=\"\n",
       "  1232.47,1486.45 1232.47,1467.55 \n",
       "  \"/>\n",
       "<polyline clip-path=\"url(#clip860)\" style=\"stroke:#000000; stroke-linecap:butt; stroke-linejoin:round; stroke-width:4; stroke-opacity:1; fill:none\" points=\"\n",
       "  1760.9,1486.45 1760.9,1467.55 \n",
       "  \"/>\n",
       "<polyline clip-path=\"url(#clip860)\" style=\"stroke:#000000; stroke-linecap:butt; stroke-linejoin:round; stroke-width:4; stroke-opacity:1; fill:none\" points=\"\n",
       "  2289.34,1486.45 2289.34,1467.55 \n",
       "  \"/>\n",
       "<path clip-path=\"url(#clip860)\" d=\"M152.974 1517.37 Q149.363 1517.37 147.534 1520.93 Q145.729 1524.47 145.729 1531.6 Q145.729 1538.71 147.534 1542.27 Q149.363 1545.82 152.974 1545.82 Q156.608 1545.82 158.414 1542.27 Q160.243 1538.71 160.243 1531.6 Q160.243 1524.47 158.414 1520.93 Q156.608 1517.37 152.974 1517.37 M152.974 1513.66 Q158.784 1513.66 161.84 1518.27 Q164.919 1522.85 164.919 1531.6 Q164.919 1540.33 161.84 1544.94 Q158.784 1549.52 152.974 1549.52 Q147.164 1549.52 144.085 1544.94 Q141.03 1540.33 141.03 1531.6 Q141.03 1522.85 144.085 1518.27 Q147.164 1513.66 152.974 1513.66 Z\" fill=\"#000000\" fill-rule=\"evenodd\" fill-opacity=\"1\" /><path clip-path=\"url(#clip860)\" d=\"M173.136 1542.97 L178.02 1542.97 L178.02 1548.85 L173.136 1548.85 L173.136 1542.97 Z\" fill=\"#000000\" fill-rule=\"evenodd\" fill-opacity=\"1\" /><path clip-path=\"url(#clip860)\" d=\"M198.205 1517.37 Q194.594 1517.37 192.766 1520.93 Q190.96 1524.47 190.96 1531.6 Q190.96 1538.71 192.766 1542.27 Q194.594 1545.82 198.205 1545.82 Q201.84 1545.82 203.645 1542.27 Q205.474 1538.71 205.474 1531.6 Q205.474 1524.47 203.645 1520.93 Q201.84 1517.37 198.205 1517.37 M198.205 1513.66 Q204.016 1513.66 207.071 1518.27 Q210.15 1522.85 210.15 1531.6 Q210.15 1540.33 207.071 1544.94 Q204.016 1549.52 198.205 1549.52 Q192.395 1549.52 189.317 1544.94 Q186.261 1540.33 186.261 1531.6 Q186.261 1522.85 189.317 1518.27 Q192.395 1513.66 198.205 1513.66 Z\" fill=\"#000000\" fill-rule=\"evenodd\" fill-opacity=\"1\" /><path clip-path=\"url(#clip860)\" d=\"M681.91 1517.37 Q678.299 1517.37 676.47 1520.93 Q674.665 1524.47 674.665 1531.6 Q674.665 1538.71 676.47 1542.27 Q678.299 1545.82 681.91 1545.82 Q685.544 1545.82 687.35 1542.27 Q689.179 1538.71 689.179 1531.6 Q689.179 1524.47 687.35 1520.93 Q685.544 1517.37 681.91 1517.37 M681.91 1513.66 Q687.72 1513.66 690.776 1518.27 Q693.855 1522.85 693.855 1531.6 Q693.855 1540.33 690.776 1544.94 Q687.72 1549.52 681.91 1549.52 Q676.1 1549.52 673.021 1544.94 Q669.966 1540.33 669.966 1531.6 Q669.966 1522.85 673.021 1518.27 Q676.1 1513.66 681.91 1513.66 Z\" fill=\"#000000\" fill-rule=\"evenodd\" fill-opacity=\"1\" /><path clip-path=\"url(#clip860)\" d=\"M702.072 1542.97 L706.956 1542.97 L706.956 1548.85 L702.072 1548.85 L702.072 1542.97 Z\" fill=\"#000000\" fill-rule=\"evenodd\" fill-opacity=\"1\" /><path clip-path=\"url(#clip860)\" d=\"M717.188 1514.29 L735.544 1514.29 L735.544 1518.22 L721.47 1518.22 L721.47 1526.7 Q722.489 1526.35 723.507 1526.19 Q724.526 1526 725.544 1526 Q731.331 1526 734.711 1529.17 Q738.09 1532.34 738.09 1537.76 Q738.09 1543.34 734.618 1546.44 Q731.146 1549.52 724.827 1549.52 Q722.651 1549.52 720.382 1549.15 Q718.137 1548.78 715.729 1548.04 L715.729 1543.34 Q717.813 1544.47 720.035 1545.03 Q722.257 1545.58 724.734 1545.58 Q728.739 1545.58 731.077 1543.48 Q733.415 1541.37 733.415 1537.76 Q733.415 1534.15 731.077 1532.04 Q728.739 1529.94 724.734 1529.94 Q722.859 1529.94 720.984 1530.35 Q719.132 1530.77 717.188 1531.65 L717.188 1514.29 Z\" fill=\"#000000\" fill-rule=\"evenodd\" fill-opacity=\"1\" /><path clip-path=\"url(#clip860)\" d=\"M1199.62 1544.91 L1207.26 1544.91 L1207.26 1518.55 L1198.95 1520.21 L1198.95 1515.95 L1207.21 1514.29 L1211.89 1514.29 L1211.89 1544.91 L1219.53 1544.91 L1219.53 1548.85 L1199.62 1548.85 L1199.62 1544.91 Z\" fill=\"#000000\" fill-rule=\"evenodd\" fill-opacity=\"1\" /><path clip-path=\"url(#clip860)\" d=\"M1228.97 1542.97 L1233.86 1542.97 L1233.86 1548.85 L1228.97 1548.85 L1228.97 1542.97 Z\" fill=\"#000000\" fill-rule=\"evenodd\" fill-opacity=\"1\" /><path clip-path=\"url(#clip860)\" d=\"M1254.04 1517.37 Q1250.43 1517.37 1248.6 1520.93 Q1246.8 1524.47 1246.8 1531.6 Q1246.8 1538.71 1248.6 1542.27 Q1250.43 1545.82 1254.04 1545.82 Q1257.67 1545.82 1259.48 1542.27 Q1261.31 1538.71 1261.31 1531.6 Q1261.31 1524.47 1259.48 1520.93 Q1257.67 1517.37 1254.04 1517.37 M1254.04 1513.66 Q1259.85 1513.66 1262.91 1518.27 Q1265.98 1522.85 1265.98 1531.6 Q1265.98 1540.33 1262.91 1544.94 Q1259.85 1549.52 1254.04 1549.52 Q1248.23 1549.52 1245.15 1544.94 Q1242.1 1540.33 1242.1 1531.6 Q1242.1 1522.85 1245.15 1518.27 Q1248.23 1513.66 1254.04 1513.66 Z\" fill=\"#000000\" fill-rule=\"evenodd\" fill-opacity=\"1\" /><path clip-path=\"url(#clip860)\" d=\"M1728.56 1544.91 L1736.19 1544.91 L1736.19 1518.55 L1727.88 1520.21 L1727.88 1515.95 L1736.15 1514.29 L1740.82 1514.29 L1740.82 1544.91 L1748.46 1544.91 L1748.46 1548.85 L1728.56 1548.85 L1728.56 1544.91 Z\" fill=\"#000000\" fill-rule=\"evenodd\" fill-opacity=\"1\" /><path clip-path=\"url(#clip860)\" d=\"M1757.91 1542.97 L1762.79 1542.97 L1762.79 1548.85 L1757.91 1548.85 L1757.91 1542.97 Z\" fill=\"#000000\" fill-rule=\"evenodd\" fill-opacity=\"1\" /><path clip-path=\"url(#clip860)\" d=\"M1773.02 1514.29 L1791.38 1514.29 L1791.38 1518.22 L1777.31 1518.22 L1777.31 1526.7 Q1778.32 1526.35 1779.34 1526.19 Q1780.36 1526 1781.38 1526 Q1787.17 1526 1790.55 1529.17 Q1793.93 1532.34 1793.93 1537.76 Q1793.93 1543.34 1790.45 1546.44 Q1786.98 1549.52 1780.66 1549.52 Q1778.49 1549.52 1776.22 1549.15 Q1773.97 1548.78 1771.56 1548.04 L1771.56 1543.34 Q1773.65 1544.47 1775.87 1545.03 Q1778.09 1545.58 1780.57 1545.58 Q1784.57 1545.58 1786.91 1543.48 Q1789.25 1541.37 1789.25 1537.76 Q1789.25 1534.15 1786.91 1532.04 Q1784.57 1529.94 1780.57 1529.94 Q1778.69 1529.94 1776.82 1530.35 Q1774.97 1530.77 1773.02 1531.65 L1773.02 1514.29 Z\" fill=\"#000000\" fill-rule=\"evenodd\" fill-opacity=\"1\" /><path clip-path=\"url(#clip860)\" d=\"M2260.58 1544.91 L2276.9 1544.91 L2276.9 1548.85 L2254.96 1548.85 L2254.96 1544.91 Q2257.62 1542.16 2262.2 1537.53 Q2266.81 1532.88 2267.99 1531.53 Q2270.23 1529.01 2271.11 1527.27 Q2272.02 1525.51 2272.02 1523.82 Q2272.02 1521.07 2270.07 1519.33 Q2268.15 1517.6 2265.05 1517.6 Q2262.85 1517.6 2260.4 1518.36 Q2257.97 1519.13 2255.19 1520.68 L2255.19 1515.95 Q2258.01 1514.82 2260.47 1514.24 Q2262.92 1513.66 2264.96 1513.66 Q2270.33 1513.66 2273.52 1516.35 Q2276.72 1519.03 2276.72 1523.52 Q2276.72 1525.65 2275.91 1527.57 Q2275.12 1529.47 2273.01 1532.07 Q2272.43 1532.74 2269.33 1535.95 Q2266.23 1539.15 2260.58 1544.91 Z\" fill=\"#000000\" fill-rule=\"evenodd\" fill-opacity=\"1\" /><path clip-path=\"url(#clip860)\" d=\"M2286.72 1542.97 L2291.6 1542.97 L2291.6 1548.85 L2286.72 1548.85 L2286.72 1542.97 Z\" fill=\"#000000\" fill-rule=\"evenodd\" fill-opacity=\"1\" /><path clip-path=\"url(#clip860)\" d=\"M2311.79 1517.37 Q2308.17 1517.37 2306.35 1520.93 Q2304.54 1524.47 2304.54 1531.6 Q2304.54 1538.71 2306.35 1542.27 Q2308.17 1545.82 2311.79 1545.82 Q2315.42 1545.82 2317.23 1542.27 Q2319.05 1538.71 2319.05 1531.6 Q2319.05 1524.47 2317.23 1520.93 Q2315.42 1517.37 2311.79 1517.37 M2311.79 1513.66 Q2317.6 1513.66 2320.65 1518.27 Q2323.73 1522.85 2323.73 1531.6 Q2323.73 1540.33 2320.65 1544.94 Q2317.6 1549.52 2311.79 1549.52 Q2305.98 1549.52 2302.9 1544.94 Q2299.84 1540.33 2299.84 1531.6 Q2299.84 1522.85 2302.9 1518.27 Q2305.98 1513.66 2311.79 1513.66 Z\" fill=\"#000000\" fill-rule=\"evenodd\" fill-opacity=\"1\" /><polyline clip-path=\"url(#clip862)\" style=\"stroke:#000000; stroke-linecap:butt; stroke-linejoin:round; stroke-width:2; stroke-opacity:0.1; fill:none\" points=\"\n",
       "  112.177,1445.72 2352.76,1445.72 \n",
       "  \"/>\n",
       "<polyline clip-path=\"url(#clip862)\" style=\"stroke:#000000; stroke-linecap:butt; stroke-linejoin:round; stroke-width:2; stroke-opacity:0.1; fill:none\" points=\"\n",
       "  112.177,1078.22 2352.76,1078.22 \n",
       "  \"/>\n",
       "<polyline clip-path=\"url(#clip862)\" style=\"stroke:#000000; stroke-linecap:butt; stroke-linejoin:round; stroke-width:2; stroke-opacity:0.1; fill:none\" points=\"\n",
       "  112.177,710.715 2352.76,710.715 \n",
       "  \"/>\n",
       "<polyline clip-path=\"url(#clip862)\" style=\"stroke:#000000; stroke-linecap:butt; stroke-linejoin:round; stroke-width:2; stroke-opacity:0.1; fill:none\" points=\"\n",
       "  112.177,343.215 2352.76,343.215 \n",
       "  \"/>\n",
       "<polyline clip-path=\"url(#clip860)\" style=\"stroke:#000000; stroke-linecap:butt; stroke-linejoin:round; stroke-width:4; stroke-opacity:1; fill:none\" points=\"\n",
       "  112.177,1486.45 112.177,47.2441 \n",
       "  \"/>\n",
       "<polyline clip-path=\"url(#clip860)\" style=\"stroke:#000000; stroke-linecap:butt; stroke-linejoin:round; stroke-width:4; stroke-opacity:1; fill:none\" points=\"\n",
       "  112.177,1445.72 131.075,1445.72 \n",
       "  \"/>\n",
       "<polyline clip-path=\"url(#clip860)\" style=\"stroke:#000000; stroke-linecap:butt; stroke-linejoin:round; stroke-width:4; stroke-opacity:1; fill:none\" points=\"\n",
       "  112.177,1078.22 131.075,1078.22 \n",
       "  \"/>\n",
       "<polyline clip-path=\"url(#clip860)\" style=\"stroke:#000000; stroke-linecap:butt; stroke-linejoin:round; stroke-width:4; stroke-opacity:1; fill:none\" points=\"\n",
       "  112.177,710.715 131.075,710.715 \n",
       "  \"/>\n",
       "<polyline clip-path=\"url(#clip860)\" style=\"stroke:#000000; stroke-linecap:butt; stroke-linejoin:round; stroke-width:4; stroke-opacity:1; fill:none\" points=\"\n",
       "  112.177,343.215 131.075,343.215 \n",
       "  \"/>\n",
       "<path clip-path=\"url(#clip860)\" d=\"M64.2328 1431.51 Q60.6217 1431.51 58.793 1435.08 Q56.9875 1438.62 56.9875 1445.75 Q56.9875 1452.86 58.793 1456.42 Q60.6217 1459.96 64.2328 1459.96 Q67.867 1459.96 69.6726 1456.42 Q71.5013 1452.86 71.5013 1445.75 Q71.5013 1438.62 69.6726 1435.08 Q67.867 1431.51 64.2328 1431.51 M64.2328 1427.81 Q70.0429 1427.81 73.0985 1432.42 Q76.1772 1437 76.1772 1445.75 Q76.1772 1454.48 73.0985 1459.08 Q70.0429 1463.67 64.2328 1463.67 Q58.4226 1463.67 55.344 1459.08 Q52.2884 1454.48 52.2884 1445.75 Q52.2884 1437 55.344 1432.42 Q58.4226 1427.81 64.2328 1427.81 Z\" fill=\"#000000\" fill-rule=\"evenodd\" fill-opacity=\"1\" /><path clip-path=\"url(#clip860)\" d=\"M59.8578 1091.56 L76.1772 1091.56 L76.1772 1095.5 L54.2328 1095.5 L54.2328 1091.56 Q56.8949 1088.81 61.4782 1084.18 Q66.0846 1079.52 67.2652 1078.18 Q69.5105 1075.66 70.3902 1073.92 Q71.2929 1072.16 71.2929 1070.47 Q71.2929 1067.72 69.3485 1065.98 Q67.4272 1064.25 64.3254 1064.25 Q62.1263 1064.25 59.6726 1065.01 Q57.2421 1065.77 54.4643 1067.32 L54.4643 1062.6 Q57.2884 1061.47 59.7421 1060.89 Q62.1958 1060.31 64.2328 1060.31 Q69.6031 1060.31 72.7976 1063 Q75.992 1065.68 75.992 1070.17 Q75.992 1072.3 75.1818 1074.22 Q74.3948 1076.12 72.2883 1078.71 Q71.7096 1079.38 68.6078 1082.6 Q65.5059 1085.8 59.8578 1091.56 Z\" fill=\"#000000\" fill-rule=\"evenodd\" fill-opacity=\"1\" /><path clip-path=\"url(#clip860)\" d=\"M66.5939 697.51 L54.7884 715.959 L66.5939 715.959 L66.5939 697.51 M65.367 693.435 L71.2466 693.435 L71.2466 715.959 L76.1772 715.959 L76.1772 719.847 L71.2466 719.847 L71.2466 727.995 L66.5939 727.995 L66.5939 719.847 L50.9921 719.847 L50.9921 715.334 L65.367 693.435 Z\" fill=\"#000000\" fill-rule=\"evenodd\" fill-opacity=\"1\" /><path clip-path=\"url(#clip860)\" d=\"M64.6495 341.352 Q61.5013 341.352 59.6495 343.505 Q57.8208 345.658 57.8208 349.407 Q57.8208 353.134 59.6495 355.31 Q61.5013 357.463 64.6495 357.463 Q67.7976 357.463 69.6263 355.31 Q71.4781 353.134 71.4781 349.407 Q71.4781 345.658 69.6263 343.505 Q67.7976 341.352 64.6495 341.352 M73.9318 326.699 L73.9318 330.959 Q72.1726 330.125 70.367 329.685 Q68.5846 329.246 66.8254 329.246 Q62.1958 329.246 59.7421 332.371 Q57.3115 335.496 56.9643 341.815 Q58.33 339.801 60.3902 338.736 Q62.4504 337.648 64.9272 337.648 Q70.1355 337.648 73.1448 340.82 Q76.1772 343.968 76.1772 349.407 Q76.1772 354.732 73.029 357.949 Q69.8809 361.167 64.6495 361.167 Q58.6541 361.167 55.4828 356.583 Q52.3116 351.977 52.3116 343.25 Q52.3116 335.056 56.2004 330.195 Q60.0893 325.31 66.6402 325.31 Q68.3994 325.31 70.1818 325.658 Q71.9874 326.005 73.9318 326.699 Z\" fill=\"#000000\" fill-rule=\"evenodd\" fill-opacity=\"1\" /><path clip-path=\"url(#clip862)\" d=\"\n",
       "M175.59 1261.97 L439.809 1209.78 L704.028 1142.76 L968.247 1056.72 L1232.47 946.231 L1496.69 804.365 L1760.9 622.205 L2025.12 388.307 L2289.34 87.9763 L2289.34 1445.72 \n",
       "  L2025.12 1445.72 L1760.9 1445.72 L1496.69 1445.72 L1232.47 1445.72 L968.247 1445.72 L704.028 1445.72 L439.809 1445.72 L175.59 1445.72  Z\n",
       "  \" fill=\"#009af9\" fill-rule=\"evenodd\" fill-opacity=\"0.3\"/>\n",
       "<polyline clip-path=\"url(#clip862)\" style=\"stroke:#009af9; stroke-linecap:butt; stroke-linejoin:round; stroke-width:4; stroke-opacity:0.3; fill:none\" points=\"\n",
       "  175.59,1261.97 439.809,1209.78 704.028,1142.76 968.247,1056.72 1232.47,946.231 1496.69,804.365 1760.9,622.205 2025.12,388.307 2289.34,87.9763 \n",
       "  \"/>\n",
       "<circle clip-path=\"url(#clip862)\" cx=\"175.59\" cy=\"1261.97\" r=\"14\" fill=\"#e26f46\" fill-rule=\"evenodd\" fill-opacity=\"1\" stroke=\"#000000\" stroke-opacity=\"1\" stroke-width=\"3.2\"/>\n",
       "<circle clip-path=\"url(#clip862)\" cx=\"439.809\" cy=\"1209.78\" r=\"14\" fill=\"#e26f46\" fill-rule=\"evenodd\" fill-opacity=\"1\" stroke=\"#000000\" stroke-opacity=\"1\" stroke-width=\"3.2\"/>\n",
       "<circle clip-path=\"url(#clip862)\" cx=\"704.028\" cy=\"1142.76\" r=\"14\" fill=\"#e26f46\" fill-rule=\"evenodd\" fill-opacity=\"1\" stroke=\"#000000\" stroke-opacity=\"1\" stroke-width=\"3.2\"/>\n",
       "<circle clip-path=\"url(#clip862)\" cx=\"968.247\" cy=\"1056.72\" r=\"14\" fill=\"#e26f46\" fill-rule=\"evenodd\" fill-opacity=\"1\" stroke=\"#000000\" stroke-opacity=\"1\" stroke-width=\"3.2\"/>\n",
       "<circle clip-path=\"url(#clip862)\" cx=\"1232.47\" cy=\"946.231\" r=\"14\" fill=\"#e26f46\" fill-rule=\"evenodd\" fill-opacity=\"1\" stroke=\"#000000\" stroke-opacity=\"1\" stroke-width=\"3.2\"/>\n",
       "<circle clip-path=\"url(#clip862)\" cx=\"1496.69\" cy=\"804.365\" r=\"14\" fill=\"#e26f46\" fill-rule=\"evenodd\" fill-opacity=\"1\" stroke=\"#000000\" stroke-opacity=\"1\" stroke-width=\"3.2\"/>\n",
       "<circle clip-path=\"url(#clip862)\" cx=\"1760.9\" cy=\"622.205\" r=\"14\" fill=\"#e26f46\" fill-rule=\"evenodd\" fill-opacity=\"1\" stroke=\"#000000\" stroke-opacity=\"1\" stroke-width=\"3.2\"/>\n",
       "<circle clip-path=\"url(#clip862)\" cx=\"2025.12\" cy=\"388.307\" r=\"14\" fill=\"#e26f46\" fill-rule=\"evenodd\" fill-opacity=\"1\" stroke=\"#000000\" stroke-opacity=\"1\" stroke-width=\"3.2\"/>\n",
       "<circle clip-path=\"url(#clip862)\" cx=\"2289.34\" cy=\"87.9763\" r=\"14\" fill=\"#e26f46\" fill-rule=\"evenodd\" fill-opacity=\"1\" stroke=\"#000000\" stroke-opacity=\"1\" stroke-width=\"3.2\"/>\n",
       "<path clip-path=\"url(#clip860)\" d=\"\n",
       "M186.863 198.898 L450.126 198.898 L450.126 95.2176 L186.863 95.2176  Z\n",
       "  \" fill=\"#ffffff\" fill-rule=\"evenodd\" fill-opacity=\"1\"/>\n",
       "<polyline clip-path=\"url(#clip860)\" style=\"stroke:#000000; stroke-linecap:butt; stroke-linejoin:round; stroke-width:4; stroke-opacity:1; fill:none\" points=\"\n",
       "  186.863,198.898 450.126,198.898 450.126,95.2176 186.863,95.2176 186.863,198.898 \n",
       "  \"/>\n",
       "<path clip-path=\"url(#clip860)\" d=\"\n",
       "M210.863 167.794 L354.863 167.794 L354.863 126.322 L210.863 126.322 L210.863 167.794  Z\n",
       "  \" fill=\"#009af9\" fill-rule=\"evenodd\" fill-opacity=\"0.3\"/>\n",
       "<polyline clip-path=\"url(#clip860)\" style=\"stroke:#009af9; stroke-linecap:butt; stroke-linejoin:round; stroke-width:4; stroke-opacity:0.3; fill:none\" points=\"\n",
       "  210.863,126.322 354.863,126.322 \n",
       "  \"/>\n",
       "<path clip-path=\"url(#clip860)\" d=\"M402.777 135.325 Q402.777 136.613 401.958 137.41 Q401.161 138.206 400.154 138.206 Q399.428 138.206 398.889 137.761 Q398.374 137.316 398.374 136.543 Q398.374 135.747 398.983 134.904 Q399.592 134.06 400.974 133.943 Q400.06 133.077 398.608 133.077 Q397.882 133.077 397.273 133.545 Q396.688 133.99 396.36 134.716 Q396.008 135.466 395.212 139.705 Q394.954 141.087 394.72 142.422 Q394.486 143.757 394.205 145.163 L398.187 145.163 Q398.702 145.163 398.913 145.186 Q399.124 145.209 399.288 145.326 Q399.475 145.444 399.475 145.701 Q399.475 146.357 399.17 146.521 Q398.889 146.662 398.046 146.662 L393.924 146.662 L391.043 161.863 Q390.973 162.308 390.668 163.713 Q390.387 165.095 389.708 167.367 Q389.028 169.662 388.349 171.021 Q387.974 171.794 387.483 172.52 Q387.014 173.269 386.335 174.019 Q385.656 174.769 384.766 175.214 Q383.876 175.682 382.939 175.682 Q381.346 175.682 380.105 174.792 Q378.863 173.902 378.863 172.379 Q378.863 171.091 379.659 170.295 Q380.479 169.498 381.486 169.498 Q382.213 169.498 382.728 169.943 Q383.267 170.389 383.267 171.161 Q383.267 171.489 383.149 171.864 Q383.032 172.239 382.775 172.66 Q382.517 173.106 381.955 173.41 Q381.393 173.714 380.62 173.761 Q381.533 174.628 382.939 174.628 Q383.384 174.628 383.782 174.441 Q384.18 174.277 384.508 173.855 Q384.859 173.433 385.117 173.012 Q385.375 172.614 385.632 171.841 Q385.89 171.091 386.054 170.529 Q386.218 169.967 386.429 168.96 Q386.663 167.953 386.78 167.344 Q386.897 166.758 387.108 165.61 L390.691 146.662 L387.529 146.662 Q386.967 146.662 386.733 146.638 Q386.522 146.615 386.358 146.498 Q386.194 146.357 386.194 146.076 Q386.194 145.631 386.382 145.444 Q386.593 145.233 386.827 145.209 Q387.061 145.163 387.623 145.163 L390.949 145.163 Q392.073 139.237 392.518 137.644 Q393.034 135.958 393.83 134.786 Q394.626 133.592 395.516 133.03 Q396.407 132.468 397.133 132.257 Q397.882 132.023 398.608 132.023 Q400.248 132.023 401.513 132.913 Q402.777 133.779 402.777 135.325 Z\" fill=\"#000000\" fill-rule=\"evenodd\" fill-opacity=\"1\" /></svg>\n"
      ]
     },
     "execution_count": 48,
     "metadata": {},
     "output_type": "execute_result"
    }
   ],
   "source": [
    "plot(x,y,label=L\"f\",fillrange = 0, alpha=0.3, legend=:topleft)\n",
    "scatter!(x,y,ns=5, label=\"\")"
   ]
  },
  {
   "cell_type": "markdown",
   "id": "d47561a3-81e3-4d1b-b95e-2965ae578649",
   "metadata": {},
   "source": [
    "### Estimación del error\n",
    "\n",
    "Recordemos que el error de cada término era de:\n",
    "\n",
    "$$\n",
    "Error_T(f)[x,x+dx] = C_2 \\frac{dx^3}{12} \\;\\;\\;\\;\\;\\; \n",
    "$$\n",
    "\n",
    "$$\n",
    "C_2 = \\max_{\\zeta \\in [x,x+dx]}\\{|f^{''}(\\zeta)|\\}\n",
    "$$\n",
    "\n",
    "Como estaremos sumando $N-1$ términos, los errores se suman en valor absoluto para la cota y por ende tenemos:\n",
    "\n",
    "$$\n",
    "Error_T(f)[a,b] = C_2 \\frac{dx^3}{12}(N-1) = C_2 \\frac{dx^2}{12}(b-a)\n",
    "$$\n",
    "\n",
    "Donde ahora,\n",
    "\n",
    "$$\n",
    "C_2 = \\max_{\\zeta \\in [a,b]}\\{|f^{''}(\\zeta)|\\}\n",
    "$$\n",
    "\n",
    "**El error decrece cuadráticamente con $dx$ o sea con $\\frac{1}{N-1}$**"
   ]
  },
  {
   "cell_type": "markdown",
   "id": "413a58eb-81e6-43fd-b1fc-63aa4cd4c9ff",
   "metadata": {},
   "source": [
    "### Regla de Simpson\n",
    "\n",
    "En la regla de Simpson tendremos igualmente (tomando de a dos puntos):\n",
    "\n",
    "$$\n",
    "I_S(f)[a,b]_5 = I_S(f)[a,a+2dx] + I_S(f)[a+2dx,b]\n",
    "$$\n",
    "\n",
    "$$\n",
    "I_S(f)[a,b]_5 = [(f(a) + f(a+2dx) + 4 f(a+dx)]\\frac{2dx}{6} + (f(a+2dx) + f(b) + 4 f(a+3dx)]\\frac{2dx}{6}\n",
    "$$\n",
    "\n",
    "$$\n",
    "I_S(f)[a,b]_5 = [(f(a) + 4 f(a+dx) + 2f(a+2dx) + 4 f(a+3dx) + f(b)]\\frac{dx}{3}\n",
    "$$"
   ]
  },
  {
   "cell_type": "markdown",
   "id": "fd6ac942-962e-4d1d-9b2f-7495ee8e6898",
   "metadata": {},
   "source": [
    "#### Ejemplo: \n",
    "\n",
    "$$\n",
    "I_e = \\int_0^2 e^x\\; dx = 6.38905609893065\n",
    "$$\n",
    "\n",
    "$$\n",
    "I_S(e)[0,2]_5 = [e^0 + e^2 + 4e^{0.5} + 2e^{1} + 4e^{1.5}]\\frac{0.5}{3}\n",
    "$$"
   ]
  },
  {
   "cell_type": "code",
   "execution_count": 41,
   "id": "e35ebe3e-889b-436a-8c4e-2c34008c420d",
   "metadata": {},
   "outputs": [
    {
     "name": "stdout",
     "output_type": "stream",
     "text": [
      "I_S = [1.0 + 7.38905609893065 + 6.594885082800513 + 5.43656365691809 + 17.926756281352258)0.5/3\n",
      "I_S = 6.391210186666918\n"
     ]
    }
   ],
   "source": [
    "println(\"I_S = [$(exp(0)) + $(exp(2)) + $(4*exp(0.5)) + $(2*exp(1)) + $(4*exp(1.5)))0.5/3\") \n",
    "I_S = (exp(0) + exp(2) + 4*exp(0.5) + 2*exp(1) + 4*exp(1.5))/6\n",
    "println(\"I_S = $(I_S)\") "
   ]
  },
  {
   "cell_type": "code",
   "execution_count": 42,
   "id": "f8e3fde0-29e8-4240-aa1f-5c50939fd89f",
   "metadata": {},
   "outputs": [
    {
     "data": {
      "text/plain": [
       "-0.0021540877362680177"
      ]
     },
     "execution_count": 42,
     "metadata": {},
     "output_type": "execute_result"
    }
   ],
   "source": [
    "I_e = 6.38905609893065\n",
    "I_e - I_S"
   ]
  },
  {
   "cell_type": "markdown",
   "id": "9abcc900-5a69-460b-ad03-ac0c62c39ff0",
   "metadata": {},
   "source": [
    "Con $N=3$ teníamos $-0.031$."
   ]
  },
  {
   "cell_type": "markdown",
   "id": "67b0493b-1157-499d-ae1c-36947f3cde94",
   "metadata": {},
   "source": [
    "**Notemos que necesitamos un numero impar de puntos**"
   ]
  },
  {
   "cell_type": "markdown",
   "id": "957cd354-ffd3-400b-a193-a43ca4bb4cde",
   "metadata": {},
   "source": [
    "La expresión para un número de puntos arbitrarios $\\{x_i\\}\\;\\; i = 1\\ldots N$, es\n",
    "\n"
   ]
  },
  {
   "cell_type": "markdown",
   "id": "fce60c16-c787-48ba-9b98-8cde4fd706c9",
   "metadata": {},
   "source": [
    "$$\n",
    "I^N_S(f)[a,b] = [f(a) + f(b) + 4 \\sum_{i=1}^{\\frac{N-1}{2}} f(x_{2i}) + 2\\sum_{i=1}^{\\frac{N-3}{2}}f(x_{2i+1})]\\frac{dx}{3} \\;\\;\\;\\;\\; dx = \\frac{b-a}{N-1}\n",
    "$$\n",
    "\n",
    "Recordando que si nos dan in conjunto de valores $\\{y_i\\}\\;\\; i = 1\\ldots N$ debemos subsituir $f(x_i) \\to y_i$.\n",
    "\n",
    "El error total de la integración será entonces la suma de los errores de cada tramo de integración y por lo tanto vendrá dado por (recordando que usamos 2 intervalos por cada aplicación, o sea tenemos $(N-1)/2$ aplicaciones):\n",
    "\n",
    "$$\n",
    "Error^N_S(f)[a,b] = \\frac{N-1}{2}Error_S(f)[x,x+2dx] =  \\frac{N-1}{2}C_4 \\frac{(2dx)^5}{2880}\n",
    "                  = C_4 \\frac{(2dx)^4}{2880}(b-a) = C_4 \\frac{dx^4}{180}(b-a)\n",
    "                  $$"
   ]
  },
  {
   "cell_type": "markdown",
   "id": "f132885f-f4d4-499e-b5a9-b8d1207d8e81",
   "metadata": {},
   "source": [
    "Donde,\n",
    "$$\n",
    "C_4 = \\max_{\\zeta \\in [a,b]}\\{|f^{iv}(\\zeta)|\\}.\n",
    "$$\n"
   ]
  },
  {
   "cell_type": "markdown",
   "id": "c19c7b0d-593a-49ad-95ea-9912a44b7642",
   "metadata": {},
   "source": [
    "Vemos entonces que el error disminuye orden $dx^4$, lo cual hace que este método sea muy útil y económico. "
   ]
  },
  {
   "cell_type": "code",
   "execution_count": null,
   "id": "3c6c5880-4a48-45c9-b95a-4246fb62d3ed",
   "metadata": {},
   "outputs": [],
   "source": []
  }
 ],
 "metadata": {
  "kernelspec": {
   "display_name": "Julia 1.7.2",
   "language": "julia",
   "name": "julia-1.7"
  },
  "language_info": {
   "file_extension": ".jl",
   "mimetype": "application/julia",
   "name": "julia",
   "version": "1.7.2"
  }
 },
 "nbformat": 4,
 "nbformat_minor": 5
}
