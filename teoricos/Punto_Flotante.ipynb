{
 "cells": [
  {
   "cell_type": "markdown",
   "id": "28274beb",
   "metadata": {},
   "source": [
    "### Repaso de representación de número flotante "
   ]
  },
  {
   "cell_type": "code",
   "execution_count": 1,
   "id": "c0276b68-169a-4f7a-85aa-72b73c11b650",
   "metadata": {},
   "outputs": [],
   "source": [
    "using Plots"
   ]
  },
  {
   "cell_type": "markdown",
   "id": "13ade6fc",
   "metadata": {},
   "source": [
    "Recordemos que los números flotantes tienen la forma:\n",
    "\n",
    "$$\n",
    "x = (-1)^s * 0.a_1a_2a_3 \\ldots a_t * \\beta^e = (-1)^s * m * \\beta^e, \\;\\;\\;\\;\\;\\; \\frac{1}{\\beta} < m < 1\n",
    "$$\n",
    "\n",
    "Donde el primer elemento, $a_1$ es no nulo (distinto de cero). En el caso de la representación binaria, $\\beta=2$, tendremos que necesariamente $a_1=1$ y por lo tanto no lo incluiremos."
   ]
  },
  {
   "cell_type": "markdown",
   "id": "afc7c7ba-d1db-41d9-9241-934abd6ca9f5",
   "metadata": {},
   "source": [
    "## Ejemplo de representación de número en punto flotante simple (Float32) ##\n",
    "\n",
    "Consideremos el número: x = -118.625\n",
    "\n",
    "Su representación binaria es: x_bin = -1110110.101\n",
    "\n",
    "Lo chequeamos:"
   ]
  },
  {
   "cell_type": "code",
   "execution_count": 2,
   "id": "fb00391e-acff-48dd-94f9-1e4ca64e23e1",
   "metadata": {},
   "outputs": [
    {
     "data": {
      "text/plain": [
       "-118.625"
      ]
     },
     "execution_count": 2,
     "metadata": {},
     "output_type": "execute_result"
    }
   ],
   "source": [
    "-(2^6+2^5+2^4+2^2+2^1+2^(-1)+2^(-3))"
   ]
  },
  {
   "cell_type": "markdown",
   "id": "0295adcc-7ebf-4591-8953-e1854ac60d31",
   "metadata": {},
   "source": [
    "Para pasarlo a la representación de punto flotante 32, primero corremos la coma hasta el primer lugar no nulo de la izquierda (7 lugares):\n",
    "\n",
    "\n",
    "$x_{bin} = (-1)^1*(0.1110110101)*2^7$\n",
    "\n",
    "Como $7$ en binario es: `111` Pero debemos usar la *representación sesgada* y por lo tanto ir a $E = 126+7 = 133$ que se representa como: `10000101`"
   ]
  },
  {
   "cell_type": "code",
   "execution_count": 3,
   "id": "750aec4b-4031-4efd-9aef-9ad1482350f2",
   "metadata": {},
   "outputs": [
    {
     "data": {
      "text/plain": [
       "7"
      ]
     },
     "execution_count": 3,
     "metadata": {},
     "output_type": "execute_result"
    }
   ],
   "source": [
    "2^2+2^1+2^0"
   ]
  },
  {
   "cell_type": "code",
   "execution_count": 4,
   "id": "40d7acff-7d69-4e70-b9a3-9119926379f1",
   "metadata": {},
   "outputs": [
    {
     "data": {
      "text/plain": [
       "133"
      ]
     },
     "execution_count": 4,
     "metadata": {},
     "output_type": "execute_result"
    }
   ],
   "source": [
    "2^7+2^2+2^0"
   ]
  },
  {
   "cell_type": "markdown",
   "id": "8c8fd698-d320-4f28-b552-89cd488cc892",
   "metadata": {},
   "source": [
    "Como el primer elemento de la mantiza debe ser necesariamente no nulo debe ser un 1, que se omite.\n",
    "La representación será: \n",
    "\n",
    "`x_float32 = 1_10000101_110110101000`"
   ]
  },
  {
   "cell_type": "code",
   "execution_count": 5,
   "id": "277f77b4",
   "metadata": {},
   "outputs": [
    {
     "data": {
      "text/plain": [
       "-118.625f0"
      ]
     },
     "execution_count": 5,
     "metadata": {},
     "output_type": "execute_result"
    }
   ],
   "source": [
    "fl_x = Float32(-118.625)"
   ]
  },
  {
   "cell_type": "code",
   "execution_count": 6,
   "id": "4d80158e-5d00-42fe-922c-44f0092fc7bc",
   "metadata": {},
   "outputs": [
    {
     "data": {
      "text/plain": [
       "\"11000010111011010100000000000000\""
      ]
     },
     "execution_count": 6,
     "metadata": {},
     "output_type": "execute_result"
    }
   ],
   "source": [
    "bitstring(fl_x)"
   ]
  },
  {
   "cell_type": "markdown",
   "id": "92f940a7-73a1-40d7-95d3-adf05d632b5e",
   "metadata": {},
   "source": [
    "### Ejemplo con F(2,3,-1,2)"
   ]
  },
  {
   "cell_type": "markdown",
   "id": "d4b0d444-56ab-428a-ad9b-356894fc1f45",
   "metadata": {},
   "source": [
    "$\\beta = 2$, $t = 3$, $L=-1$ y $U=2$ (sesgado por dos unidades, $E = e + L + 1$)\n",
    "\n",
    "Listemos primero los **normalizados** (los positivos solamente):\n",
    "\n",
    "\n",
    "![todos los positivos](F23m12.png)"
   ]
  },
  {
   "cell_type": "code",
   "execution_count": 7,
   "id": "be503d1c-c61c-457b-bc72-81a6ddafe040",
   "metadata": {},
   "outputs": [
    {
     "name": "stdout",
     "output_type": "stream",
     "text": [
      "0.25\n",
      "0.5\n",
      "1.0\n",
      "2.0\n",
      "0.3125\n",
      "0.625\n",
      "1.25\n",
      "2.5\n",
      "0.375\n",
      "0.75\n",
      "1.5\n",
      "3.0\n",
      "0.4375\n",
      "0.875\n",
      "1.75\n",
      "3.5\n"
     ]
    }
   ],
   "source": [
    "L = -1\n",
    "U = 2\n",
    "β = 2.\n",
    "\n",
    "for j in 0:(β-1)\n",
    "    for k in 0:(β-1)\n",
    "        for e in L:U\n",
    "            println((β^(-1) + j*β^(-2) + k*β^(-3))*β^e)\n",
    "        end\n",
    "    end\n",
    "end"
   ]
  },
  {
   "cell_type": "markdown",
   "id": "9f2fb491-b37a-4f3d-bf55-d413d79d0720",
   "metadata": {},
   "source": [
    "Ahora los ordenamos para graficarlos:"
   ]
  },
  {
   "cell_type": "code",
   "execution_count": 8,
   "id": "e879eb64-119d-4082-83ee-a4fa9f51436a",
   "metadata": {},
   "outputs": [],
   "source": [
    "x_fln = zeros(2*2*4) # 16 lugares\n",
    "\n",
    "for j in 0:(β-1)\n",
    "    for k in 0:(β-1)\n",
    "        for e in L:U\n",
    "            x_fln[Int(1+ 2*j+ k +4*(e-L))] = (β^(-1) + j*β^(-2) + k*β^(-3))*β^e\n",
    "        end\n",
    "    end\n",
    "end"
   ]
  },
  {
   "cell_type": "code",
   "execution_count": 9,
   "id": "9d952232-daba-481d-b6d3-fbdcb9570b8d",
   "metadata": {},
   "outputs": [
    {
     "data": {
      "text/plain": [
       "16-element Vector{Float64}:\n",
       " 0.25\n",
       " 0.3125\n",
       " 0.375\n",
       " 0.4375\n",
       " 0.5\n",
       " 0.625\n",
       " 0.75\n",
       " 0.875\n",
       " 1.0\n",
       " 1.25\n",
       " 1.5\n",
       " 1.75\n",
       " 2.0\n",
       " 2.5\n",
       " 3.0\n",
       " 3.5"
      ]
     },
     "execution_count": 9,
     "metadata": {},
     "output_type": "execute_result"
    }
   ],
   "source": [
    "x_fln"
   ]
  },
  {
   "cell_type": "code",
   "execution_count": 10,
   "id": "5c931ede-ec19-4987-b921-6d1430844804",
   "metadata": {},
   "outputs": [
    {
     "data": {
      "image/svg+xml": [
       "<?xml version=\"1.0\" encoding=\"utf-8\"?>\n",
       "<svg xmlns=\"http://www.w3.org/2000/svg\" xmlns:xlink=\"http://www.w3.org/1999/xlink\" width=\"600\" height=\"400\" viewBox=\"0 0 2400 1600\">\n",
       "<defs>\n",
       "  <clipPath id=\"clip980\">\n",
       "    <rect x=\"0\" y=\"0\" width=\"2400\" height=\"1600\"/>\n",
       "  </clipPath>\n",
       "</defs>\n",
       "<path clip-path=\"url(#clip980)\" d=\"\n",
       "M0 1600 L2400 1600 L2400 0 L0 0  Z\n",
       "  \" fill=\"#ffffff\" fill-rule=\"evenodd\" fill-opacity=\"1\"/>\n",
       "<defs>\n",
       "  <clipPath id=\"clip981\">\n",
       "    <rect x=\"480\" y=\"0\" width=\"1681\" height=\"1600\"/>\n",
       "  </clipPath>\n",
       "</defs>\n",
       "<path clip-path=\"url(#clip980)\" d=\"\n",
       "M224.098 1486.45 L2352.76 1486.45 L2352.76 47.2441 L224.098 47.2441  Z\n",
       "  \" fill=\"#ffffff\" fill-rule=\"evenodd\" fill-opacity=\"1\"/>\n",
       "<defs>\n",
       "  <clipPath id=\"clip982\">\n",
       "    <rect x=\"224\" y=\"47\" width=\"2130\" height=\"1440\"/>\n",
       "  </clipPath>\n",
       "</defs>\n",
       "<polyline clip-path=\"url(#clip982)\" style=\"stroke:#000000; stroke-linecap:butt; stroke-linejoin:round; stroke-width:2; stroke-opacity:0.1; fill:none\" points=\"\n",
       "  224.63,1486.45 224.63,47.2441 \n",
       "  \"/>\n",
       "<polyline clip-path=\"url(#clip982)\" style=\"stroke:#000000; stroke-linecap:butt; stroke-linejoin:round; stroke-width:2; stroke-opacity:0.1; fill:none\" points=\"\n",
       "  756.661,1486.45 756.661,47.2441 \n",
       "  \"/>\n",
       "<polyline clip-path=\"url(#clip982)\" style=\"stroke:#000000; stroke-linecap:butt; stroke-linejoin:round; stroke-width:2; stroke-opacity:0.1; fill:none\" points=\"\n",
       "  1288.69,1486.45 1288.69,47.2441 \n",
       "  \"/>\n",
       "<polyline clip-path=\"url(#clip982)\" style=\"stroke:#000000; stroke-linecap:butt; stroke-linejoin:round; stroke-width:2; stroke-opacity:0.1; fill:none\" points=\"\n",
       "  1820.72,1486.45 1820.72,47.2441 \n",
       "  \"/>\n",
       "<polyline clip-path=\"url(#clip982)\" style=\"stroke:#000000; stroke-linecap:butt; stroke-linejoin:round; stroke-width:2; stroke-opacity:0.1; fill:none\" points=\"\n",
       "  2352.76,1486.45 2352.76,47.2441 \n",
       "  \"/>\n",
       "<polyline clip-path=\"url(#clip980)\" style=\"stroke:#000000; stroke-linecap:butt; stroke-linejoin:round; stroke-width:4; stroke-opacity:1; fill:none\" points=\"\n",
       "  224.098,1486.45 2352.76,1486.45 \n",
       "  \"/>\n",
       "<polyline clip-path=\"url(#clip980)\" style=\"stroke:#000000; stroke-linecap:butt; stroke-linejoin:round; stroke-width:4; stroke-opacity:1; fill:none\" points=\"\n",
       "  224.63,1486.45 224.63,1467.55 \n",
       "  \"/>\n",
       "<polyline clip-path=\"url(#clip980)\" style=\"stroke:#000000; stroke-linecap:butt; stroke-linejoin:round; stroke-width:4; stroke-opacity:1; fill:none\" points=\"\n",
       "  756.661,1486.45 756.661,1467.55 \n",
       "  \"/>\n",
       "<polyline clip-path=\"url(#clip980)\" style=\"stroke:#000000; stroke-linecap:butt; stroke-linejoin:round; stroke-width:4; stroke-opacity:1; fill:none\" points=\"\n",
       "  1288.69,1486.45 1288.69,1467.55 \n",
       "  \"/>\n",
       "<polyline clip-path=\"url(#clip980)\" style=\"stroke:#000000; stroke-linecap:butt; stroke-linejoin:round; stroke-width:4; stroke-opacity:1; fill:none\" points=\"\n",
       "  1820.72,1486.45 1820.72,1467.55 \n",
       "  \"/>\n",
       "<polyline clip-path=\"url(#clip980)\" style=\"stroke:#000000; stroke-linecap:butt; stroke-linejoin:round; stroke-width:4; stroke-opacity:1; fill:none\" points=\"\n",
       "  2352.76,1486.45 2352.76,1467.55 \n",
       "  \"/>\n",
       "<path clip-path=\"url(#clip980)\" d=\"M224.63 1517.37 Q221.019 1517.37 219.19 1520.93 Q217.385 1524.47 217.385 1531.6 Q217.385 1538.71 219.19 1542.27 Q221.019 1545.82 224.63 1545.82 Q228.264 1545.82 230.07 1542.27 Q231.898 1538.71 231.898 1531.6 Q231.898 1524.47 230.07 1520.93 Q228.264 1517.37 224.63 1517.37 M224.63 1513.66 Q230.44 1513.66 233.496 1518.27 Q236.574 1522.85 236.574 1531.6 Q236.574 1540.33 233.496 1544.94 Q230.44 1549.52 224.63 1549.52 Q218.82 1549.52 215.741 1544.94 Q212.686 1540.33 212.686 1531.6 Q212.686 1522.85 215.741 1518.27 Q218.82 1513.66 224.63 1513.66 Z\" fill=\"#000000\" fill-rule=\"evenodd\" fill-opacity=\"1\" /><path clip-path=\"url(#clip980)\" d=\"M747.043 1544.91 L754.682 1544.91 L754.682 1518.55 L746.372 1520.21 L746.372 1515.95 L754.636 1514.29 L759.312 1514.29 L759.312 1544.91 L766.951 1544.91 L766.951 1548.85 L747.043 1548.85 L747.043 1544.91 Z\" fill=\"#000000\" fill-rule=\"evenodd\" fill-opacity=\"1\" /><path clip-path=\"url(#clip980)\" d=\"M1283.35 1544.91 L1299.67 1544.91 L1299.67 1548.85 L1277.72 1548.85 L1277.72 1544.91 Q1280.38 1542.16 1284.97 1537.53 Q1289.57 1532.88 1290.75 1531.53 Q1293 1529.01 1293.88 1527.27 Q1294.78 1525.51 1294.78 1523.82 Q1294.78 1521.07 1292.84 1519.33 Q1290.92 1517.6 1287.81 1517.6 Q1285.61 1517.6 1283.16 1518.36 Q1280.73 1519.13 1277.95 1520.68 L1277.95 1515.95 Q1280.78 1514.82 1283.23 1514.24 Q1285.68 1513.66 1287.72 1513.66 Q1293.09 1513.66 1296.29 1516.35 Q1299.48 1519.03 1299.48 1523.52 Q1299.48 1525.65 1298.67 1527.57 Q1297.88 1529.47 1295.78 1532.07 Q1295.2 1532.74 1292.1 1535.95 Q1288.99 1539.15 1283.35 1544.91 Z\" fill=\"#000000\" fill-rule=\"evenodd\" fill-opacity=\"1\" /><path clip-path=\"url(#clip980)\" d=\"M1824.97 1530.21 Q1828.33 1530.93 1830.2 1533.2 Q1832.1 1535.47 1832.1 1538.8 Q1832.1 1543.92 1828.58 1546.72 Q1825.06 1549.52 1818.58 1549.52 Q1816.41 1549.52 1814.09 1549.08 Q1811.8 1548.66 1809.35 1547.81 L1809.35 1543.29 Q1811.29 1544.43 1813.61 1545.01 Q1815.92 1545.58 1818.44 1545.58 Q1822.84 1545.58 1825.13 1543.85 Q1827.45 1542.11 1827.45 1538.8 Q1827.45 1535.75 1825.3 1534.03 Q1823.17 1532.3 1819.35 1532.3 L1815.32 1532.3 L1815.32 1528.45 L1819.53 1528.45 Q1822.98 1528.45 1824.81 1527.09 Q1826.64 1525.7 1826.64 1523.11 Q1826.64 1520.45 1824.74 1519.03 Q1822.87 1517.6 1819.35 1517.6 Q1817.43 1517.6 1815.23 1518.01 Q1813.03 1518.43 1810.39 1519.31 L1810.39 1515.14 Q1813.05 1514.4 1815.37 1514.03 Q1817.7 1513.66 1819.76 1513.66 Q1825.09 1513.66 1828.19 1516.09 Q1831.29 1518.5 1831.29 1522.62 Q1831.29 1525.49 1829.65 1527.48 Q1828 1529.45 1824.97 1530.21 Z\" fill=\"#000000\" fill-rule=\"evenodd\" fill-opacity=\"1\" /><path clip-path=\"url(#clip980)\" d=\"M2355.77 1518.36 L2343.96 1536.81 L2355.77 1536.81 L2355.77 1518.36 M2354.54 1514.29 L2360.42 1514.29 L2360.42 1536.81 L2365.35 1536.81 L2365.35 1540.7 L2360.42 1540.7 L2360.42 1548.85 L2355.77 1548.85 L2355.77 1540.7 L2340.16 1540.7 L2340.16 1536.19 L2354.54 1514.29 Z\" fill=\"#000000\" fill-rule=\"evenodd\" fill-opacity=\"1\" /><polyline clip-path=\"url(#clip982)\" style=\"stroke:#000000; stroke-linecap:butt; stroke-linejoin:round; stroke-width:2; stroke-opacity:0.1; fill:none\" points=\"\n",
       "  224.098,1486.45 2352.76,1486.45 \n",
       "  \"/>\n",
       "<polyline clip-path=\"url(#clip982)\" style=\"stroke:#000000; stroke-linecap:butt; stroke-linejoin:round; stroke-width:2; stroke-opacity:0.1; fill:none\" points=\"\n",
       "  224.098,1126.65 2352.76,1126.65 \n",
       "  \"/>\n",
       "<polyline clip-path=\"url(#clip982)\" style=\"stroke:#000000; stroke-linecap:butt; stroke-linejoin:round; stroke-width:2; stroke-opacity:0.1; fill:none\" points=\"\n",
       "  224.098,766.846 2352.76,766.846 \n",
       "  \"/>\n",
       "<polyline clip-path=\"url(#clip982)\" style=\"stroke:#000000; stroke-linecap:butt; stroke-linejoin:round; stroke-width:2; stroke-opacity:0.1; fill:none\" points=\"\n",
       "  224.098,407.045 2352.76,407.045 \n",
       "  \"/>\n",
       "<polyline clip-path=\"url(#clip982)\" style=\"stroke:#000000; stroke-linecap:butt; stroke-linejoin:round; stroke-width:2; stroke-opacity:0.1; fill:none\" points=\"\n",
       "  224.098,47.2441 2352.76,47.2441 \n",
       "  \"/>\n",
       "<polyline clip-path=\"url(#clip980)\" style=\"stroke:#000000; stroke-linecap:butt; stroke-linejoin:round; stroke-width:4; stroke-opacity:1; fill:none\" points=\"\n",
       "  224.098,1486.45 224.098,47.2441 \n",
       "  \"/>\n",
       "<polyline clip-path=\"url(#clip980)\" style=\"stroke:#000000; stroke-linecap:butt; stroke-linejoin:round; stroke-width:4; stroke-opacity:1; fill:none\" points=\"\n",
       "  224.098,1486.45 242.996,1486.45 \n",
       "  \"/>\n",
       "<polyline clip-path=\"url(#clip980)\" style=\"stroke:#000000; stroke-linecap:butt; stroke-linejoin:round; stroke-width:4; stroke-opacity:1; fill:none\" points=\"\n",
       "  224.098,1126.65 242.996,1126.65 \n",
       "  \"/>\n",
       "<polyline clip-path=\"url(#clip980)\" style=\"stroke:#000000; stroke-linecap:butt; stroke-linejoin:round; stroke-width:4; stroke-opacity:1; fill:none\" points=\"\n",
       "  224.098,766.846 242.996,766.846 \n",
       "  \"/>\n",
       "<polyline clip-path=\"url(#clip980)\" style=\"stroke:#000000; stroke-linecap:butt; stroke-linejoin:round; stroke-width:4; stroke-opacity:1; fill:none\" points=\"\n",
       "  224.098,407.045 242.996,407.045 \n",
       "  \"/>\n",
       "<polyline clip-path=\"url(#clip980)\" style=\"stroke:#000000; stroke-linecap:butt; stroke-linejoin:round; stroke-width:4; stroke-opacity:1; fill:none\" points=\"\n",
       "  224.098,47.2441 242.996,47.2441 \n",
       "  \"/>\n",
       "<path clip-path=\"url(#clip980)\" d=\"M50.9921 1486.9 L80.6679 1486.9 L80.6679 1490.83 L50.9921 1490.83 L50.9921 1486.9 Z\" fill=\"#000000\" fill-rule=\"evenodd\" fill-opacity=\"1\" /><path clip-path=\"url(#clip980)\" d=\"M100.76 1472.25 Q97.1493 1472.25 95.3206 1475.81 Q93.515 1479.35 93.515 1486.48 Q93.515 1493.59 95.3206 1497.15 Q97.1493 1500.7 100.76 1500.7 Q104.395 1500.7 106.2 1497.15 Q108.029 1493.59 108.029 1486.48 Q108.029 1479.35 106.2 1475.81 Q104.395 1472.25 100.76 1472.25 M100.76 1468.54 Q106.571 1468.54 109.626 1473.15 Q112.705 1477.73 112.705 1486.48 Q112.705 1495.21 109.626 1499.82 Q106.571 1504.4 100.76 1504.4 Q94.9502 1504.4 91.8715 1499.82 Q88.816 1495.21 88.816 1486.48 Q88.816 1477.73 91.8715 1473.15 Q94.9502 1468.54 100.76 1468.54 Z\" fill=\"#000000\" fill-rule=\"evenodd\" fill-opacity=\"1\" /><path clip-path=\"url(#clip980)\" d=\"M120.922 1497.85 L125.807 1497.85 L125.807 1503.73 L120.922 1503.73 L120.922 1497.85 Z\" fill=\"#000000\" fill-rule=\"evenodd\" fill-opacity=\"1\" /><path clip-path=\"url(#clip980)\" d=\"M136.802 1499.79 L144.441 1499.79 L144.441 1473.43 L136.131 1475.09 L136.131 1470.83 L144.394 1469.17 L149.07 1469.17 L149.07 1499.79 L156.709 1499.79 L156.709 1503.73 L136.802 1503.73 L136.802 1499.79 Z\" fill=\"#000000\" fill-rule=\"evenodd\" fill-opacity=\"1\" /><path clip-path=\"url(#clip980)\" d=\"M176.153 1472.25 Q172.542 1472.25 170.714 1475.81 Q168.908 1479.35 168.908 1486.48 Q168.908 1493.59 170.714 1497.15 Q172.542 1500.7 176.153 1500.7 Q179.788 1500.7 181.593 1497.15 Q183.422 1493.59 183.422 1486.48 Q183.422 1479.35 181.593 1475.81 Q179.788 1472.25 176.153 1472.25 M176.153 1468.54 Q181.964 1468.54 185.019 1473.15 Q188.098 1477.73 188.098 1486.48 Q188.098 1495.21 185.019 1499.82 Q181.964 1504.4 176.153 1504.4 Q170.343 1504.4 167.265 1499.82 Q164.209 1495.21 164.209 1486.48 Q164.209 1477.73 167.265 1473.15 Q170.343 1468.54 176.153 1468.54 Z\" fill=\"#000000\" fill-rule=\"evenodd\" fill-opacity=\"1\" /><path clip-path=\"url(#clip980)\" d=\"M51.9875 1127.1 L81.6633 1127.1 L81.6633 1131.03 L51.9875 1131.03 L51.9875 1127.1 Z\" fill=\"#000000\" fill-rule=\"evenodd\" fill-opacity=\"1\" /><path clip-path=\"url(#clip980)\" d=\"M101.756 1112.45 Q98.1447 1112.45 96.316 1116.01 Q94.5104 1119.55 94.5104 1126.68 Q94.5104 1133.79 96.316 1137.35 Q98.1447 1140.89 101.756 1140.89 Q105.39 1140.89 107.196 1137.35 Q109.024 1133.79 109.024 1126.68 Q109.024 1119.55 107.196 1116.01 Q105.39 1112.45 101.756 1112.45 M101.756 1108.74 Q107.566 1108.74 110.621 1113.35 Q113.7 1117.93 113.7 1126.68 Q113.7 1135.41 110.621 1140.01 Q107.566 1144.6 101.756 1144.6 Q95.9456 1144.6 92.8669 1140.01 Q89.8114 1135.41 89.8114 1126.68 Q89.8114 1117.93 92.8669 1113.35 Q95.9456 1108.74 101.756 1108.74 Z\" fill=\"#000000\" fill-rule=\"evenodd\" fill-opacity=\"1\" /><path clip-path=\"url(#clip980)\" d=\"M121.918 1138.05 L126.802 1138.05 L126.802 1143.93 L121.918 1143.93 L121.918 1138.05 Z\" fill=\"#000000\" fill-rule=\"evenodd\" fill-opacity=\"1\" /><path clip-path=\"url(#clip980)\" d=\"M146.987 1112.45 Q143.376 1112.45 141.547 1116.01 Q139.742 1119.55 139.742 1126.68 Q139.742 1133.79 141.547 1137.35 Q143.376 1140.89 146.987 1140.89 Q150.621 1140.89 152.427 1137.35 Q154.255 1133.79 154.255 1126.68 Q154.255 1119.55 152.427 1116.01 Q150.621 1112.45 146.987 1112.45 M146.987 1108.74 Q152.797 1108.74 155.853 1113.35 Q158.931 1117.93 158.931 1126.68 Q158.931 1135.41 155.853 1140.01 Q152.797 1144.6 146.987 1144.6 Q141.177 1144.6 138.098 1140.01 Q135.043 1135.41 135.043 1126.68 Q135.043 1117.93 138.098 1113.35 Q141.177 1108.74 146.987 1108.74 Z\" fill=\"#000000\" fill-rule=\"evenodd\" fill-opacity=\"1\" /><path clip-path=\"url(#clip980)\" d=\"M167.195 1109.37 L185.552 1109.37 L185.552 1113.3 L171.478 1113.3 L171.478 1121.77 Q172.496 1121.43 173.515 1121.27 Q174.533 1121.08 175.552 1121.08 Q181.339 1121.08 184.718 1124.25 Q188.098 1127.42 188.098 1132.84 Q188.098 1138.42 184.626 1141.52 Q181.153 1144.6 174.834 1144.6 Q172.658 1144.6 170.39 1144.23 Q168.144 1143.86 165.737 1143.12 L165.737 1138.42 Q167.82 1139.55 170.042 1140.11 Q172.265 1140.66 174.741 1140.66 Q178.746 1140.66 181.084 1138.56 Q183.422 1136.45 183.422 1132.84 Q183.422 1129.23 181.084 1127.12 Q178.746 1125.01 174.741 1125.01 Q172.866 1125.01 170.991 1125.43 Q169.14 1125.85 167.195 1126.73 L167.195 1109.37 Z\" fill=\"#000000\" fill-rule=\"evenodd\" fill-opacity=\"1\" /><path clip-path=\"url(#clip980)\" d=\"M100.76 752.645 Q97.1493 752.645 95.3206 756.209 Q93.515 759.751 93.515 766.881 Q93.515 773.987 95.3206 777.552 Q97.1493 781.094 100.76 781.094 Q104.395 781.094 106.2 777.552 Q108.029 773.987 108.029 766.881 Q108.029 759.751 106.2 756.209 Q104.395 752.645 100.76 752.645 M100.76 748.941 Q106.571 748.941 109.626 753.547 Q112.705 758.131 112.705 766.881 Q112.705 775.608 109.626 780.214 Q106.571 784.797 100.76 784.797 Q94.9502 784.797 91.8715 780.214 Q88.816 775.608 88.816 766.881 Q88.816 758.131 91.8715 753.547 Q94.9502 748.941 100.76 748.941 Z\" fill=\"#000000\" fill-rule=\"evenodd\" fill-opacity=\"1\" /><path clip-path=\"url(#clip980)\" d=\"M120.922 778.246 L125.807 778.246 L125.807 784.126 L120.922 784.126 L120.922 778.246 Z\" fill=\"#000000\" fill-rule=\"evenodd\" fill-opacity=\"1\" /><path clip-path=\"url(#clip980)\" d=\"M145.992 752.645 Q142.381 752.645 140.552 756.209 Q138.746 759.751 138.746 766.881 Q138.746 773.987 140.552 777.552 Q142.381 781.094 145.992 781.094 Q149.626 781.094 151.431 777.552 Q153.26 773.987 153.26 766.881 Q153.26 759.751 151.431 756.209 Q149.626 752.645 145.992 752.645 M145.992 748.941 Q151.802 748.941 154.857 753.547 Q157.936 758.131 157.936 766.881 Q157.936 775.608 154.857 780.214 Q151.802 784.797 145.992 784.797 Q140.181 784.797 137.103 780.214 Q134.047 775.608 134.047 766.881 Q134.047 758.131 137.103 753.547 Q140.181 748.941 145.992 748.941 Z\" fill=\"#000000\" fill-rule=\"evenodd\" fill-opacity=\"1\" /><path clip-path=\"url(#clip980)\" d=\"M176.153 752.645 Q172.542 752.645 170.714 756.209 Q168.908 759.751 168.908 766.881 Q168.908 773.987 170.714 777.552 Q172.542 781.094 176.153 781.094 Q179.788 781.094 181.593 777.552 Q183.422 773.987 183.422 766.881 Q183.422 759.751 181.593 756.209 Q179.788 752.645 176.153 752.645 M176.153 748.941 Q181.964 748.941 185.019 753.547 Q188.098 758.131 188.098 766.881 Q188.098 775.608 185.019 780.214 Q181.964 784.797 176.153 784.797 Q170.343 784.797 167.265 780.214 Q164.209 775.608 164.209 766.881 Q164.209 758.131 167.265 753.547 Q170.343 748.941 176.153 748.941 Z\" fill=\"#000000\" fill-rule=\"evenodd\" fill-opacity=\"1\" /><path clip-path=\"url(#clip980)\" d=\"M101.756 392.844 Q98.1447 392.844 96.316 396.409 Q94.5104 399.95 94.5104 407.08 Q94.5104 414.186 96.316 417.751 Q98.1447 421.293 101.756 421.293 Q105.39 421.293 107.196 417.751 Q109.024 414.186 109.024 407.08 Q109.024 399.95 107.196 396.409 Q105.39 392.844 101.756 392.844 M101.756 389.14 Q107.566 389.14 110.621 393.746 Q113.7 398.33 113.7 407.08 Q113.7 415.807 110.621 420.413 Q107.566 424.996 101.756 424.996 Q95.9456 424.996 92.8669 420.413 Q89.8114 415.807 89.8114 407.08 Q89.8114 398.33 92.8669 393.746 Q95.9456 389.14 101.756 389.14 Z\" fill=\"#000000\" fill-rule=\"evenodd\" fill-opacity=\"1\" /><path clip-path=\"url(#clip980)\" d=\"M121.918 418.445 L126.802 418.445 L126.802 424.325 L121.918 424.325 L121.918 418.445 Z\" fill=\"#000000\" fill-rule=\"evenodd\" fill-opacity=\"1\" /><path clip-path=\"url(#clip980)\" d=\"M146.987 392.844 Q143.376 392.844 141.547 396.409 Q139.742 399.95 139.742 407.08 Q139.742 414.186 141.547 417.751 Q143.376 421.293 146.987 421.293 Q150.621 421.293 152.427 417.751 Q154.255 414.186 154.255 407.08 Q154.255 399.95 152.427 396.409 Q150.621 392.844 146.987 392.844 M146.987 389.14 Q152.797 389.14 155.853 393.746 Q158.931 398.33 158.931 407.08 Q158.931 415.807 155.853 420.413 Q152.797 424.996 146.987 424.996 Q141.177 424.996 138.098 420.413 Q135.043 415.807 135.043 407.08 Q135.043 398.33 138.098 393.746 Q141.177 389.14 146.987 389.14 Z\" fill=\"#000000\" fill-rule=\"evenodd\" fill-opacity=\"1\" /><path clip-path=\"url(#clip980)\" d=\"M167.195 389.765 L185.552 389.765 L185.552 393.7 L171.478 393.7 L171.478 402.172 Q172.496 401.825 173.515 401.663 Q174.533 401.478 175.552 401.478 Q181.339 401.478 184.718 404.649 Q188.098 407.82 188.098 413.237 Q188.098 418.816 184.626 421.918 Q181.153 424.996 174.834 424.996 Q172.658 424.996 170.39 424.626 Q168.144 424.256 165.737 423.515 L165.737 418.816 Q167.82 419.95 170.042 420.506 Q172.265 421.061 174.741 421.061 Q178.746 421.061 181.084 418.955 Q183.422 416.848 183.422 413.237 Q183.422 409.626 181.084 407.52 Q178.746 405.413 174.741 405.413 Q172.866 405.413 170.991 405.83 Q169.14 406.246 167.195 407.126 L167.195 389.765 Z\" fill=\"#000000\" fill-rule=\"evenodd\" fill-opacity=\"1\" /><path clip-path=\"url(#clip980)\" d=\"M100.76 33.0428 Q97.1493 33.0428 95.3206 36.6076 Q93.515 40.1492 93.515 47.2788 Q93.515 54.3853 95.3206 57.9501 Q97.1493 61.4917 100.76 61.4917 Q104.395 61.4917 106.2 57.9501 Q108.029 54.3853 108.029 47.2788 Q108.029 40.1492 106.2 36.6076 Q104.395 33.0428 100.76 33.0428 M100.76 29.3391 Q106.571 29.3391 109.626 33.9456 Q112.705 38.5289 112.705 47.2788 Q112.705 56.0056 109.626 60.6121 Q106.571 65.1954 100.76 65.1954 Q94.9502 65.1954 91.8715 60.6121 Q88.816 56.0056 88.816 47.2788 Q88.816 38.5289 91.8715 33.9456 Q94.9502 29.3391 100.76 29.3391 Z\" fill=\"#000000\" fill-rule=\"evenodd\" fill-opacity=\"1\" /><path clip-path=\"url(#clip980)\" d=\"M120.922 58.6445 L125.807 58.6445 L125.807 64.5241 L120.922 64.5241 L120.922 58.6445 Z\" fill=\"#000000\" fill-rule=\"evenodd\" fill-opacity=\"1\" /><path clip-path=\"url(#clip980)\" d=\"M136.802 60.5889 L144.441 60.5889 L144.441 34.2233 L136.131 35.89 L136.131 31.6308 L144.394 29.9641 L149.07 29.9641 L149.07 60.5889 L156.709 60.5889 L156.709 64.5241 L136.802 64.5241 L136.802 60.5889 Z\" fill=\"#000000\" fill-rule=\"evenodd\" fill-opacity=\"1\" /><path clip-path=\"url(#clip980)\" d=\"M176.153 33.0428 Q172.542 33.0428 170.714 36.6076 Q168.908 40.1492 168.908 47.2788 Q168.908 54.3853 170.714 57.9501 Q172.542 61.4917 176.153 61.4917 Q179.788 61.4917 181.593 57.9501 Q183.422 54.3853 183.422 47.2788 Q183.422 40.1492 181.593 36.6076 Q179.788 33.0428 176.153 33.0428 M176.153 29.3391 Q181.964 29.3391 185.019 33.9456 Q188.098 38.5289 188.098 47.2788 Q188.098 56.0056 185.019 60.6121 Q181.964 65.1954 176.153 65.1954 Q170.343 65.1954 167.265 60.6121 Q164.209 56.0056 164.209 47.2788 Q164.209 38.5289 167.265 33.9456 Q170.343 29.3391 176.153 29.3391 Z\" fill=\"#000000\" fill-rule=\"evenodd\" fill-opacity=\"1\" /><circle clip-path=\"url(#clip982)\" cx=\"357.638\" cy=\"766.846\" r=\"14\" fill=\"#009af9\" fill-rule=\"evenodd\" fill-opacity=\"1\" stroke=\"#000000\" stroke-opacity=\"1\" stroke-width=\"3.2\"/>\n",
       "<circle clip-path=\"url(#clip982)\" cx=\"390.89\" cy=\"766.846\" r=\"14\" fill=\"#009af9\" fill-rule=\"evenodd\" fill-opacity=\"1\" stroke=\"#000000\" stroke-opacity=\"1\" stroke-width=\"3.2\"/>\n",
       "<circle clip-path=\"url(#clip982)\" cx=\"424.142\" cy=\"766.846\" r=\"14\" fill=\"#009af9\" fill-rule=\"evenodd\" fill-opacity=\"1\" stroke=\"#000000\" stroke-opacity=\"1\" stroke-width=\"3.2\"/>\n",
       "<circle clip-path=\"url(#clip982)\" cx=\"457.394\" cy=\"766.846\" r=\"14\" fill=\"#009af9\" fill-rule=\"evenodd\" fill-opacity=\"1\" stroke=\"#000000\" stroke-opacity=\"1\" stroke-width=\"3.2\"/>\n",
       "<circle clip-path=\"url(#clip982)\" cx=\"490.646\" cy=\"766.846\" r=\"14\" fill=\"#009af9\" fill-rule=\"evenodd\" fill-opacity=\"1\" stroke=\"#000000\" stroke-opacity=\"1\" stroke-width=\"3.2\"/>\n",
       "<circle clip-path=\"url(#clip982)\" cx=\"557.15\" cy=\"766.846\" r=\"14\" fill=\"#009af9\" fill-rule=\"evenodd\" fill-opacity=\"1\" stroke=\"#000000\" stroke-opacity=\"1\" stroke-width=\"3.2\"/>\n",
       "<circle clip-path=\"url(#clip982)\" cx=\"623.654\" cy=\"766.846\" r=\"14\" fill=\"#009af9\" fill-rule=\"evenodd\" fill-opacity=\"1\" stroke=\"#000000\" stroke-opacity=\"1\" stroke-width=\"3.2\"/>\n",
       "<circle clip-path=\"url(#clip982)\" cx=\"690.157\" cy=\"766.846\" r=\"14\" fill=\"#009af9\" fill-rule=\"evenodd\" fill-opacity=\"1\" stroke=\"#000000\" stroke-opacity=\"1\" stroke-width=\"3.2\"/>\n",
       "<circle clip-path=\"url(#clip982)\" cx=\"756.661\" cy=\"766.846\" r=\"14\" fill=\"#009af9\" fill-rule=\"evenodd\" fill-opacity=\"1\" stroke=\"#000000\" stroke-opacity=\"1\" stroke-width=\"3.2\"/>\n",
       "<circle clip-path=\"url(#clip982)\" cx=\"889.669\" cy=\"766.846\" r=\"14\" fill=\"#009af9\" fill-rule=\"evenodd\" fill-opacity=\"1\" stroke=\"#000000\" stroke-opacity=\"1\" stroke-width=\"3.2\"/>\n",
       "<circle clip-path=\"url(#clip982)\" cx=\"1022.68\" cy=\"766.846\" r=\"14\" fill=\"#009af9\" fill-rule=\"evenodd\" fill-opacity=\"1\" stroke=\"#000000\" stroke-opacity=\"1\" stroke-width=\"3.2\"/>\n",
       "<circle clip-path=\"url(#clip982)\" cx=\"1155.69\" cy=\"766.846\" r=\"14\" fill=\"#009af9\" fill-rule=\"evenodd\" fill-opacity=\"1\" stroke=\"#000000\" stroke-opacity=\"1\" stroke-width=\"3.2\"/>\n",
       "<circle clip-path=\"url(#clip982)\" cx=\"1288.69\" cy=\"766.846\" r=\"14\" fill=\"#009af9\" fill-rule=\"evenodd\" fill-opacity=\"1\" stroke=\"#000000\" stroke-opacity=\"1\" stroke-width=\"3.2\"/>\n",
       "<circle clip-path=\"url(#clip982)\" cx=\"1554.71\" cy=\"766.846\" r=\"14\" fill=\"#009af9\" fill-rule=\"evenodd\" fill-opacity=\"1\" stroke=\"#000000\" stroke-opacity=\"1\" stroke-width=\"3.2\"/>\n",
       "<circle clip-path=\"url(#clip982)\" cx=\"1820.72\" cy=\"766.846\" r=\"14\" fill=\"#009af9\" fill-rule=\"evenodd\" fill-opacity=\"1\" stroke=\"#000000\" stroke-opacity=\"1\" stroke-width=\"3.2\"/>\n",
       "<circle clip-path=\"url(#clip982)\" cx=\"2086.74\" cy=\"766.846\" r=\"14\" fill=\"#009af9\" fill-rule=\"evenodd\" fill-opacity=\"1\" stroke=\"#000000\" stroke-opacity=\"1\" stroke-width=\"3.2\"/>\n",
       "<path clip-path=\"url(#clip980)\" d=\"\n",
       "M1731.41 198.898 L2281.8 198.898 L2281.8 95.2176 L1731.41 95.2176  Z\n",
       "  \" fill=\"#ffffff\" fill-rule=\"evenodd\" fill-opacity=\"1\"/>\n",
       "<polyline clip-path=\"url(#clip980)\" style=\"stroke:#000000; stroke-linecap:butt; stroke-linejoin:round; stroke-width:4; stroke-opacity:1; fill:none\" points=\"\n",
       "  1731.41,198.898 2281.8,198.898 2281.8,95.2176 1731.41,95.2176 1731.41,198.898 \n",
       "  \"/>\n",
       "<circle clip-path=\"url(#clip980)\" cx=\"1827.41\" cy=\"147.058\" r=\"23\" fill=\"#009af9\" fill-rule=\"evenodd\" fill-opacity=\"1\" stroke=\"#000000\" stroke-opacity=\"1\" stroke-width=\"5.12\"/>\n",
       "<path clip-path=\"url(#clip980)\" d=\"M1945.12 148.689 L1945.12 164.338 L1940.86 164.338 L1940.86 148.828 Q1940.86 145.148 1939.43 143.319 Q1937.99 141.49 1935.12 141.49 Q1931.67 141.49 1929.68 143.69 Q1927.69 145.889 1927.69 149.685 L1927.69 164.338 L1923.41 164.338 L1923.41 138.412 L1927.69 138.412 L1927.69 142.44 Q1929.22 140.102 1931.28 138.944 Q1933.36 137.787 1936.07 137.787 Q1940.54 137.787 1942.83 140.565 Q1945.12 143.319 1945.12 148.689 Z\" fill=\"#000000\" fill-rule=\"evenodd\" fill-opacity=\"1\" /><path clip-path=\"url(#clip980)\" d=\"M1963.66 141.398 Q1960.24 141.398 1958.25 144.083 Q1956.26 146.745 1956.26 151.398 Q1956.26 156.051 1958.22 158.736 Q1960.21 161.398 1963.66 161.398 Q1967.07 161.398 1969.06 158.713 Q1971.05 156.027 1971.05 151.398 Q1971.05 146.791 1969.06 144.106 Q1967.07 141.398 1963.66 141.398 M1963.66 137.787 Q1969.22 137.787 1972.39 141.398 Q1975.56 145.009 1975.56 151.398 Q1975.56 157.764 1972.39 161.398 Q1969.22 165.009 1963.66 165.009 Q1958.08 165.009 1954.91 161.398 Q1951.77 157.764 1951.77 151.398 Q1951.77 145.009 1954.91 141.398 Q1958.08 137.787 1963.66 137.787 Z\" fill=\"#000000\" fill-rule=\"evenodd\" fill-opacity=\"1\" /><path clip-path=\"url(#clip980)\" d=\"M1997.64 142.393 Q1996.93 141.977 1996.07 141.791 Q1995.24 141.583 1994.22 141.583 Q1990.61 141.583 1988.66 143.944 Q1986.74 146.282 1986.74 150.68 L1986.74 164.338 L1982.46 164.338 L1982.46 138.412 L1986.74 138.412 L1986.74 142.44 Q1988.08 140.078 1990.24 138.944 Q1992.39 137.787 1995.47 137.787 Q1995.91 137.787 1996.44 137.856 Q1996.97 137.903 1997.62 138.018 L1997.64 142.393 Z\" fill=\"#000000\" fill-rule=\"evenodd\" fill-opacity=\"1\" /><path clip-path=\"url(#clip980)\" d=\"M2021.46 143.389 Q2023.06 140.518 2025.28 139.153 Q2027.51 137.787 2030.51 137.787 Q2034.57 137.787 2036.76 140.634 Q2038.96 143.458 2038.96 148.689 L2038.96 164.338 L2034.68 164.338 L2034.68 148.828 Q2034.68 145.102 2033.36 143.296 Q2032.04 141.49 2029.33 141.49 Q2026.02 141.49 2024.1 143.69 Q2022.18 145.889 2022.18 149.685 L2022.18 164.338 L2017.9 164.338 L2017.9 148.828 Q2017.9 145.078 2016.58 143.296 Q2015.26 141.49 2012.51 141.49 Q2009.24 141.49 2007.32 143.713 Q2005.4 145.912 2005.4 149.685 L2005.4 164.338 L2001.12 164.338 L2001.12 138.412 L2005.4 138.412 L2005.4 142.44 Q2006.86 140.055 2008.89 138.921 Q2010.93 137.787 2013.73 137.787 Q2016.56 137.787 2018.52 139.222 Q2020.51 140.657 2021.46 143.389 Z\" fill=\"#000000\" fill-rule=\"evenodd\" fill-opacity=\"1\" /><path clip-path=\"url(#clip980)\" d=\"M2059.24 151.305 Q2054.08 151.305 2052.09 152.486 Q2050.1 153.666 2050.1 156.514 Q2050.1 158.782 2051.58 160.125 Q2053.08 161.444 2055.65 161.444 Q2059.2 161.444 2061.32 158.944 Q2063.48 156.421 2063.48 152.254 L2063.48 151.305 L2059.24 151.305 M2067.74 149.546 L2067.74 164.338 L2063.48 164.338 L2063.48 160.402 Q2062.02 162.763 2059.84 163.898 Q2057.67 165.009 2054.52 165.009 Q2050.54 165.009 2048.18 162.787 Q2045.84 160.541 2045.84 156.791 Q2045.84 152.416 2048.76 150.194 Q2051.7 147.972 2057.51 147.972 L2063.48 147.972 L2063.48 147.555 Q2063.48 144.615 2061.53 143.018 Q2059.61 141.398 2056.12 141.398 Q2053.89 141.398 2051.79 141.93 Q2049.68 142.463 2047.74 143.527 L2047.74 139.592 Q2050.07 138.69 2052.27 138.25 Q2054.47 137.787 2056.56 137.787 Q2062.18 137.787 2064.96 140.703 Q2067.74 143.62 2067.74 149.546 Z\" fill=\"#000000\" fill-rule=\"evenodd\" fill-opacity=\"1\" /><path clip-path=\"url(#clip980)\" d=\"M2076.51 128.319 L2080.77 128.319 L2080.77 164.338 L2076.51 164.338 L2076.51 128.319 Z\" fill=\"#000000\" fill-rule=\"evenodd\" fill-opacity=\"1\" /><path clip-path=\"url(#clip980)\" d=\"M2089.68 138.412 L2093.94 138.412 L2093.94 164.338 L2089.68 164.338 L2089.68 138.412 M2089.68 128.319 L2093.94 128.319 L2093.94 133.713 L2089.68 133.713 L2089.68 128.319 Z\" fill=\"#000000\" fill-rule=\"evenodd\" fill-opacity=\"1\" /><path clip-path=\"url(#clip980)\" d=\"M2101 138.412 L2121.23 138.412 L2121.23 142.301 L2105.21 160.935 L2121.23 160.935 L2121.23 164.338 L2100.42 164.338 L2100.42 160.449 L2116.44 141.815 L2101 141.815 L2101 138.412 Z\" fill=\"#000000\" fill-rule=\"evenodd\" fill-opacity=\"1\" /><path clip-path=\"url(#clip980)\" d=\"M2139.52 151.305 Q2134.36 151.305 2132.37 152.486 Q2130.38 153.666 2130.38 156.514 Q2130.38 158.782 2131.86 160.125 Q2133.36 161.444 2135.93 161.444 Q2139.47 161.444 2141.6 158.944 Q2143.75 156.421 2143.75 152.254 L2143.75 151.305 L2139.52 151.305 M2148.01 149.546 L2148.01 164.338 L2143.75 164.338 L2143.75 160.402 Q2142.3 162.763 2140.12 163.898 Q2137.94 165.009 2134.8 165.009 Q2130.82 165.009 2128.45 162.787 Q2126.12 160.541 2126.12 156.791 Q2126.12 152.416 2129.03 150.194 Q2131.97 147.972 2137.78 147.972 L2143.75 147.972 L2143.75 147.555 Q2143.75 144.615 2141.81 143.018 Q2139.89 141.398 2136.39 141.398 Q2134.17 141.398 2132.07 141.93 Q2129.96 142.463 2128.01 143.527 L2128.01 139.592 Q2130.35 138.69 2132.55 138.25 Q2134.75 137.787 2136.83 137.787 Q2142.46 137.787 2145.24 140.703 Q2148.01 143.62 2148.01 149.546 Z\" fill=\"#000000\" fill-rule=\"evenodd\" fill-opacity=\"1\" /><path clip-path=\"url(#clip980)\" d=\"M2173.85 142.347 L2173.85 128.319 L2178.11 128.319 L2178.11 164.338 L2173.85 164.338 L2173.85 160.449 Q2172.5 162.763 2170.44 163.898 Q2168.41 165.009 2165.54 165.009 Q2160.84 165.009 2157.88 161.259 Q2154.94 157.509 2154.94 151.398 Q2154.94 145.287 2157.88 141.537 Q2160.84 137.787 2165.54 137.787 Q2168.41 137.787 2170.44 138.921 Q2172.5 140.032 2173.85 142.347 M2159.33 151.398 Q2159.33 156.097 2161.25 158.782 Q2163.2 161.444 2166.58 161.444 Q2169.96 161.444 2171.9 158.782 Q2173.85 156.097 2173.85 151.398 Q2173.85 146.699 2171.9 144.037 Q2169.96 141.352 2166.58 141.352 Q2163.2 141.352 2161.25 144.037 Q2159.33 146.699 2159.33 151.398 Z\" fill=\"#000000\" fill-rule=\"evenodd\" fill-opacity=\"1\" /><path clip-path=\"url(#clip980)\" d=\"M2196.93 141.398 Q2193.5 141.398 2191.51 144.083 Q2189.52 146.745 2189.52 151.398 Q2189.52 156.051 2191.49 158.736 Q2193.48 161.398 2196.93 161.398 Q2200.33 161.398 2202.32 158.713 Q2204.31 156.027 2204.31 151.398 Q2204.31 146.791 2202.32 144.106 Q2200.33 141.398 2196.93 141.398 M2196.93 137.787 Q2202.48 137.787 2205.65 141.398 Q2208.82 145.009 2208.82 151.398 Q2208.82 157.764 2205.65 161.398 Q2202.48 165.009 2196.93 165.009 Q2191.35 165.009 2188.18 161.398 Q2185.03 157.764 2185.03 151.398 Q2185.03 145.009 2188.18 141.398 Q2191.35 137.787 2196.93 137.787 Z\" fill=\"#000000\" fill-rule=\"evenodd\" fill-opacity=\"1\" /><path clip-path=\"url(#clip980)\" d=\"M2232.41 139.176 L2232.41 143.203 Q2230.61 142.277 2228.66 141.815 Q2226.72 141.352 2224.63 141.352 Q2221.46 141.352 2219.87 142.324 Q2218.29 143.296 2218.29 145.24 Q2218.29 146.722 2219.43 147.578 Q2220.56 148.412 2223.99 149.176 L2225.44 149.5 Q2229.98 150.472 2231.88 152.254 Q2233.8 154.014 2233.8 157.185 Q2233.8 160.796 2230.93 162.902 Q2228.08 165.009 2223.08 165.009 Q2221 165.009 2218.73 164.592 Q2216.49 164.199 2213.99 163.388 L2213.99 158.99 Q2216.35 160.217 2218.64 160.842 Q2220.93 161.444 2223.18 161.444 Q2226.18 161.444 2227.81 160.426 Q2229.43 159.384 2229.43 157.509 Q2229.43 155.773 2228.25 154.847 Q2227.09 153.921 2223.13 153.064 L2221.65 152.717 Q2217.69 151.884 2215.93 150.171 Q2214.17 148.435 2214.17 145.426 Q2214.17 141.768 2216.76 139.778 Q2219.36 137.787 2224.12 137.787 Q2226.49 137.787 2228.57 138.134 Q2230.65 138.481 2232.41 139.176 Z\" fill=\"#000000\" fill-rule=\"evenodd\" fill-opacity=\"1\" /></svg>\n"
      ]
     },
     "execution_count": 10,
     "metadata": {},
     "output_type": "execute_result"
    }
   ],
   "source": [
    "cero(x) = 0.0\n",
    "scatter(x_fln,cero.(x_fln), xlim=(-0.001,4.0), ylim=(-0.1,0.1), label=\"normalizados\")"
   ]
  },
  {
   "cell_type": "markdown",
   "id": "acf13b4c-74c8-4ef7-81c7-3ae6c80ad25f",
   "metadata": {},
   "source": [
    "## Números especiales\n",
    "\n",
    "Dada una representación $\\mathcal{F}(\\beta, t, L, U)$\n",
    "\n",
    "Además de los números ya incluidos las representaciones modernas (IEEE754) agregan varios más:\n",
    "\n",
    "1. El cero: mantiza 0 y e = (L-1)\n",
    "\n",
    "2. Números denormalizados ($a_1$ puede ser cero) y e = (L-1). Cubren la región cercana a zero.\n",
    "\n",
    "3. Inf y -Inf resultados de dividir por cero o de overflow (positivo y negativo) mantiza nula y e = U+1\n",
    "\n",
    "4. NaN que son resultados ilegales, como por ejemplo `0/0`\n",
    "\n",
    "\n",
    "\n",
    "\n",
    "![operaciones](Inf_y_otros.png)\n",
    "\n",
    "![otros números](Otros_numeros.png)\n"
   ]
  },
  {
   "cell_type": "code",
   "execution_count": 11,
   "id": "d4c15be6-0e59-4271-803d-7f3b9388bc2d",
   "metadata": {},
   "outputs": [
    {
     "data": {
      "text/plain": [
       "Inf"
      ]
     },
     "execution_count": 11,
     "metadata": {},
     "output_type": "execute_result"
    }
   ],
   "source": [
    "1/0"
   ]
  },
  {
   "cell_type": "code",
   "execution_count": 12,
   "id": "e7686841-d38a-41ff-b9bb-84ec7aa5a309",
   "metadata": {},
   "outputs": [
    {
     "data": {
      "text/plain": [
       "\"0111111111110000000000000000000000000000000000000000000000000000\""
      ]
     },
     "execution_count": 12,
     "metadata": {},
     "output_type": "execute_result"
    }
   ],
   "source": [
    "bitstring(Inf)"
   ]
  },
  {
   "cell_type": "markdown",
   "id": "8f6e3e0b-be02-4fcc-81f4-dccdd22e07ca",
   "metadata": {},
   "source": [
    "Ahora veamos cuales son los **desnormalizados** de la representación $\\mathcal{F}(2, 3, -1, 2)$:\n",
    "\n",
    "![desnormalizados](F23m12_des.png)\n",
    "\n"
   ]
  },
  {
   "cell_type": "code",
   "execution_count": 13,
   "id": "346f2f9a-8b2a-49f0-aa35-3e5e85da3b62",
   "metadata": {},
   "outputs": [],
   "source": [
    "x_fld = zeros(4)\n",
    "for j in 0:1\n",
    "    for k in 0:1\n",
    "            x_fld[1+k+2*j] = (0 + j*β^(-2) + k*β^(-3))*β^(L)\n",
    "    end\n",
    "end"
   ]
  },
  {
   "cell_type": "code",
   "execution_count": 14,
   "id": "b447bc75-a232-46dd-8987-41e1baad86c1",
   "metadata": {},
   "outputs": [
    {
     "data": {
      "text/plain": [
       "4-element Vector{Float64}:\n",
       " 0.0\n",
       " 0.0625\n",
       " 0.125\n",
       " 0.1875"
      ]
     },
     "execution_count": 14,
     "metadata": {},
     "output_type": "execute_result"
    }
   ],
   "source": [
    "x_fld"
   ]
  },
  {
   "cell_type": "code",
   "execution_count": 15,
   "id": "93146fa5-3266-434a-ab0a-7e2347b24673",
   "metadata": {},
   "outputs": [
    {
     "data": {
      "text/plain": [
       "0.1875"
      ]
     },
     "execution_count": 15,
     "metadata": {},
     "output_type": "execute_result"
    }
   ],
   "source": [
    "3/16 "
   ]
  },
  {
   "cell_type": "code",
   "execution_count": 16,
   "id": "232aca88-1fe0-4b74-a241-54f3e7c2315c",
   "metadata": {},
   "outputs": [
    {
     "data": {
      "image/svg+xml": [
       "<?xml version=\"1.0\" encoding=\"utf-8\"?>\n",
       "<svg xmlns=\"http://www.w3.org/2000/svg\" xmlns:xlink=\"http://www.w3.org/1999/xlink\" width=\"600\" height=\"400\" viewBox=\"0 0 2400 1600\">\n",
       "<defs>\n",
       "  <clipPath id=\"clip020\">\n",
       "    <rect x=\"0\" y=\"0\" width=\"2400\" height=\"1600\"/>\n",
       "  </clipPath>\n",
       "</defs>\n",
       "<path clip-path=\"url(#clip020)\" d=\"\n",
       "M0 1600 L2400 1600 L2400 0 L0 0  Z\n",
       "  \" fill=\"#ffffff\" fill-rule=\"evenodd\" fill-opacity=\"1\"/>\n",
       "<defs>\n",
       "  <clipPath id=\"clip021\">\n",
       "    <rect x=\"480\" y=\"0\" width=\"1681\" height=\"1600\"/>\n",
       "  </clipPath>\n",
       "</defs>\n",
       "<path clip-path=\"url(#clip020)\" d=\"\n",
       "M224.098 1486.45 L2352.76 1486.45 L2352.76 47.2441 L224.098 47.2441  Z\n",
       "  \" fill=\"#ffffff\" fill-rule=\"evenodd\" fill-opacity=\"1\"/>\n",
       "<defs>\n",
       "  <clipPath id=\"clip022\">\n",
       "    <rect x=\"224\" y=\"47\" width=\"2130\" height=\"1440\"/>\n",
       "  </clipPath>\n",
       "</defs>\n",
       "<polyline clip-path=\"url(#clip022)\" style=\"stroke:#000000; stroke-linecap:butt; stroke-linejoin:round; stroke-width:2; stroke-opacity:0.1; fill:none\" points=\"\n",
       "  224.63,1486.45 224.63,47.2441 \n",
       "  \"/>\n",
       "<polyline clip-path=\"url(#clip022)\" style=\"stroke:#000000; stroke-linecap:butt; stroke-linejoin:round; stroke-width:2; stroke-opacity:0.1; fill:none\" points=\"\n",
       "  756.661,1486.45 756.661,47.2441 \n",
       "  \"/>\n",
       "<polyline clip-path=\"url(#clip022)\" style=\"stroke:#000000; stroke-linecap:butt; stroke-linejoin:round; stroke-width:2; stroke-opacity:0.1; fill:none\" points=\"\n",
       "  1288.69,1486.45 1288.69,47.2441 \n",
       "  \"/>\n",
       "<polyline clip-path=\"url(#clip022)\" style=\"stroke:#000000; stroke-linecap:butt; stroke-linejoin:round; stroke-width:2; stroke-opacity:0.1; fill:none\" points=\"\n",
       "  1820.72,1486.45 1820.72,47.2441 \n",
       "  \"/>\n",
       "<polyline clip-path=\"url(#clip022)\" style=\"stroke:#000000; stroke-linecap:butt; stroke-linejoin:round; stroke-width:2; stroke-opacity:0.1; fill:none\" points=\"\n",
       "  2352.76,1486.45 2352.76,47.2441 \n",
       "  \"/>\n",
       "<polyline clip-path=\"url(#clip020)\" style=\"stroke:#000000; stroke-linecap:butt; stroke-linejoin:round; stroke-width:4; stroke-opacity:1; fill:none\" points=\"\n",
       "  224.098,1486.45 2352.76,1486.45 \n",
       "  \"/>\n",
       "<polyline clip-path=\"url(#clip020)\" style=\"stroke:#000000; stroke-linecap:butt; stroke-linejoin:round; stroke-width:4; stroke-opacity:1; fill:none\" points=\"\n",
       "  224.63,1486.45 224.63,1467.55 \n",
       "  \"/>\n",
       "<polyline clip-path=\"url(#clip020)\" style=\"stroke:#000000; stroke-linecap:butt; stroke-linejoin:round; stroke-width:4; stroke-opacity:1; fill:none\" points=\"\n",
       "  756.661,1486.45 756.661,1467.55 \n",
       "  \"/>\n",
       "<polyline clip-path=\"url(#clip020)\" style=\"stroke:#000000; stroke-linecap:butt; stroke-linejoin:round; stroke-width:4; stroke-opacity:1; fill:none\" points=\"\n",
       "  1288.69,1486.45 1288.69,1467.55 \n",
       "  \"/>\n",
       "<polyline clip-path=\"url(#clip020)\" style=\"stroke:#000000; stroke-linecap:butt; stroke-linejoin:round; stroke-width:4; stroke-opacity:1; fill:none\" points=\"\n",
       "  1820.72,1486.45 1820.72,1467.55 \n",
       "  \"/>\n",
       "<polyline clip-path=\"url(#clip020)\" style=\"stroke:#000000; stroke-linecap:butt; stroke-linejoin:round; stroke-width:4; stroke-opacity:1; fill:none\" points=\"\n",
       "  2352.76,1486.45 2352.76,1467.55 \n",
       "  \"/>\n",
       "<path clip-path=\"url(#clip020)\" d=\"M224.63 1517.37 Q221.019 1517.37 219.19 1520.93 Q217.385 1524.47 217.385 1531.6 Q217.385 1538.71 219.19 1542.27 Q221.019 1545.82 224.63 1545.82 Q228.264 1545.82 230.07 1542.27 Q231.898 1538.71 231.898 1531.6 Q231.898 1524.47 230.07 1520.93 Q228.264 1517.37 224.63 1517.37 M224.63 1513.66 Q230.44 1513.66 233.496 1518.27 Q236.574 1522.85 236.574 1531.6 Q236.574 1540.33 233.496 1544.94 Q230.44 1549.52 224.63 1549.52 Q218.82 1549.52 215.741 1544.94 Q212.686 1540.33 212.686 1531.6 Q212.686 1522.85 215.741 1518.27 Q218.82 1513.66 224.63 1513.66 Z\" fill=\"#000000\" fill-rule=\"evenodd\" fill-opacity=\"1\" /><path clip-path=\"url(#clip020)\" d=\"M747.043 1544.91 L754.682 1544.91 L754.682 1518.55 L746.372 1520.21 L746.372 1515.95 L754.636 1514.29 L759.312 1514.29 L759.312 1544.91 L766.951 1544.91 L766.951 1548.85 L747.043 1548.85 L747.043 1544.91 Z\" fill=\"#000000\" fill-rule=\"evenodd\" fill-opacity=\"1\" /><path clip-path=\"url(#clip020)\" d=\"M1283.35 1544.91 L1299.67 1544.91 L1299.67 1548.85 L1277.72 1548.85 L1277.72 1544.91 Q1280.38 1542.16 1284.97 1537.53 Q1289.57 1532.88 1290.75 1531.53 Q1293 1529.01 1293.88 1527.27 Q1294.78 1525.51 1294.78 1523.82 Q1294.78 1521.07 1292.84 1519.33 Q1290.92 1517.6 1287.81 1517.6 Q1285.61 1517.6 1283.16 1518.36 Q1280.73 1519.13 1277.95 1520.68 L1277.95 1515.95 Q1280.78 1514.82 1283.23 1514.24 Q1285.68 1513.66 1287.72 1513.66 Q1293.09 1513.66 1296.29 1516.35 Q1299.48 1519.03 1299.48 1523.52 Q1299.48 1525.65 1298.67 1527.57 Q1297.88 1529.47 1295.78 1532.07 Q1295.2 1532.74 1292.1 1535.95 Q1288.99 1539.15 1283.35 1544.91 Z\" fill=\"#000000\" fill-rule=\"evenodd\" fill-opacity=\"1\" /><path clip-path=\"url(#clip020)\" d=\"M1824.97 1530.21 Q1828.33 1530.93 1830.2 1533.2 Q1832.1 1535.47 1832.1 1538.8 Q1832.1 1543.92 1828.58 1546.72 Q1825.06 1549.52 1818.58 1549.52 Q1816.41 1549.52 1814.09 1549.08 Q1811.8 1548.66 1809.35 1547.81 L1809.35 1543.29 Q1811.29 1544.43 1813.61 1545.01 Q1815.92 1545.58 1818.44 1545.58 Q1822.84 1545.58 1825.13 1543.85 Q1827.45 1542.11 1827.45 1538.8 Q1827.45 1535.75 1825.3 1534.03 Q1823.17 1532.3 1819.35 1532.3 L1815.32 1532.3 L1815.32 1528.45 L1819.53 1528.45 Q1822.98 1528.45 1824.81 1527.09 Q1826.64 1525.7 1826.64 1523.11 Q1826.64 1520.45 1824.74 1519.03 Q1822.87 1517.6 1819.35 1517.6 Q1817.43 1517.6 1815.23 1518.01 Q1813.03 1518.43 1810.39 1519.31 L1810.39 1515.14 Q1813.05 1514.4 1815.37 1514.03 Q1817.7 1513.66 1819.76 1513.66 Q1825.09 1513.66 1828.19 1516.09 Q1831.29 1518.5 1831.29 1522.62 Q1831.29 1525.49 1829.65 1527.48 Q1828 1529.45 1824.97 1530.21 Z\" fill=\"#000000\" fill-rule=\"evenodd\" fill-opacity=\"1\" /><path clip-path=\"url(#clip020)\" d=\"M2355.77 1518.36 L2343.96 1536.81 L2355.77 1536.81 L2355.77 1518.36 M2354.54 1514.29 L2360.42 1514.29 L2360.42 1536.81 L2365.35 1536.81 L2365.35 1540.7 L2360.42 1540.7 L2360.42 1548.85 L2355.77 1548.85 L2355.77 1540.7 L2340.16 1540.7 L2340.16 1536.19 L2354.54 1514.29 Z\" fill=\"#000000\" fill-rule=\"evenodd\" fill-opacity=\"1\" /><polyline clip-path=\"url(#clip022)\" style=\"stroke:#000000; stroke-linecap:butt; stroke-linejoin:round; stroke-width:2; stroke-opacity:0.1; fill:none\" points=\"\n",
       "  224.098,1486.45 2352.76,1486.45 \n",
       "  \"/>\n",
       "<polyline clip-path=\"url(#clip022)\" style=\"stroke:#000000; stroke-linecap:butt; stroke-linejoin:round; stroke-width:2; stroke-opacity:0.1; fill:none\" points=\"\n",
       "  224.098,1126.65 2352.76,1126.65 \n",
       "  \"/>\n",
       "<polyline clip-path=\"url(#clip022)\" style=\"stroke:#000000; stroke-linecap:butt; stroke-linejoin:round; stroke-width:2; stroke-opacity:0.1; fill:none\" points=\"\n",
       "  224.098,766.846 2352.76,766.846 \n",
       "  \"/>\n",
       "<polyline clip-path=\"url(#clip022)\" style=\"stroke:#000000; stroke-linecap:butt; stroke-linejoin:round; stroke-width:2; stroke-opacity:0.1; fill:none\" points=\"\n",
       "  224.098,407.045 2352.76,407.045 \n",
       "  \"/>\n",
       "<polyline clip-path=\"url(#clip022)\" style=\"stroke:#000000; stroke-linecap:butt; stroke-linejoin:round; stroke-width:2; stroke-opacity:0.1; fill:none\" points=\"\n",
       "  224.098,47.2441 2352.76,47.2441 \n",
       "  \"/>\n",
       "<polyline clip-path=\"url(#clip020)\" style=\"stroke:#000000; stroke-linecap:butt; stroke-linejoin:round; stroke-width:4; stroke-opacity:1; fill:none\" points=\"\n",
       "  224.098,1486.45 224.098,47.2441 \n",
       "  \"/>\n",
       "<polyline clip-path=\"url(#clip020)\" style=\"stroke:#000000; stroke-linecap:butt; stroke-linejoin:round; stroke-width:4; stroke-opacity:1; fill:none\" points=\"\n",
       "  224.098,1486.45 242.996,1486.45 \n",
       "  \"/>\n",
       "<polyline clip-path=\"url(#clip020)\" style=\"stroke:#000000; stroke-linecap:butt; stroke-linejoin:round; stroke-width:4; stroke-opacity:1; fill:none\" points=\"\n",
       "  224.098,1126.65 242.996,1126.65 \n",
       "  \"/>\n",
       "<polyline clip-path=\"url(#clip020)\" style=\"stroke:#000000; stroke-linecap:butt; stroke-linejoin:round; stroke-width:4; stroke-opacity:1; fill:none\" points=\"\n",
       "  224.098,766.846 242.996,766.846 \n",
       "  \"/>\n",
       "<polyline clip-path=\"url(#clip020)\" style=\"stroke:#000000; stroke-linecap:butt; stroke-linejoin:round; stroke-width:4; stroke-opacity:1; fill:none\" points=\"\n",
       "  224.098,407.045 242.996,407.045 \n",
       "  \"/>\n",
       "<polyline clip-path=\"url(#clip020)\" style=\"stroke:#000000; stroke-linecap:butt; stroke-linejoin:round; stroke-width:4; stroke-opacity:1; fill:none\" points=\"\n",
       "  224.098,47.2441 242.996,47.2441 \n",
       "  \"/>\n",
       "<path clip-path=\"url(#clip020)\" d=\"M50.9921 1486.9 L80.6679 1486.9 L80.6679 1490.83 L50.9921 1490.83 L50.9921 1486.9 Z\" fill=\"#000000\" fill-rule=\"evenodd\" fill-opacity=\"1\" /><path clip-path=\"url(#clip020)\" d=\"M100.76 1472.25 Q97.1493 1472.25 95.3206 1475.81 Q93.515 1479.35 93.515 1486.48 Q93.515 1493.59 95.3206 1497.15 Q97.1493 1500.7 100.76 1500.7 Q104.395 1500.7 106.2 1497.15 Q108.029 1493.59 108.029 1486.48 Q108.029 1479.35 106.2 1475.81 Q104.395 1472.25 100.76 1472.25 M100.76 1468.54 Q106.571 1468.54 109.626 1473.15 Q112.705 1477.73 112.705 1486.48 Q112.705 1495.21 109.626 1499.82 Q106.571 1504.4 100.76 1504.4 Q94.9502 1504.4 91.8715 1499.82 Q88.816 1495.21 88.816 1486.48 Q88.816 1477.73 91.8715 1473.15 Q94.9502 1468.54 100.76 1468.54 Z\" fill=\"#000000\" fill-rule=\"evenodd\" fill-opacity=\"1\" /><path clip-path=\"url(#clip020)\" d=\"M120.922 1497.85 L125.807 1497.85 L125.807 1503.73 L120.922 1503.73 L120.922 1497.85 Z\" fill=\"#000000\" fill-rule=\"evenodd\" fill-opacity=\"1\" /><path clip-path=\"url(#clip020)\" d=\"M136.802 1499.79 L144.441 1499.79 L144.441 1473.43 L136.131 1475.09 L136.131 1470.83 L144.394 1469.17 L149.07 1469.17 L149.07 1499.79 L156.709 1499.79 L156.709 1503.73 L136.802 1503.73 L136.802 1499.79 Z\" fill=\"#000000\" fill-rule=\"evenodd\" fill-opacity=\"1\" /><path clip-path=\"url(#clip020)\" d=\"M176.153 1472.25 Q172.542 1472.25 170.714 1475.81 Q168.908 1479.35 168.908 1486.48 Q168.908 1493.59 170.714 1497.15 Q172.542 1500.7 176.153 1500.7 Q179.788 1500.7 181.593 1497.15 Q183.422 1493.59 183.422 1486.48 Q183.422 1479.35 181.593 1475.81 Q179.788 1472.25 176.153 1472.25 M176.153 1468.54 Q181.964 1468.54 185.019 1473.15 Q188.098 1477.73 188.098 1486.48 Q188.098 1495.21 185.019 1499.82 Q181.964 1504.4 176.153 1504.4 Q170.343 1504.4 167.265 1499.82 Q164.209 1495.21 164.209 1486.48 Q164.209 1477.73 167.265 1473.15 Q170.343 1468.54 176.153 1468.54 Z\" fill=\"#000000\" fill-rule=\"evenodd\" fill-opacity=\"1\" /><path clip-path=\"url(#clip020)\" d=\"M51.9875 1127.1 L81.6633 1127.1 L81.6633 1131.03 L51.9875 1131.03 L51.9875 1127.1 Z\" fill=\"#000000\" fill-rule=\"evenodd\" fill-opacity=\"1\" /><path clip-path=\"url(#clip020)\" d=\"M101.756 1112.45 Q98.1447 1112.45 96.316 1116.01 Q94.5104 1119.55 94.5104 1126.68 Q94.5104 1133.79 96.316 1137.35 Q98.1447 1140.89 101.756 1140.89 Q105.39 1140.89 107.196 1137.35 Q109.024 1133.79 109.024 1126.68 Q109.024 1119.55 107.196 1116.01 Q105.39 1112.45 101.756 1112.45 M101.756 1108.74 Q107.566 1108.74 110.621 1113.35 Q113.7 1117.93 113.7 1126.68 Q113.7 1135.41 110.621 1140.01 Q107.566 1144.6 101.756 1144.6 Q95.9456 1144.6 92.8669 1140.01 Q89.8114 1135.41 89.8114 1126.68 Q89.8114 1117.93 92.8669 1113.35 Q95.9456 1108.74 101.756 1108.74 Z\" fill=\"#000000\" fill-rule=\"evenodd\" fill-opacity=\"1\" /><path clip-path=\"url(#clip020)\" d=\"M121.918 1138.05 L126.802 1138.05 L126.802 1143.93 L121.918 1143.93 L121.918 1138.05 Z\" fill=\"#000000\" fill-rule=\"evenodd\" fill-opacity=\"1\" /><path clip-path=\"url(#clip020)\" d=\"M146.987 1112.45 Q143.376 1112.45 141.547 1116.01 Q139.742 1119.55 139.742 1126.68 Q139.742 1133.79 141.547 1137.35 Q143.376 1140.89 146.987 1140.89 Q150.621 1140.89 152.427 1137.35 Q154.255 1133.79 154.255 1126.68 Q154.255 1119.55 152.427 1116.01 Q150.621 1112.45 146.987 1112.45 M146.987 1108.74 Q152.797 1108.74 155.853 1113.35 Q158.931 1117.93 158.931 1126.68 Q158.931 1135.41 155.853 1140.01 Q152.797 1144.6 146.987 1144.6 Q141.177 1144.6 138.098 1140.01 Q135.043 1135.41 135.043 1126.68 Q135.043 1117.93 138.098 1113.35 Q141.177 1108.74 146.987 1108.74 Z\" fill=\"#000000\" fill-rule=\"evenodd\" fill-opacity=\"1\" /><path clip-path=\"url(#clip020)\" d=\"M167.195 1109.37 L185.552 1109.37 L185.552 1113.3 L171.478 1113.3 L171.478 1121.77 Q172.496 1121.43 173.515 1121.27 Q174.533 1121.08 175.552 1121.08 Q181.339 1121.08 184.718 1124.25 Q188.098 1127.42 188.098 1132.84 Q188.098 1138.42 184.626 1141.52 Q181.153 1144.6 174.834 1144.6 Q172.658 1144.6 170.39 1144.23 Q168.144 1143.86 165.737 1143.12 L165.737 1138.42 Q167.82 1139.55 170.042 1140.11 Q172.265 1140.66 174.741 1140.66 Q178.746 1140.66 181.084 1138.56 Q183.422 1136.45 183.422 1132.84 Q183.422 1129.23 181.084 1127.12 Q178.746 1125.01 174.741 1125.01 Q172.866 1125.01 170.991 1125.43 Q169.14 1125.85 167.195 1126.73 L167.195 1109.37 Z\" fill=\"#000000\" fill-rule=\"evenodd\" fill-opacity=\"1\" /><path clip-path=\"url(#clip020)\" d=\"M100.76 752.645 Q97.1493 752.645 95.3206 756.209 Q93.515 759.751 93.515 766.881 Q93.515 773.987 95.3206 777.552 Q97.1493 781.094 100.76 781.094 Q104.395 781.094 106.2 777.552 Q108.029 773.987 108.029 766.881 Q108.029 759.751 106.2 756.209 Q104.395 752.645 100.76 752.645 M100.76 748.941 Q106.571 748.941 109.626 753.547 Q112.705 758.131 112.705 766.881 Q112.705 775.608 109.626 780.214 Q106.571 784.797 100.76 784.797 Q94.9502 784.797 91.8715 780.214 Q88.816 775.608 88.816 766.881 Q88.816 758.131 91.8715 753.547 Q94.9502 748.941 100.76 748.941 Z\" fill=\"#000000\" fill-rule=\"evenodd\" fill-opacity=\"1\" /><path clip-path=\"url(#clip020)\" d=\"M120.922 778.246 L125.807 778.246 L125.807 784.126 L120.922 784.126 L120.922 778.246 Z\" fill=\"#000000\" fill-rule=\"evenodd\" fill-opacity=\"1\" /><path clip-path=\"url(#clip020)\" d=\"M145.992 752.645 Q142.381 752.645 140.552 756.209 Q138.746 759.751 138.746 766.881 Q138.746 773.987 140.552 777.552 Q142.381 781.094 145.992 781.094 Q149.626 781.094 151.431 777.552 Q153.26 773.987 153.26 766.881 Q153.26 759.751 151.431 756.209 Q149.626 752.645 145.992 752.645 M145.992 748.941 Q151.802 748.941 154.857 753.547 Q157.936 758.131 157.936 766.881 Q157.936 775.608 154.857 780.214 Q151.802 784.797 145.992 784.797 Q140.181 784.797 137.103 780.214 Q134.047 775.608 134.047 766.881 Q134.047 758.131 137.103 753.547 Q140.181 748.941 145.992 748.941 Z\" fill=\"#000000\" fill-rule=\"evenodd\" fill-opacity=\"1\" /><path clip-path=\"url(#clip020)\" d=\"M176.153 752.645 Q172.542 752.645 170.714 756.209 Q168.908 759.751 168.908 766.881 Q168.908 773.987 170.714 777.552 Q172.542 781.094 176.153 781.094 Q179.788 781.094 181.593 777.552 Q183.422 773.987 183.422 766.881 Q183.422 759.751 181.593 756.209 Q179.788 752.645 176.153 752.645 M176.153 748.941 Q181.964 748.941 185.019 753.547 Q188.098 758.131 188.098 766.881 Q188.098 775.608 185.019 780.214 Q181.964 784.797 176.153 784.797 Q170.343 784.797 167.265 780.214 Q164.209 775.608 164.209 766.881 Q164.209 758.131 167.265 753.547 Q170.343 748.941 176.153 748.941 Z\" fill=\"#000000\" fill-rule=\"evenodd\" fill-opacity=\"1\" /><path clip-path=\"url(#clip020)\" d=\"M101.756 392.844 Q98.1447 392.844 96.316 396.409 Q94.5104 399.95 94.5104 407.08 Q94.5104 414.186 96.316 417.751 Q98.1447 421.293 101.756 421.293 Q105.39 421.293 107.196 417.751 Q109.024 414.186 109.024 407.08 Q109.024 399.95 107.196 396.409 Q105.39 392.844 101.756 392.844 M101.756 389.14 Q107.566 389.14 110.621 393.746 Q113.7 398.33 113.7 407.08 Q113.7 415.807 110.621 420.413 Q107.566 424.996 101.756 424.996 Q95.9456 424.996 92.8669 420.413 Q89.8114 415.807 89.8114 407.08 Q89.8114 398.33 92.8669 393.746 Q95.9456 389.14 101.756 389.14 Z\" fill=\"#000000\" fill-rule=\"evenodd\" fill-opacity=\"1\" /><path clip-path=\"url(#clip020)\" d=\"M121.918 418.445 L126.802 418.445 L126.802 424.325 L121.918 424.325 L121.918 418.445 Z\" fill=\"#000000\" fill-rule=\"evenodd\" fill-opacity=\"1\" /><path clip-path=\"url(#clip020)\" d=\"M146.987 392.844 Q143.376 392.844 141.547 396.409 Q139.742 399.95 139.742 407.08 Q139.742 414.186 141.547 417.751 Q143.376 421.293 146.987 421.293 Q150.621 421.293 152.427 417.751 Q154.255 414.186 154.255 407.08 Q154.255 399.95 152.427 396.409 Q150.621 392.844 146.987 392.844 M146.987 389.14 Q152.797 389.14 155.853 393.746 Q158.931 398.33 158.931 407.08 Q158.931 415.807 155.853 420.413 Q152.797 424.996 146.987 424.996 Q141.177 424.996 138.098 420.413 Q135.043 415.807 135.043 407.08 Q135.043 398.33 138.098 393.746 Q141.177 389.14 146.987 389.14 Z\" fill=\"#000000\" fill-rule=\"evenodd\" fill-opacity=\"1\" /><path clip-path=\"url(#clip020)\" d=\"M167.195 389.765 L185.552 389.765 L185.552 393.7 L171.478 393.7 L171.478 402.172 Q172.496 401.825 173.515 401.663 Q174.533 401.478 175.552 401.478 Q181.339 401.478 184.718 404.649 Q188.098 407.82 188.098 413.237 Q188.098 418.816 184.626 421.918 Q181.153 424.996 174.834 424.996 Q172.658 424.996 170.39 424.626 Q168.144 424.256 165.737 423.515 L165.737 418.816 Q167.82 419.95 170.042 420.506 Q172.265 421.061 174.741 421.061 Q178.746 421.061 181.084 418.955 Q183.422 416.848 183.422 413.237 Q183.422 409.626 181.084 407.52 Q178.746 405.413 174.741 405.413 Q172.866 405.413 170.991 405.83 Q169.14 406.246 167.195 407.126 L167.195 389.765 Z\" fill=\"#000000\" fill-rule=\"evenodd\" fill-opacity=\"1\" /><path clip-path=\"url(#clip020)\" d=\"M100.76 33.0428 Q97.1493 33.0428 95.3206 36.6076 Q93.515 40.1492 93.515 47.2788 Q93.515 54.3853 95.3206 57.9501 Q97.1493 61.4917 100.76 61.4917 Q104.395 61.4917 106.2 57.9501 Q108.029 54.3853 108.029 47.2788 Q108.029 40.1492 106.2 36.6076 Q104.395 33.0428 100.76 33.0428 M100.76 29.3391 Q106.571 29.3391 109.626 33.9456 Q112.705 38.5289 112.705 47.2788 Q112.705 56.0056 109.626 60.6121 Q106.571 65.1954 100.76 65.1954 Q94.9502 65.1954 91.8715 60.6121 Q88.816 56.0056 88.816 47.2788 Q88.816 38.5289 91.8715 33.9456 Q94.9502 29.3391 100.76 29.3391 Z\" fill=\"#000000\" fill-rule=\"evenodd\" fill-opacity=\"1\" /><path clip-path=\"url(#clip020)\" d=\"M120.922 58.6445 L125.807 58.6445 L125.807 64.5241 L120.922 64.5241 L120.922 58.6445 Z\" fill=\"#000000\" fill-rule=\"evenodd\" fill-opacity=\"1\" /><path clip-path=\"url(#clip020)\" d=\"M136.802 60.5889 L144.441 60.5889 L144.441 34.2233 L136.131 35.89 L136.131 31.6308 L144.394 29.9641 L149.07 29.9641 L149.07 60.5889 L156.709 60.5889 L156.709 64.5241 L136.802 64.5241 L136.802 60.5889 Z\" fill=\"#000000\" fill-rule=\"evenodd\" fill-opacity=\"1\" /><path clip-path=\"url(#clip020)\" d=\"M176.153 33.0428 Q172.542 33.0428 170.714 36.6076 Q168.908 40.1492 168.908 47.2788 Q168.908 54.3853 170.714 57.9501 Q172.542 61.4917 176.153 61.4917 Q179.788 61.4917 181.593 57.9501 Q183.422 54.3853 183.422 47.2788 Q183.422 40.1492 181.593 36.6076 Q179.788 33.0428 176.153 33.0428 M176.153 29.3391 Q181.964 29.3391 185.019 33.9456 Q188.098 38.5289 188.098 47.2788 Q188.098 56.0056 185.019 60.6121 Q181.964 65.1954 176.153 65.1954 Q170.343 65.1954 167.265 60.6121 Q164.209 56.0056 164.209 47.2788 Q164.209 38.5289 167.265 33.9456 Q170.343 29.3391 176.153 29.3391 Z\" fill=\"#000000\" fill-rule=\"evenodd\" fill-opacity=\"1\" /><circle clip-path=\"url(#clip022)\" cx=\"357.638\" cy=\"766.846\" r=\"14\" fill=\"#009af9\" fill-rule=\"evenodd\" fill-opacity=\"1\" stroke=\"#000000\" stroke-opacity=\"1\" stroke-width=\"3.2\"/>\n",
       "<circle clip-path=\"url(#clip022)\" cx=\"390.89\" cy=\"766.846\" r=\"14\" fill=\"#009af9\" fill-rule=\"evenodd\" fill-opacity=\"1\" stroke=\"#000000\" stroke-opacity=\"1\" stroke-width=\"3.2\"/>\n",
       "<circle clip-path=\"url(#clip022)\" cx=\"424.142\" cy=\"766.846\" r=\"14\" fill=\"#009af9\" fill-rule=\"evenodd\" fill-opacity=\"1\" stroke=\"#000000\" stroke-opacity=\"1\" stroke-width=\"3.2\"/>\n",
       "<circle clip-path=\"url(#clip022)\" cx=\"457.394\" cy=\"766.846\" r=\"14\" fill=\"#009af9\" fill-rule=\"evenodd\" fill-opacity=\"1\" stroke=\"#000000\" stroke-opacity=\"1\" stroke-width=\"3.2\"/>\n",
       "<circle clip-path=\"url(#clip022)\" cx=\"490.646\" cy=\"766.846\" r=\"14\" fill=\"#009af9\" fill-rule=\"evenodd\" fill-opacity=\"1\" stroke=\"#000000\" stroke-opacity=\"1\" stroke-width=\"3.2\"/>\n",
       "<circle clip-path=\"url(#clip022)\" cx=\"557.15\" cy=\"766.846\" r=\"14\" fill=\"#009af9\" fill-rule=\"evenodd\" fill-opacity=\"1\" stroke=\"#000000\" stroke-opacity=\"1\" stroke-width=\"3.2\"/>\n",
       "<circle clip-path=\"url(#clip022)\" cx=\"623.654\" cy=\"766.846\" r=\"14\" fill=\"#009af9\" fill-rule=\"evenodd\" fill-opacity=\"1\" stroke=\"#000000\" stroke-opacity=\"1\" stroke-width=\"3.2\"/>\n",
       "<circle clip-path=\"url(#clip022)\" cx=\"690.157\" cy=\"766.846\" r=\"14\" fill=\"#009af9\" fill-rule=\"evenodd\" fill-opacity=\"1\" stroke=\"#000000\" stroke-opacity=\"1\" stroke-width=\"3.2\"/>\n",
       "<circle clip-path=\"url(#clip022)\" cx=\"756.661\" cy=\"766.846\" r=\"14\" fill=\"#009af9\" fill-rule=\"evenodd\" fill-opacity=\"1\" stroke=\"#000000\" stroke-opacity=\"1\" stroke-width=\"3.2\"/>\n",
       "<circle clip-path=\"url(#clip022)\" cx=\"889.669\" cy=\"766.846\" r=\"14\" fill=\"#009af9\" fill-rule=\"evenodd\" fill-opacity=\"1\" stroke=\"#000000\" stroke-opacity=\"1\" stroke-width=\"3.2\"/>\n",
       "<circle clip-path=\"url(#clip022)\" cx=\"1022.68\" cy=\"766.846\" r=\"14\" fill=\"#009af9\" fill-rule=\"evenodd\" fill-opacity=\"1\" stroke=\"#000000\" stroke-opacity=\"1\" stroke-width=\"3.2\"/>\n",
       "<circle clip-path=\"url(#clip022)\" cx=\"1155.69\" cy=\"766.846\" r=\"14\" fill=\"#009af9\" fill-rule=\"evenodd\" fill-opacity=\"1\" stroke=\"#000000\" stroke-opacity=\"1\" stroke-width=\"3.2\"/>\n",
       "<circle clip-path=\"url(#clip022)\" cx=\"1288.69\" cy=\"766.846\" r=\"14\" fill=\"#009af9\" fill-rule=\"evenodd\" fill-opacity=\"1\" stroke=\"#000000\" stroke-opacity=\"1\" stroke-width=\"3.2\"/>\n",
       "<circle clip-path=\"url(#clip022)\" cx=\"1554.71\" cy=\"766.846\" r=\"14\" fill=\"#009af9\" fill-rule=\"evenodd\" fill-opacity=\"1\" stroke=\"#000000\" stroke-opacity=\"1\" stroke-width=\"3.2\"/>\n",
       "<circle clip-path=\"url(#clip022)\" cx=\"1820.72\" cy=\"766.846\" r=\"14\" fill=\"#009af9\" fill-rule=\"evenodd\" fill-opacity=\"1\" stroke=\"#000000\" stroke-opacity=\"1\" stroke-width=\"3.2\"/>\n",
       "<circle clip-path=\"url(#clip022)\" cx=\"2086.74\" cy=\"766.846\" r=\"14\" fill=\"#009af9\" fill-rule=\"evenodd\" fill-opacity=\"1\" stroke=\"#000000\" stroke-opacity=\"1\" stroke-width=\"3.2\"/>\n",
       "<circle clip-path=\"url(#clip022)\" cx=\"224.63\" cy=\"407.045\" r=\"14\" fill=\"#e26f46\" fill-rule=\"evenodd\" fill-opacity=\"1\" stroke=\"#000000\" stroke-opacity=\"1\" stroke-width=\"3.2\"/>\n",
       "<circle clip-path=\"url(#clip022)\" cx=\"257.882\" cy=\"407.045\" r=\"14\" fill=\"#e26f46\" fill-rule=\"evenodd\" fill-opacity=\"1\" stroke=\"#000000\" stroke-opacity=\"1\" stroke-width=\"3.2\"/>\n",
       "<circle clip-path=\"url(#clip022)\" cx=\"291.134\" cy=\"407.045\" r=\"14\" fill=\"#e26f46\" fill-rule=\"evenodd\" fill-opacity=\"1\" stroke=\"#000000\" stroke-opacity=\"1\" stroke-width=\"3.2\"/>\n",
       "<circle clip-path=\"url(#clip022)\" cx=\"324.386\" cy=\"407.045\" r=\"14\" fill=\"#e26f46\" fill-rule=\"evenodd\" fill-opacity=\"1\" stroke=\"#000000\" stroke-opacity=\"1\" stroke-width=\"3.2\"/>\n",
       "<path clip-path=\"url(#clip020)\" d=\"\n",
       "M1645.76 250.738 L2281.8 250.738 L2281.8 95.2176 L1645.76 95.2176  Z\n",
       "  \" fill=\"#ffffff\" fill-rule=\"evenodd\" fill-opacity=\"1\"/>\n",
       "<polyline clip-path=\"url(#clip020)\" style=\"stroke:#000000; stroke-linecap:butt; stroke-linejoin:round; stroke-width:4; stroke-opacity:1; fill:none\" points=\"\n",
       "  1645.76,250.738 2281.8,250.738 2281.8,95.2176 1645.76,95.2176 1645.76,250.738 \n",
       "  \"/>\n",
       "<circle clip-path=\"url(#clip020)\" cx=\"1741.76\" cy=\"147.058\" r=\"23\" fill=\"#009af9\" fill-rule=\"evenodd\" fill-opacity=\"1\" stroke=\"#000000\" stroke-opacity=\"1\" stroke-width=\"5.12\"/>\n",
       "<path clip-path=\"url(#clip020)\" d=\"M1859.47 148.689 L1859.47 164.338 L1855.21 164.338 L1855.21 148.828 Q1855.21 145.148 1853.78 143.319 Q1852.34 141.49 1849.47 141.49 Q1846.02 141.49 1844.03 143.69 Q1842.04 145.889 1842.04 149.685 L1842.04 164.338 L1837.76 164.338 L1837.76 138.412 L1842.04 138.412 L1842.04 142.44 Q1843.57 140.102 1845.63 138.944 Q1847.71 137.787 1850.42 137.787 Q1854.89 137.787 1857.18 140.565 Q1859.47 143.319 1859.47 148.689 Z\" fill=\"#000000\" fill-rule=\"evenodd\" fill-opacity=\"1\" /><path clip-path=\"url(#clip020)\" d=\"M1878.02 141.398 Q1874.59 141.398 1872.6 144.083 Q1870.61 146.745 1870.61 151.398 Q1870.61 156.051 1872.58 158.736 Q1874.57 161.398 1878.02 161.398 Q1881.42 161.398 1883.41 158.713 Q1885.4 156.027 1885.4 151.398 Q1885.4 146.791 1883.41 144.106 Q1881.42 141.398 1878.02 141.398 M1878.02 137.787 Q1883.57 137.787 1886.74 141.398 Q1889.91 145.009 1889.91 151.398 Q1889.91 157.764 1886.74 161.398 Q1883.57 165.009 1878.02 165.009 Q1872.44 165.009 1869.27 161.398 Q1866.12 157.764 1866.12 151.398 Q1866.12 145.009 1869.27 141.398 Q1872.44 137.787 1878.02 137.787 Z\" fill=\"#000000\" fill-rule=\"evenodd\" fill-opacity=\"1\" /><path clip-path=\"url(#clip020)\" d=\"M1912 142.393 Q1911.28 141.977 1910.42 141.791 Q1909.59 141.583 1908.57 141.583 Q1904.96 141.583 1903.02 143.944 Q1901.09 146.282 1901.09 150.68 L1901.09 164.338 L1896.81 164.338 L1896.81 138.412 L1901.09 138.412 L1901.09 142.44 Q1902.44 140.078 1904.59 138.944 Q1906.74 137.787 1909.82 137.787 Q1910.26 137.787 1910.79 137.856 Q1911.33 137.903 1911.97 138.018 L1912 142.393 Z\" fill=\"#000000\" fill-rule=\"evenodd\" fill-opacity=\"1\" /><path clip-path=\"url(#clip020)\" d=\"M1935.82 143.389 Q1937.41 140.518 1939.64 139.153 Q1941.86 137.787 1944.87 137.787 Q1948.92 137.787 1951.12 140.634 Q1953.32 143.458 1953.32 148.689 L1953.32 164.338 L1949.03 164.338 L1949.03 148.828 Q1949.03 145.102 1947.71 143.296 Q1946.39 141.49 1943.69 141.49 Q1940.38 141.49 1938.45 143.69 Q1936.53 145.889 1936.53 149.685 L1936.53 164.338 L1932.25 164.338 L1932.25 148.828 Q1932.25 145.078 1930.93 143.296 Q1929.61 141.49 1926.86 141.49 Q1923.59 141.49 1921.67 143.713 Q1919.75 145.912 1919.75 149.685 L1919.75 164.338 L1915.47 164.338 L1915.47 138.412 L1919.75 138.412 L1919.75 142.44 Q1921.21 140.055 1923.25 138.921 Q1925.28 137.787 1928.08 137.787 Q1930.91 137.787 1932.88 139.222 Q1934.87 140.657 1935.82 143.389 Z\" fill=\"#000000\" fill-rule=\"evenodd\" fill-opacity=\"1\" /><path clip-path=\"url(#clip020)\" d=\"M1973.59 151.305 Q1968.43 151.305 1966.44 152.486 Q1964.45 153.666 1964.45 156.514 Q1964.45 158.782 1965.93 160.125 Q1967.44 161.444 1970.01 161.444 Q1973.55 161.444 1975.68 158.944 Q1977.83 156.421 1977.83 152.254 L1977.83 151.305 L1973.59 151.305 M1982.09 149.546 L1982.09 164.338 L1977.83 164.338 L1977.83 160.402 Q1976.37 162.763 1974.2 163.898 Q1972.02 165.009 1968.87 165.009 Q1964.89 165.009 1962.53 162.787 Q1960.19 160.541 1960.19 156.791 Q1960.19 152.416 1963.11 150.194 Q1966.05 147.972 1971.86 147.972 L1977.83 147.972 L1977.83 147.555 Q1977.83 144.615 1975.89 143.018 Q1973.96 141.398 1970.47 141.398 Q1968.25 141.398 1966.14 141.93 Q1964.03 142.463 1962.09 143.527 L1962.09 139.592 Q1964.43 138.69 1966.63 138.25 Q1968.83 137.787 1970.91 137.787 Q1976.53 137.787 1979.31 140.703 Q1982.09 143.62 1982.09 149.546 Z\" fill=\"#000000\" fill-rule=\"evenodd\" fill-opacity=\"1\" /><path clip-path=\"url(#clip020)\" d=\"M1990.86 128.319 L1995.12 128.319 L1995.12 164.338 L1990.86 164.338 L1990.86 128.319 Z\" fill=\"#000000\" fill-rule=\"evenodd\" fill-opacity=\"1\" /><path clip-path=\"url(#clip020)\" d=\"M2004.03 138.412 L2008.29 138.412 L2008.29 164.338 L2004.03 164.338 L2004.03 138.412 M2004.03 128.319 L2008.29 128.319 L2008.29 133.713 L2004.03 133.713 L2004.03 128.319 Z\" fill=\"#000000\" fill-rule=\"evenodd\" fill-opacity=\"1\" /><path clip-path=\"url(#clip020)\" d=\"M2015.35 138.412 L2035.58 138.412 L2035.58 142.301 L2019.57 160.935 L2035.58 160.935 L2035.58 164.338 L2014.77 164.338 L2014.77 160.449 L2030.79 141.815 L2015.35 141.815 L2015.35 138.412 Z\" fill=\"#000000\" fill-rule=\"evenodd\" fill-opacity=\"1\" /><path clip-path=\"url(#clip020)\" d=\"M2053.87 151.305 Q2048.71 151.305 2046.72 152.486 Q2044.73 153.666 2044.73 156.514 Q2044.73 158.782 2046.21 160.125 Q2047.71 161.444 2050.28 161.444 Q2053.82 161.444 2055.95 158.944 Q2058.11 156.421 2058.11 152.254 L2058.11 151.305 L2053.87 151.305 M2062.37 149.546 L2062.37 164.338 L2058.11 164.338 L2058.11 160.402 Q2056.65 162.763 2054.47 163.898 Q2052.3 165.009 2049.15 165.009 Q2045.17 165.009 2042.81 162.787 Q2040.47 160.541 2040.47 156.791 Q2040.47 152.416 2043.38 150.194 Q2046.32 147.972 2052.13 147.972 L2058.11 147.972 L2058.11 147.555 Q2058.11 144.615 2056.16 143.018 Q2054.24 141.398 2050.75 141.398 Q2048.52 141.398 2046.42 141.93 Q2044.31 142.463 2042.37 143.527 L2042.37 139.592 Q2044.7 138.69 2046.9 138.25 Q2049.1 137.787 2051.19 137.787 Q2056.81 137.787 2059.59 140.703 Q2062.37 143.62 2062.37 149.546 Z\" fill=\"#000000\" fill-rule=\"evenodd\" fill-opacity=\"1\" /><path clip-path=\"url(#clip020)\" d=\"M2088.2 142.347 L2088.2 128.319 L2092.46 128.319 L2092.46 164.338 L2088.2 164.338 L2088.2 160.449 Q2086.86 162.763 2084.8 163.898 Q2082.76 165.009 2079.89 165.009 Q2075.19 165.009 2072.23 161.259 Q2069.29 157.509 2069.29 151.398 Q2069.29 145.287 2072.23 141.537 Q2075.19 137.787 2079.89 137.787 Q2082.76 137.787 2084.8 138.921 Q2086.86 140.032 2088.2 142.347 M2073.69 151.398 Q2073.69 156.097 2075.61 158.782 Q2077.55 161.444 2080.93 161.444 Q2084.31 161.444 2086.26 158.782 Q2088.2 156.097 2088.2 151.398 Q2088.2 146.699 2086.26 144.037 Q2084.31 141.352 2080.93 141.352 Q2077.55 141.352 2075.61 144.037 Q2073.69 146.699 2073.69 151.398 Z\" fill=\"#000000\" fill-rule=\"evenodd\" fill-opacity=\"1\" /><path clip-path=\"url(#clip020)\" d=\"M2111.28 141.398 Q2107.85 141.398 2105.86 144.083 Q2103.87 146.745 2103.87 151.398 Q2103.87 156.051 2105.84 158.736 Q2107.83 161.398 2111.28 161.398 Q2114.68 161.398 2116.67 158.713 Q2118.66 156.027 2118.66 151.398 Q2118.66 146.791 2116.67 144.106 Q2114.68 141.398 2111.28 141.398 M2111.28 137.787 Q2116.83 137.787 2120 141.398 Q2123.18 145.009 2123.18 151.398 Q2123.18 157.764 2120 161.398 Q2116.83 165.009 2111.28 165.009 Q2105.7 165.009 2102.53 161.398 Q2099.38 157.764 2099.38 151.398 Q2099.38 145.009 2102.53 141.398 Q2105.7 137.787 2111.28 137.787 Z\" fill=\"#000000\" fill-rule=\"evenodd\" fill-opacity=\"1\" /><path clip-path=\"url(#clip020)\" d=\"M2146.76 139.176 L2146.76 143.203 Q2144.96 142.277 2143.01 141.815 Q2141.07 141.352 2138.99 141.352 Q2135.82 141.352 2134.22 142.324 Q2132.64 143.296 2132.64 145.24 Q2132.64 146.722 2133.78 147.578 Q2134.91 148.412 2138.34 149.176 L2139.8 149.5 Q2144.33 150.472 2146.23 152.254 Q2148.15 154.014 2148.15 157.185 Q2148.15 160.796 2145.28 162.902 Q2142.44 165.009 2137.44 165.009 Q2135.35 165.009 2133.08 164.592 Q2130.84 164.199 2128.34 163.388 L2128.34 158.99 Q2130.7 160.217 2132.99 160.842 Q2135.28 161.444 2137.53 161.444 Q2140.54 161.444 2142.16 160.426 Q2143.78 159.384 2143.78 157.509 Q2143.78 155.773 2142.6 154.847 Q2141.44 153.921 2137.48 153.064 L2136 152.717 Q2132.04 151.884 2130.28 150.171 Q2128.52 148.435 2128.52 145.426 Q2128.52 141.768 2131.12 139.778 Q2133.71 137.787 2138.48 137.787 Q2140.84 137.787 2142.92 138.134 Q2145 138.481 2146.76 139.176 Z\" fill=\"#000000\" fill-rule=\"evenodd\" fill-opacity=\"1\" /><circle clip-path=\"url(#clip020)\" cx=\"1741.76\" cy=\"198.898\" r=\"23\" fill=\"#e26f46\" fill-rule=\"evenodd\" fill-opacity=\"1\" stroke=\"#000000\" stroke-opacity=\"1\" stroke-width=\"5.12\"/>\n",
       "<path clip-path=\"url(#clip020)\" d=\"M1856.67 194.187 L1856.67 180.159 L1860.93 180.159 L1860.93 216.178 L1856.67 216.178 L1856.67 212.289 Q1855.33 214.603 1853.27 215.738 Q1851.23 216.849 1848.36 216.849 Q1843.66 216.849 1840.7 213.099 Q1837.76 209.349 1837.76 203.238 Q1837.76 197.127 1840.7 193.377 Q1843.66 189.627 1848.36 189.627 Q1851.23 189.627 1853.27 190.761 Q1855.33 191.872 1856.67 194.187 M1842.16 203.238 Q1842.16 207.937 1844.08 210.622 Q1846.02 213.284 1849.4 213.284 Q1852.78 213.284 1854.73 210.622 Q1856.67 207.937 1856.67 203.238 Q1856.67 198.539 1854.73 195.877 Q1852.78 193.192 1849.4 193.192 Q1846.02 193.192 1844.08 195.877 Q1842.16 198.539 1842.16 203.238 Z\" fill=\"#000000\" fill-rule=\"evenodd\" fill-opacity=\"1\" /><path clip-path=\"url(#clip020)\" d=\"M1891.88 202.15 L1891.88 204.233 L1872.3 204.233 Q1872.58 208.631 1874.94 210.946 Q1877.32 213.238 1881.56 213.238 Q1884.01 213.238 1886.3 212.636 Q1888.62 212.034 1890.89 210.83 L1890.89 214.858 Q1888.59 215.83 1886.19 216.34 Q1883.78 216.849 1881.3 216.849 Q1875.1 216.849 1871.46 213.238 Q1867.85 209.627 1867.85 203.469 Q1867.85 197.104 1871.28 193.377 Q1874.73 189.627 1880.56 189.627 Q1885.79 189.627 1888.83 193.006 Q1891.88 196.363 1891.88 202.15 M1887.62 200.9 Q1887.58 197.405 1885.65 195.321 Q1883.76 193.238 1880.61 193.238 Q1877.04 193.238 1874.89 195.252 Q1872.76 197.266 1872.44 200.923 L1887.62 200.9 Z\" fill=\"#000000\" fill-rule=\"evenodd\" fill-opacity=\"1\" /><path clip-path=\"url(#clip020)\" d=\"M1915.4 191.016 L1915.4 195.043 Q1913.59 194.117 1911.65 193.655 Q1909.71 193.192 1907.62 193.192 Q1904.45 193.192 1902.85 194.164 Q1901.28 195.136 1901.28 197.08 Q1901.28 198.562 1902.41 199.418 Q1903.55 200.252 1906.97 201.016 L1908.43 201.34 Q1912.97 202.312 1914.87 204.094 Q1916.79 205.854 1916.79 209.025 Q1916.79 212.636 1913.92 214.742 Q1911.07 216.849 1906.07 216.849 Q1903.99 216.849 1901.72 216.432 Q1899.47 216.039 1896.97 215.228 L1896.97 210.83 Q1899.33 212.057 1901.63 212.682 Q1903.92 213.284 1906.16 213.284 Q1909.17 213.284 1910.79 212.266 Q1912.41 211.224 1912.41 209.349 Q1912.41 207.613 1911.23 206.687 Q1910.08 205.761 1906.12 204.904 L1904.64 204.557 Q1900.68 203.724 1898.92 202.011 Q1897.16 200.275 1897.16 197.266 Q1897.16 193.608 1899.75 191.618 Q1902.34 189.627 1907.11 189.627 Q1909.47 189.627 1911.56 189.974 Q1913.64 190.321 1915.4 191.016 Z\" fill=\"#000000\" fill-rule=\"evenodd\" fill-opacity=\"1\" /><path clip-path=\"url(#clip020)\" d=\"M1945.12 200.529 L1945.12 216.178 L1940.86 216.178 L1940.86 200.668 Q1940.86 196.988 1939.43 195.159 Q1937.99 193.33 1935.12 193.33 Q1931.67 193.33 1929.68 195.53 Q1927.69 197.729 1927.69 201.525 L1927.69 216.178 L1923.41 216.178 L1923.41 190.252 L1927.69 190.252 L1927.69 194.28 Q1929.22 191.942 1931.28 190.784 Q1933.36 189.627 1936.07 189.627 Q1940.54 189.627 1942.83 192.405 Q1945.12 195.159 1945.12 200.529 Z\" fill=\"#000000\" fill-rule=\"evenodd\" fill-opacity=\"1\" /><path clip-path=\"url(#clip020)\" d=\"M1963.66 193.238 Q1960.24 193.238 1958.25 195.923 Q1956.26 198.585 1956.26 203.238 Q1956.26 207.891 1958.22 210.576 Q1960.21 213.238 1963.66 213.238 Q1967.07 213.238 1969.06 210.553 Q1971.05 207.867 1971.05 203.238 Q1971.05 198.631 1969.06 195.946 Q1967.07 193.238 1963.66 193.238 M1963.66 189.627 Q1969.22 189.627 1972.39 193.238 Q1975.56 196.849 1975.56 203.238 Q1975.56 209.604 1972.39 213.238 Q1969.22 216.849 1963.66 216.849 Q1958.08 216.849 1954.91 213.238 Q1951.77 209.604 1951.77 203.238 Q1951.77 196.849 1954.91 193.238 Q1958.08 189.627 1963.66 189.627 Z\" fill=\"#000000\" fill-rule=\"evenodd\" fill-opacity=\"1\" /><path clip-path=\"url(#clip020)\" d=\"M1997.64 194.233 Q1996.93 193.817 1996.07 193.631 Q1995.24 193.423 1994.22 193.423 Q1990.61 193.423 1988.66 195.784 Q1986.74 198.122 1986.74 202.52 L1986.74 216.178 L1982.46 216.178 L1982.46 190.252 L1986.74 190.252 L1986.74 194.28 Q1988.08 191.918 1990.24 190.784 Q1992.39 189.627 1995.47 189.627 Q1995.91 189.627 1996.44 189.696 Q1996.97 189.743 1997.62 189.858 L1997.64 194.233 Z\" fill=\"#000000\" fill-rule=\"evenodd\" fill-opacity=\"1\" /><path clip-path=\"url(#clip020)\" d=\"M2021.46 195.229 Q2023.06 192.358 2025.28 190.993 Q2027.51 189.627 2030.51 189.627 Q2034.57 189.627 2036.76 192.474 Q2038.96 195.298 2038.96 200.529 L2038.96 216.178 L2034.68 216.178 L2034.68 200.668 Q2034.68 196.942 2033.36 195.136 Q2032.04 193.33 2029.33 193.33 Q2026.02 193.33 2024.1 195.53 Q2022.18 197.729 2022.18 201.525 L2022.18 216.178 L2017.9 216.178 L2017.9 200.668 Q2017.9 196.918 2016.58 195.136 Q2015.26 193.33 2012.51 193.33 Q2009.24 193.33 2007.32 195.553 Q2005.4 197.752 2005.4 201.525 L2005.4 216.178 L2001.12 216.178 L2001.12 190.252 L2005.4 190.252 L2005.4 194.28 Q2006.86 191.895 2008.89 190.761 Q2010.93 189.627 2013.73 189.627 Q2016.56 189.627 2018.52 191.062 Q2020.51 192.497 2021.46 195.229 Z\" fill=\"#000000\" fill-rule=\"evenodd\" fill-opacity=\"1\" /><path clip-path=\"url(#clip020)\" d=\"M2059.24 203.145 Q2054.08 203.145 2052.09 204.326 Q2050.1 205.506 2050.1 208.354 Q2050.1 210.622 2051.58 211.965 Q2053.08 213.284 2055.65 213.284 Q2059.2 213.284 2061.32 210.784 Q2063.48 208.261 2063.48 204.094 L2063.48 203.145 L2059.24 203.145 M2067.74 201.386 L2067.74 216.178 L2063.48 216.178 L2063.48 212.242 Q2062.02 214.603 2059.84 215.738 Q2057.67 216.849 2054.52 216.849 Q2050.54 216.849 2048.18 214.627 Q2045.84 212.381 2045.84 208.631 Q2045.84 204.256 2048.76 202.034 Q2051.7 199.812 2057.51 199.812 L2063.48 199.812 L2063.48 199.395 Q2063.48 196.455 2061.53 194.858 Q2059.61 193.238 2056.12 193.238 Q2053.89 193.238 2051.79 193.77 Q2049.68 194.303 2047.74 195.367 L2047.74 191.432 Q2050.07 190.53 2052.27 190.09 Q2054.47 189.627 2056.56 189.627 Q2062.18 189.627 2064.96 192.543 Q2067.74 195.46 2067.74 201.386 Z\" fill=\"#000000\" fill-rule=\"evenodd\" fill-opacity=\"1\" /><path clip-path=\"url(#clip020)\" d=\"M2076.51 180.159 L2080.77 180.159 L2080.77 216.178 L2076.51 216.178 L2076.51 180.159 Z\" fill=\"#000000\" fill-rule=\"evenodd\" fill-opacity=\"1\" /><path clip-path=\"url(#clip020)\" d=\"M2089.68 190.252 L2093.94 190.252 L2093.94 216.178 L2089.68 216.178 L2089.68 190.252 M2089.68 180.159 L2093.94 180.159 L2093.94 185.553 L2089.68 185.553 L2089.68 180.159 Z\" fill=\"#000000\" fill-rule=\"evenodd\" fill-opacity=\"1\" /><path clip-path=\"url(#clip020)\" d=\"M2101 190.252 L2121.23 190.252 L2121.23 194.141 L2105.21 212.775 L2121.23 212.775 L2121.23 216.178 L2100.42 216.178 L2100.42 212.289 L2116.44 193.655 L2101 193.655 L2101 190.252 Z\" fill=\"#000000\" fill-rule=\"evenodd\" fill-opacity=\"1\" /><path clip-path=\"url(#clip020)\" d=\"M2139.52 203.145 Q2134.36 203.145 2132.37 204.326 Q2130.38 205.506 2130.38 208.354 Q2130.38 210.622 2131.86 211.965 Q2133.36 213.284 2135.93 213.284 Q2139.47 213.284 2141.6 210.784 Q2143.75 208.261 2143.75 204.094 L2143.75 203.145 L2139.52 203.145 M2148.01 201.386 L2148.01 216.178 L2143.75 216.178 L2143.75 212.242 Q2142.3 214.603 2140.12 215.738 Q2137.94 216.849 2134.8 216.849 Q2130.82 216.849 2128.45 214.627 Q2126.12 212.381 2126.12 208.631 Q2126.12 204.256 2129.03 202.034 Q2131.97 199.812 2137.78 199.812 L2143.75 199.812 L2143.75 199.395 Q2143.75 196.455 2141.81 194.858 Q2139.89 193.238 2136.39 193.238 Q2134.17 193.238 2132.07 193.77 Q2129.96 194.303 2128.01 195.367 L2128.01 191.432 Q2130.35 190.53 2132.55 190.09 Q2134.75 189.627 2136.83 189.627 Q2142.46 189.627 2145.24 192.543 Q2148.01 195.46 2148.01 201.386 Z\" fill=\"#000000\" fill-rule=\"evenodd\" fill-opacity=\"1\" /><path clip-path=\"url(#clip020)\" d=\"M2173.85 194.187 L2173.85 180.159 L2178.11 180.159 L2178.11 216.178 L2173.85 216.178 L2173.85 212.289 Q2172.5 214.603 2170.44 215.738 Q2168.41 216.849 2165.54 216.849 Q2160.84 216.849 2157.88 213.099 Q2154.94 209.349 2154.94 203.238 Q2154.94 197.127 2157.88 193.377 Q2160.84 189.627 2165.54 189.627 Q2168.41 189.627 2170.44 190.761 Q2172.5 191.872 2173.85 194.187 M2159.33 203.238 Q2159.33 207.937 2161.25 210.622 Q2163.2 213.284 2166.58 213.284 Q2169.96 213.284 2171.9 210.622 Q2173.85 207.937 2173.85 203.238 Q2173.85 198.539 2171.9 195.877 Q2169.96 193.192 2166.58 193.192 Q2163.2 193.192 2161.25 195.877 Q2159.33 198.539 2159.33 203.238 Z\" fill=\"#000000\" fill-rule=\"evenodd\" fill-opacity=\"1\" /><path clip-path=\"url(#clip020)\" d=\"M2196.93 193.238 Q2193.5 193.238 2191.51 195.923 Q2189.52 198.585 2189.52 203.238 Q2189.52 207.891 2191.49 210.576 Q2193.48 213.238 2196.93 213.238 Q2200.33 213.238 2202.32 210.553 Q2204.31 207.867 2204.31 203.238 Q2204.31 198.631 2202.32 195.946 Q2200.33 193.238 2196.93 193.238 M2196.93 189.627 Q2202.48 189.627 2205.65 193.238 Q2208.82 196.849 2208.82 203.238 Q2208.82 209.604 2205.65 213.238 Q2202.48 216.849 2196.93 216.849 Q2191.35 216.849 2188.18 213.238 Q2185.03 209.604 2185.03 203.238 Q2185.03 196.849 2188.18 193.238 Q2191.35 189.627 2196.93 189.627 Z\" fill=\"#000000\" fill-rule=\"evenodd\" fill-opacity=\"1\" /><path clip-path=\"url(#clip020)\" d=\"M2232.41 191.016 L2232.41 195.043 Q2230.61 194.117 2228.66 193.655 Q2226.72 193.192 2224.63 193.192 Q2221.46 193.192 2219.87 194.164 Q2218.29 195.136 2218.29 197.08 Q2218.29 198.562 2219.43 199.418 Q2220.56 200.252 2223.99 201.016 L2225.44 201.34 Q2229.98 202.312 2231.88 204.094 Q2233.8 205.854 2233.8 209.025 Q2233.8 212.636 2230.93 214.742 Q2228.08 216.849 2223.08 216.849 Q2221 216.849 2218.73 216.432 Q2216.49 216.039 2213.99 215.228 L2213.99 210.83 Q2216.35 212.057 2218.64 212.682 Q2220.93 213.284 2223.18 213.284 Q2226.18 213.284 2227.81 212.266 Q2229.43 211.224 2229.43 209.349 Q2229.43 207.613 2228.25 206.687 Q2227.09 205.761 2223.13 204.904 L2221.65 204.557 Q2217.69 203.724 2215.93 202.011 Q2214.17 200.275 2214.17 197.266 Q2214.17 193.608 2216.76 191.618 Q2219.36 189.627 2224.12 189.627 Q2226.49 189.627 2228.57 189.974 Q2230.65 190.321 2232.41 191.016 Z\" fill=\"#000000\" fill-rule=\"evenodd\" fill-opacity=\"1\" /></svg>\n"
      ]
     },
     "execution_count": 16,
     "metadata": {},
     "output_type": "execute_result"
    }
   ],
   "source": [
    "scatter(x_fln,cero.(x_fln), xlim=(-0.001,4.0), ylim=(-0.1,0.1), label=\"normalizados\")\n",
    "scatter!(x_fld,cero.(x_fld).+0.05, label=\"desnormalizados\")"
   ]
  },
  {
   "cell_type": "markdown",
   "id": "e6a57a5a-a6a5-43b2-9c7f-3279c784c314",
   "metadata": {},
   "source": [
    "![Espaciamiento entre números en F(2,3,-1,2)](F23m12_list.png)"
   ]
  },
  {
   "cell_type": "code",
   "execution_count": 17,
   "id": "332b9736-c79e-45ce-be4f-98b7ca749767",
   "metadata": {},
   "outputs": [
    {
     "data": {
      "image/svg+xml": [
       "<?xml version=\"1.0\" encoding=\"utf-8\"?>\n",
       "<svg xmlns=\"http://www.w3.org/2000/svg\" xmlns:xlink=\"http://www.w3.org/1999/xlink\" width=\"600\" height=\"400\" viewBox=\"0 0 2400 1600\">\n",
       "<defs>\n",
       "  <clipPath id=\"clip060\">\n",
       "    <rect x=\"0\" y=\"0\" width=\"2400\" height=\"1600\"/>\n",
       "  </clipPath>\n",
       "</defs>\n",
       "<path clip-path=\"url(#clip060)\" d=\"\n",
       "M0 1600 L2400 1600 L2400 0 L0 0  Z\n",
       "  \" fill=\"#ffffff\" fill-rule=\"evenodd\" fill-opacity=\"1\"/>\n",
       "<defs>\n",
       "  <clipPath id=\"clip061\">\n",
       "    <rect x=\"480\" y=\"0\" width=\"1681\" height=\"1600\"/>\n",
       "  </clipPath>\n",
       "</defs>\n",
       "<path clip-path=\"url(#clip060)\" d=\"\n",
       "M110.881 1486.45 L2352.76 1486.45 L2352.76 47.2441 L110.881 47.2441  Z\n",
       "  \" fill=\"#ffffff\" fill-rule=\"evenodd\" fill-opacity=\"1\"/>\n",
       "<defs>\n",
       "  <clipPath id=\"clip062\">\n",
       "    <rect x=\"110\" y=\"47\" width=\"2243\" height=\"1440\"/>\n",
       "  </clipPath>\n",
       "</defs>\n",
       "<polyline clip-path=\"url(#clip062)\" style=\"stroke:#000000; stroke-linecap:butt; stroke-linejoin:round; stroke-width:2; stroke-opacity:0.1; fill:none\" points=\"\n",
       "  619.588,1486.45 619.588,47.2441 \n",
       "  \"/>\n",
       "<polyline clip-path=\"url(#clip062)\" style=\"stroke:#000000; stroke-linecap:butt; stroke-linejoin:round; stroke-width:2; stroke-opacity:0.1; fill:none\" points=\"\n",
       "  1176.16,1486.45 1176.16,47.2441 \n",
       "  \"/>\n",
       "<polyline clip-path=\"url(#clip062)\" style=\"stroke:#000000; stroke-linecap:butt; stroke-linejoin:round; stroke-width:2; stroke-opacity:0.1; fill:none\" points=\"\n",
       "  1732.73,1486.45 1732.73,47.2441 \n",
       "  \"/>\n",
       "<polyline clip-path=\"url(#clip062)\" style=\"stroke:#000000; stroke-linecap:butt; stroke-linejoin:round; stroke-width:2; stroke-opacity:0.1; fill:none\" points=\"\n",
       "  2289.31,1486.45 2289.31,47.2441 \n",
       "  \"/>\n",
       "<polyline clip-path=\"url(#clip060)\" style=\"stroke:#000000; stroke-linecap:butt; stroke-linejoin:round; stroke-width:4; stroke-opacity:1; fill:none\" points=\"\n",
       "  110.881,1486.45 2352.76,1486.45 \n",
       "  \"/>\n",
       "<polyline clip-path=\"url(#clip060)\" style=\"stroke:#000000; stroke-linecap:butt; stroke-linejoin:round; stroke-width:4; stroke-opacity:1; fill:none\" points=\"\n",
       "  619.588,1486.45 619.588,1467.55 \n",
       "  \"/>\n",
       "<polyline clip-path=\"url(#clip060)\" style=\"stroke:#000000; stroke-linecap:butt; stroke-linejoin:round; stroke-width:4; stroke-opacity:1; fill:none\" points=\"\n",
       "  1176.16,1486.45 1176.16,1467.55 \n",
       "  \"/>\n",
       "<polyline clip-path=\"url(#clip060)\" style=\"stroke:#000000; stroke-linecap:butt; stroke-linejoin:round; stroke-width:4; stroke-opacity:1; fill:none\" points=\"\n",
       "  1732.73,1486.45 1732.73,1467.55 \n",
       "  \"/>\n",
       "<polyline clip-path=\"url(#clip060)\" style=\"stroke:#000000; stroke-linecap:butt; stroke-linejoin:round; stroke-width:4; stroke-opacity:1; fill:none\" points=\"\n",
       "  2289.31,1486.45 2289.31,1467.55 \n",
       "  \"/>\n",
       "<path clip-path=\"url(#clip060)\" d=\"M609.866 1514.29 L628.223 1514.29 L628.223 1518.22 L614.149 1518.22 L614.149 1526.7 Q615.167 1526.35 616.186 1526.19 Q617.204 1526 618.223 1526 Q624.01 1526 627.389 1529.17 Q630.769 1532.34 630.769 1537.76 Q630.769 1543.34 627.297 1546.44 Q623.824 1549.52 617.505 1549.52 Q615.329 1549.52 613.061 1549.15 Q610.815 1548.78 608.408 1548.04 L608.408 1543.34 Q610.491 1544.47 612.713 1545.03 Q614.936 1545.58 617.412 1545.58 Q621.417 1545.58 623.755 1543.48 Q626.093 1541.37 626.093 1537.76 Q626.093 1534.15 623.755 1532.04 Q621.417 1529.94 617.412 1529.94 Q615.537 1529.94 613.662 1530.35 Q611.811 1530.77 609.866 1531.65 L609.866 1514.29 Z\" fill=\"#000000\" fill-rule=\"evenodd\" fill-opacity=\"1\" /><path clip-path=\"url(#clip060)\" d=\"M1150.85 1544.91 L1158.49 1544.91 L1158.49 1518.55 L1150.18 1520.21 L1150.18 1515.95 L1158.44 1514.29 L1163.12 1514.29 L1163.12 1544.91 L1170.76 1544.91 L1170.76 1548.85 L1150.85 1548.85 L1150.85 1544.91 Z\" fill=\"#000000\" fill-rule=\"evenodd\" fill-opacity=\"1\" /><path clip-path=\"url(#clip060)\" d=\"M1190.2 1517.37 Q1186.59 1517.37 1184.76 1520.93 Q1182.96 1524.47 1182.96 1531.6 Q1182.96 1538.71 1184.76 1542.27 Q1186.59 1545.82 1190.2 1545.82 Q1193.83 1545.82 1195.64 1542.27 Q1197.47 1538.71 1197.47 1531.6 Q1197.47 1524.47 1195.64 1520.93 Q1193.83 1517.37 1190.2 1517.37 M1190.2 1513.66 Q1196.01 1513.66 1199.07 1518.27 Q1202.14 1522.85 1202.14 1531.6 Q1202.14 1540.33 1199.07 1544.94 Q1196.01 1549.52 1190.2 1549.52 Q1184.39 1549.52 1181.31 1544.94 Q1178.26 1540.33 1178.26 1531.6 Q1178.26 1522.85 1181.31 1518.27 Q1184.39 1513.66 1190.2 1513.66 Z\" fill=\"#000000\" fill-rule=\"evenodd\" fill-opacity=\"1\" /><path clip-path=\"url(#clip060)\" d=\"M1707.92 1544.91 L1715.56 1544.91 L1715.56 1518.55 L1707.25 1520.21 L1707.25 1515.95 L1715.51 1514.29 L1720.19 1514.29 L1720.19 1544.91 L1727.83 1544.91 L1727.83 1548.85 L1707.92 1548.85 L1707.92 1544.91 Z\" fill=\"#000000\" fill-rule=\"evenodd\" fill-opacity=\"1\" /><path clip-path=\"url(#clip060)\" d=\"M1737.32 1514.29 L1755.67 1514.29 L1755.67 1518.22 L1741.6 1518.22 L1741.6 1526.7 Q1742.62 1526.35 1743.64 1526.19 Q1744.66 1526 1745.67 1526 Q1751.46 1526 1754.84 1529.17 Q1758.22 1532.34 1758.22 1537.76 Q1758.22 1543.34 1754.75 1546.44 Q1751.28 1549.52 1744.96 1549.52 Q1742.78 1549.52 1740.51 1549.15 Q1738.27 1548.78 1735.86 1548.04 L1735.86 1543.34 Q1737.94 1544.47 1740.16 1545.03 Q1742.39 1545.58 1744.86 1545.58 Q1748.87 1545.58 1751.21 1543.48 Q1753.54 1541.37 1753.54 1537.76 Q1753.54 1534.15 1751.21 1532.04 Q1748.87 1529.94 1744.86 1529.94 Q1742.99 1529.94 1741.11 1530.35 Q1739.26 1530.77 1737.32 1531.65 L1737.32 1514.29 Z\" fill=\"#000000\" fill-rule=\"evenodd\" fill-opacity=\"1\" /><path clip-path=\"url(#clip060)\" d=\"M2268.08 1544.91 L2284.4 1544.91 L2284.4 1548.85 L2262.45 1548.85 L2262.45 1544.91 Q2265.12 1542.16 2269.7 1537.53 Q2274.31 1532.88 2275.49 1531.53 Q2277.73 1529.01 2278.61 1527.27 Q2279.51 1525.51 2279.51 1523.82 Q2279.51 1521.07 2277.57 1519.33 Q2275.65 1517.6 2272.55 1517.6 Q2270.35 1517.6 2267.89 1518.36 Q2265.46 1519.13 2262.69 1520.68 L2262.69 1515.95 Q2265.51 1514.82 2267.96 1514.24 Q2270.42 1513.66 2272.45 1513.66 Q2277.83 1513.66 2281.02 1516.35 Q2284.21 1519.03 2284.21 1523.52 Q2284.21 1525.65 2283.4 1527.57 Q2282.62 1529.47 2280.51 1532.07 Q2279.93 1532.74 2276.83 1535.95 Q2273.73 1539.15 2268.08 1544.91 Z\" fill=\"#000000\" fill-rule=\"evenodd\" fill-opacity=\"1\" /><path clip-path=\"url(#clip060)\" d=\"M2304.21 1517.37 Q2300.6 1517.37 2298.77 1520.93 Q2296.97 1524.47 2296.97 1531.6 Q2296.97 1538.71 2298.77 1542.27 Q2300.6 1545.82 2304.21 1545.82 Q2307.85 1545.82 2309.65 1542.27 Q2311.48 1538.71 2311.48 1531.6 Q2311.48 1524.47 2309.65 1520.93 Q2307.85 1517.37 2304.21 1517.37 M2304.21 1513.66 Q2310.02 1513.66 2313.08 1518.27 Q2316.16 1522.85 2316.16 1531.6 Q2316.16 1540.33 2313.08 1544.94 Q2310.02 1549.52 2304.21 1549.52 Q2298.4 1549.52 2295.33 1544.94 Q2292.27 1540.33 2292.27 1531.6 Q2292.27 1522.85 2295.33 1518.27 Q2298.4 1513.66 2304.21 1513.66 Z\" fill=\"#000000\" fill-rule=\"evenodd\" fill-opacity=\"1\" /><polyline clip-path=\"url(#clip062)\" style=\"stroke:#000000; stroke-linecap:butt; stroke-linejoin:round; stroke-width:2; stroke-opacity:0.1; fill:none\" points=\"\n",
       "  110.881,1445.72 2352.76,1445.72 \n",
       "  \"/>\n",
       "<polyline clip-path=\"url(#clip062)\" style=\"stroke:#000000; stroke-linecap:butt; stroke-linejoin:round; stroke-width:2; stroke-opacity:0.1; fill:none\" points=\"\n",
       "  110.881,1057.79 2352.76,1057.79 \n",
       "  \"/>\n",
       "<polyline clip-path=\"url(#clip062)\" style=\"stroke:#000000; stroke-linecap:butt; stroke-linejoin:round; stroke-width:2; stroke-opacity:0.1; fill:none\" points=\"\n",
       "  110.881,669.865 2352.76,669.865 \n",
       "  \"/>\n",
       "<polyline clip-path=\"url(#clip062)\" style=\"stroke:#000000; stroke-linecap:butt; stroke-linejoin:round; stroke-width:2; stroke-opacity:0.1; fill:none\" points=\"\n",
       "  110.881,281.939 2352.76,281.939 \n",
       "  \"/>\n",
       "<polyline clip-path=\"url(#clip060)\" style=\"stroke:#000000; stroke-linecap:butt; stroke-linejoin:round; stroke-width:4; stroke-opacity:1; fill:none\" points=\"\n",
       "  110.881,1486.45 110.881,47.2441 \n",
       "  \"/>\n",
       "<polyline clip-path=\"url(#clip060)\" style=\"stroke:#000000; stroke-linecap:butt; stroke-linejoin:round; stroke-width:4; stroke-opacity:1; fill:none\" points=\"\n",
       "  110.881,1445.72 129.779,1445.72 \n",
       "  \"/>\n",
       "<polyline clip-path=\"url(#clip060)\" style=\"stroke:#000000; stroke-linecap:butt; stroke-linejoin:round; stroke-width:4; stroke-opacity:1; fill:none\" points=\"\n",
       "  110.881,1057.79 129.779,1057.79 \n",
       "  \"/>\n",
       "<polyline clip-path=\"url(#clip060)\" style=\"stroke:#000000; stroke-linecap:butt; stroke-linejoin:round; stroke-width:4; stroke-opacity:1; fill:none\" points=\"\n",
       "  110.881,669.865 129.779,669.865 \n",
       "  \"/>\n",
       "<polyline clip-path=\"url(#clip060)\" style=\"stroke:#000000; stroke-linecap:butt; stroke-linejoin:round; stroke-width:4; stroke-opacity:1; fill:none\" points=\"\n",
       "  110.881,281.939 129.779,281.939 \n",
       "  \"/>\n",
       "<path clip-path=\"url(#clip060)\" d=\"M62.9365 1431.51 Q59.3254 1431.51 57.4967 1435.08 Q55.6912 1438.62 55.6912 1445.75 Q55.6912 1452.86 57.4967 1456.42 Q59.3254 1459.96 62.9365 1459.96 Q66.5707 1459.96 68.3763 1456.42 Q70.205 1452.86 70.205 1445.75 Q70.205 1438.62 68.3763 1435.08 Q66.5707 1431.51 62.9365 1431.51 M62.9365 1427.81 Q68.7467 1427.81 71.8022 1432.42 Q74.8809 1437 74.8809 1445.75 Q74.8809 1454.48 71.8022 1459.08 Q68.7467 1463.67 62.9365 1463.67 Q57.1264 1463.67 54.0477 1459.08 Q50.9921 1454.48 50.9921 1445.75 Q50.9921 1437 54.0477 1432.42 Q57.1264 1427.81 62.9365 1427.81 Z\" fill=\"#000000\" fill-rule=\"evenodd\" fill-opacity=\"1\" /><path clip-path=\"url(#clip060)\" d=\"M54.9736 1071.13 L62.6124 1071.13 L62.6124 1044.77 L54.3023 1046.44 L54.3023 1042.18 L62.5661 1040.51 L67.242 1040.51 L67.242 1071.13 L74.8809 1071.13 L74.8809 1075.07 L54.9736 1075.07 L54.9736 1071.13 Z\" fill=\"#000000\" fill-rule=\"evenodd\" fill-opacity=\"1\" /><path clip-path=\"url(#clip060)\" d=\"M58.5615 683.209 L74.8809 683.209 L74.8809 687.145 L52.9366 687.145 L52.9366 683.209 Q55.5986 680.455 60.1819 675.825 Q64.7883 671.172 65.9689 669.83 Q68.2143 667.307 69.0939 665.571 Q69.9967 663.811 69.9967 662.122 Q69.9967 659.367 68.0522 657.631 Q66.1309 655.895 63.0291 655.895 Q60.83 655.895 58.3763 656.659 Q55.9458 657.423 53.168 658.973 L53.168 654.251 Q55.9921 653.117 58.4458 652.538 Q60.8995 651.96 62.9365 651.96 Q68.3068 651.96 71.5013 654.645 Q74.6957 657.33 74.6957 661.821 Q74.6957 663.95 73.8855 665.872 Q73.0985 667.77 70.992 670.362 Q70.4133 671.034 67.3115 674.251 Q64.2096 677.446 58.5615 683.209 Z\" fill=\"#000000\" fill-rule=\"evenodd\" fill-opacity=\"1\" /><path clip-path=\"url(#clip060)\" d=\"M67.7513 280.585 Q71.1078 281.302 72.9827 283.571 Q74.8809 285.839 74.8809 289.173 Q74.8809 294.289 71.3624 297.089 Q67.8439 299.89 61.3624 299.89 Q59.1865 299.89 56.8717 299.451 Q54.5801 299.034 52.1264 298.177 L52.1264 293.664 Q54.0708 294.798 56.3856 295.376 Q58.7004 295.955 61.2236 295.955 Q65.6217 295.955 67.9133 294.219 Q70.2281 292.483 70.2281 289.173 Q70.2281 286.117 68.0754 284.404 Q65.9457 282.668 62.1263 282.668 L58.0986 282.668 L58.0986 278.826 L62.3115 278.826 Q65.7606 278.826 67.5893 277.46 Q69.418 276.071 69.418 273.478 Q69.418 270.816 67.5198 269.404 Q65.6448 267.969 62.1263 267.969 Q60.205 267.969 58.006 268.386 Q55.8069 268.803 53.168 269.682 L53.168 265.516 Q55.8301 264.775 58.1449 264.404 Q60.4828 264.034 62.543 264.034 Q67.867 264.034 70.9689 266.465 Q74.0707 268.872 74.0707 272.992 Q74.0707 275.863 72.4272 277.853 Q70.7837 279.821 67.7513 280.585 Z\" fill=\"#000000\" fill-rule=\"evenodd\" fill-opacity=\"1\" /><circle clip-path=\"url(#clip062)\" cx=\"174.33\" cy=\"1445.72\" r=\"14\" fill=\"#009af9\" fill-rule=\"evenodd\" fill-opacity=\"1\" stroke=\"#000000\" stroke-opacity=\"1\" stroke-width=\"3.2\"/>\n",
       "<circle clip-path=\"url(#clip062)\" cx=\"285.645\" cy=\"1421.47\" r=\"14\" fill=\"#009af9\" fill-rule=\"evenodd\" fill-opacity=\"1\" stroke=\"#000000\" stroke-opacity=\"1\" stroke-width=\"3.2\"/>\n",
       "<circle clip-path=\"url(#clip062)\" cx=\"396.959\" cy=\"1397.22\" r=\"14\" fill=\"#009af9\" fill-rule=\"evenodd\" fill-opacity=\"1\" stroke=\"#000000\" stroke-opacity=\"1\" stroke-width=\"3.2\"/>\n",
       "<circle clip-path=\"url(#clip062)\" cx=\"508.274\" cy=\"1372.98\" r=\"14\" fill=\"#009af9\" fill-rule=\"evenodd\" fill-opacity=\"1\" stroke=\"#000000\" stroke-opacity=\"1\" stroke-width=\"3.2\"/>\n",
       "<circle clip-path=\"url(#clip062)\" cx=\"619.588\" cy=\"1348.73\" r=\"14\" fill=\"#009af9\" fill-rule=\"evenodd\" fill-opacity=\"1\" stroke=\"#000000\" stroke-opacity=\"1\" stroke-width=\"3.2\"/>\n",
       "<circle clip-path=\"url(#clip062)\" cx=\"730.903\" cy=\"1324.49\" r=\"14\" fill=\"#009af9\" fill-rule=\"evenodd\" fill-opacity=\"1\" stroke=\"#000000\" stroke-opacity=\"1\" stroke-width=\"3.2\"/>\n",
       "<circle clip-path=\"url(#clip062)\" cx=\"842.217\" cy=\"1300.24\" r=\"14\" fill=\"#009af9\" fill-rule=\"evenodd\" fill-opacity=\"1\" stroke=\"#000000\" stroke-opacity=\"1\" stroke-width=\"3.2\"/>\n",
       "<circle clip-path=\"url(#clip062)\" cx=\"953.532\" cy=\"1276\" r=\"14\" fill=\"#009af9\" fill-rule=\"evenodd\" fill-opacity=\"1\" stroke=\"#000000\" stroke-opacity=\"1\" stroke-width=\"3.2\"/>\n",
       "<circle clip-path=\"url(#clip062)\" cx=\"1064.85\" cy=\"1251.75\" r=\"14\" fill=\"#009af9\" fill-rule=\"evenodd\" fill-opacity=\"1\" stroke=\"#000000\" stroke-opacity=\"1\" stroke-width=\"3.2\"/>\n",
       "<circle clip-path=\"url(#clip062)\" cx=\"1176.16\" cy=\"1203.26\" r=\"14\" fill=\"#009af9\" fill-rule=\"evenodd\" fill-opacity=\"1\" stroke=\"#000000\" stroke-opacity=\"1\" stroke-width=\"3.2\"/>\n",
       "<circle clip-path=\"url(#clip062)\" cx=\"1287.48\" cy=\"1154.77\" r=\"14\" fill=\"#009af9\" fill-rule=\"evenodd\" fill-opacity=\"1\" stroke=\"#000000\" stroke-opacity=\"1\" stroke-width=\"3.2\"/>\n",
       "<circle clip-path=\"url(#clip062)\" cx=\"1398.79\" cy=\"1106.28\" r=\"14\" fill=\"#009af9\" fill-rule=\"evenodd\" fill-opacity=\"1\" stroke=\"#000000\" stroke-opacity=\"1\" stroke-width=\"3.2\"/>\n",
       "<circle clip-path=\"url(#clip062)\" cx=\"1510.1\" cy=\"1057.79\" r=\"14\" fill=\"#009af9\" fill-rule=\"evenodd\" fill-opacity=\"1\" stroke=\"#000000\" stroke-opacity=\"1\" stroke-width=\"3.2\"/>\n",
       "<circle clip-path=\"url(#clip062)\" cx=\"1621.42\" cy=\"960.809\" r=\"14\" fill=\"#009af9\" fill-rule=\"evenodd\" fill-opacity=\"1\" stroke=\"#000000\" stroke-opacity=\"1\" stroke-width=\"3.2\"/>\n",
       "<circle clip-path=\"url(#clip062)\" cx=\"1732.73\" cy=\"863.827\" r=\"14\" fill=\"#009af9\" fill-rule=\"evenodd\" fill-opacity=\"1\" stroke=\"#000000\" stroke-opacity=\"1\" stroke-width=\"3.2\"/>\n",
       "<circle clip-path=\"url(#clip062)\" cx=\"1844.05\" cy=\"766.846\" r=\"14\" fill=\"#009af9\" fill-rule=\"evenodd\" fill-opacity=\"1\" stroke=\"#000000\" stroke-opacity=\"1\" stroke-width=\"3.2\"/>\n",
       "<circle clip-path=\"url(#clip062)\" cx=\"1955.36\" cy=\"669.865\" r=\"14\" fill=\"#009af9\" fill-rule=\"evenodd\" fill-opacity=\"1\" stroke=\"#000000\" stroke-opacity=\"1\" stroke-width=\"3.2\"/>\n",
       "<circle clip-path=\"url(#clip062)\" cx=\"2066.68\" cy=\"475.902\" r=\"14\" fill=\"#009af9\" fill-rule=\"evenodd\" fill-opacity=\"1\" stroke=\"#000000\" stroke-opacity=\"1\" stroke-width=\"3.2\"/>\n",
       "<circle clip-path=\"url(#clip062)\" cx=\"2177.99\" cy=\"281.939\" r=\"14\" fill=\"#009af9\" fill-rule=\"evenodd\" fill-opacity=\"1\" stroke=\"#000000\" stroke-opacity=\"1\" stroke-width=\"3.2\"/>\n",
       "<circle clip-path=\"url(#clip062)\" cx=\"2289.31\" cy=\"87.9763\" r=\"14\" fill=\"#009af9\" fill-rule=\"evenodd\" fill-opacity=\"1\" stroke=\"#000000\" stroke-opacity=\"1\" stroke-width=\"3.2\"/>\n",
       "<path clip-path=\"url(#clip060)\" d=\"\n",
       "M1985.6 198.898 L2278.03 198.898 L2278.03 95.2176 L1985.6 95.2176  Z\n",
       "  \" fill=\"#ffffff\" fill-rule=\"evenodd\" fill-opacity=\"1\"/>\n",
       "<polyline clip-path=\"url(#clip060)\" style=\"stroke:#000000; stroke-linecap:butt; stroke-linejoin:round; stroke-width:4; stroke-opacity:1; fill:none\" points=\"\n",
       "  1985.6,198.898 2278.03,198.898 2278.03,95.2176 1985.6,95.2176 1985.6,198.898 \n",
       "  \"/>\n",
       "<circle clip-path=\"url(#clip060)\" cx=\"2081.6\" cy=\"147.058\" r=\"23\" fill=\"#009af9\" fill-rule=\"evenodd\" fill-opacity=\"1\" stroke=\"#000000\" stroke-opacity=\"1\" stroke-width=\"5.12\"/>\n",
       "<path clip-path=\"url(#clip060)\" d=\"M2191.44 166.745 Q2189.63 171.375 2187.92 172.787 Q2186.21 174.199 2183.34 174.199 L2179.93 174.199 L2179.93 170.634 L2182.43 170.634 Q2184.19 170.634 2185.17 169.8 Q2186.14 168.967 2187.32 165.865 L2188.08 163.921 L2177.6 138.412 L2182.11 138.412 L2190.21 158.689 L2198.31 138.412 L2202.83 138.412 L2191.44 166.745 Z\" fill=\"#000000\" fill-rule=\"evenodd\" fill-opacity=\"1\" /><path clip-path=\"url(#clip060)\" d=\"M2210.12 160.402 L2217.76 160.402 L2217.76 134.037 L2209.45 135.703 L2209.45 131.444 L2217.71 129.778 L2222.39 129.778 L2222.39 160.402 L2230.03 160.402 L2230.03 164.338 L2210.12 164.338 L2210.12 160.402 Z\" fill=\"#000000\" fill-rule=\"evenodd\" fill-opacity=\"1\" /></svg>\n"
      ]
     },
     "execution_count": 17,
     "metadata": {},
     "output_type": "execute_result"
    }
   ],
   "source": [
    "scatter([x_fld;x_fln])"
   ]
  },
  {
   "cell_type": "markdown",
   "id": "5c8aff4a-dbfb-44ab-a707-27959688aa61",
   "metadata": {},
   "source": [
    "### Los ceros"
   ]
  },
  {
   "cell_type": "code",
   "execution_count": 18,
   "id": "f9e38e6f-1191-4cf0-affd-ca554bc21c17",
   "metadata": {},
   "outputs": [
    {
     "data": {
      "text/plain": [
       "\"0000000000000000000000000000000000000000000000000000000000000000\""
      ]
     },
     "execution_count": 18,
     "metadata": {},
     "output_type": "execute_result"
    }
   ],
   "source": [
    "bitstring(0.0)"
   ]
  },
  {
   "cell_type": "markdown",
   "id": "4e8382f5-979c-465d-a71c-82d95ae597b4",
   "metadata": {},
   "source": [
    "Hay por lo tanto dos ceros...."
   ]
  },
  {
   "cell_type": "code",
   "execution_count": 19,
   "id": "e9129426-e0b9-45a3-b57e-8ad5eeeac9ac",
   "metadata": {},
   "outputs": [
    {
     "data": {
      "text/plain": [
       "\"1000000000000000000000000000000000000000000000000000000000000000\""
      ]
     },
     "execution_count": 19,
     "metadata": {},
     "output_type": "execute_result"
    }
   ],
   "source": [
    "bitstring(-0.0)"
   ]
  },
  {
   "cell_type": "code",
   "execution_count": 20,
   "id": "803876fb-cb19-476b-82e8-6fb57617e8d3",
   "metadata": {},
   "outputs": [
    {
     "data": {
      "text/plain": [
       "-Inf"
      ]
     },
     "execution_count": 20,
     "metadata": {},
     "output_type": "execute_result"
    }
   ],
   "source": [
    "1/(-0.)"
   ]
  },
  {
   "cell_type": "markdown",
   "id": "589551a9",
   "metadata": {},
   "source": [
    "### Distancia entre números consecutivos:\n",
    "\n",
    "La distancia entre dos números consecutivos en el intervalo $x \\in [\\beta^e, \\beta^{e+1})$: \n",
    "\n",
    "$$\n",
    "\\epsilon(x) = \\frac{1}{\\beta^{t}}* \\beta^{e+1} = \\beta^{e-t+1}\n",
    "$$\n",
    "\n",
    "La distancia al número más cercano a 1 (POR ARRIBA) es $\\epsilon(1) = \\beta^{1-t}$ (ya que $1 = 0.1\\beta^1$)\n",
    "\n",
    "La distancia a un número se denomina $\\epsilon$ y depende de la representación que la máquina y el software haga de los números.\n",
    "\n",
    "En Julia (*en FORTRAN también*) hay una función que nos devuelve el valor de esta distancia para cada número que le demos:"
   ]
  },
  {
   "cell_type": "code",
   "execution_count": 21,
   "id": "a27a09c6",
   "metadata": {
    "tags": []
   },
   "outputs": [
    {
     "data": {
      "text/latex": [
       "\\begin{verbatim}\n",
       "eps(::Type{T}) where T<:AbstractFloat\n",
       "eps()\n",
       "\\end{verbatim}\n",
       "Return the \\emph{machine epsilon} of the floating point type \\texttt{T} (\\texttt{T = Float64} by default). This is defined as the gap between 1 and the next largest value representable by \\texttt{typeof(one(T))}, and is equivalent to \\texttt{eps(one(T))}.  (Since \\texttt{eps(T)} is a bound on the \\emph{relative error} of \\texttt{T}, it is a \"dimensionless\" quantity like \\href{@ref}{\\texttt{one}}.)\n",
       "\n",
       "\\section{Examples}\n",
       "\\begin{verbatim}\n",
       "julia> eps()\n",
       "2.220446049250313e-16\n",
       "\n",
       "julia> eps(Float32)\n",
       "1.1920929f-7\n",
       "\n",
       "julia> 1.0 + eps()\n",
       "1.0000000000000002\n",
       "\n",
       "julia> 1.0 + eps()/2\n",
       "1.0\n",
       "\\end{verbatim}\n",
       "\\rule{\\textwidth}{1pt}\n",
       "\\begin{verbatim}\n",
       "eps(x::AbstractFloat)\n",
       "\\end{verbatim}\n",
       "Return the \\emph{unit in last place} (ulp) of \\texttt{x}. This is the distance between consecutive representable floating point values at \\texttt{x}. In most cases, if the distance on either side of \\texttt{x} is different, then the larger of the two is taken, that is\n",
       "\n",
       "\\begin{verbatim}\n",
       "eps(x) == max(x-prevfloat(x), nextfloat(x)-x)\n",
       "\\end{verbatim}\n",
       "The exceptions to this rule are the smallest and largest finite values (e.g. \\texttt{nextfloat(-Inf)} and \\texttt{prevfloat(Inf)} for \\href{@ref}{\\texttt{Float64}}), which round to the smaller of the values.\n",
       "\n",
       "The rationale for this behavior is that \\texttt{eps} bounds the floating point rounding error. Under the default \\texttt{RoundNearest} rounding mode, if $y$ is a real number and $x$ is the nearest floating point number to $y$, then\n",
       "\n",
       "$$|y-x| \\leq \\operatorname{eps}(x)/2.$$\n",
       "See also: \\href{@ref}{\\texttt{nextfloat}}, \\href{@ref}{\\texttt{issubnormal}}, \\href{@ref}{\\texttt{floatmax}}.\n",
       "\n",
       "\\section{Examples}\n",
       "\\begin{verbatim}\n",
       "julia> eps(1.0)\n",
       "2.220446049250313e-16\n",
       "\n",
       "julia> eps(prevfloat(2.0))\n",
       "2.220446049250313e-16\n",
       "\n",
       "julia> eps(2.0)\n",
       "4.440892098500626e-16\n",
       "\n",
       "julia> x = prevfloat(Inf)      # largest finite Float64\n",
       "1.7976931348623157e308\n",
       "\n",
       "julia> x + eps(x)/2            # rounds up\n",
       "Inf\n",
       "\n",
       "julia> x + prevfloat(eps(x)/2) # rounds down\n",
       "1.7976931348623157e308\n",
       "\\end{verbatim}\n",
       "\\rule{\\textwidth}{1pt}\n",
       "\\begin{verbatim}\n",
       "eps(::Type{DateTime}) -> Millisecond\n",
       "eps(::Type{Date}) -> Day\n",
       "eps(::Type{Time}) -> Nanosecond\n",
       "eps(::TimeType) -> Period\n",
       "\\end{verbatim}\n",
       "Return the smallest unit value supported by the \\texttt{TimeType}.\n",
       "\n",
       "\\section{Examples}\n",
       "\\begin{verbatim}\n",
       "julia> eps(DateTime)\n",
       "1 millisecond\n",
       "\n",
       "julia> eps(Date)\n",
       "1 day\n",
       "\n",
       "julia> eps(Time)\n",
       "1 nanosecond\n",
       "\\end{verbatim}\n"
      ],
      "text/markdown": [
       "```\n",
       "eps(::Type{T}) where T<:AbstractFloat\n",
       "eps()\n",
       "```\n",
       "\n",
       "Return the *machine epsilon* of the floating point type `T` (`T = Float64` by default). This is defined as the gap between 1 and the next largest value representable by `typeof(one(T))`, and is equivalent to `eps(one(T))`.  (Since `eps(T)` is a bound on the *relative error* of `T`, it is a \"dimensionless\" quantity like [`one`](@ref).)\n",
       "\n",
       "# Examples\n",
       "\n",
       "```jldoctest\n",
       "julia> eps()\n",
       "2.220446049250313e-16\n",
       "\n",
       "julia> eps(Float32)\n",
       "1.1920929f-7\n",
       "\n",
       "julia> 1.0 + eps()\n",
       "1.0000000000000002\n",
       "\n",
       "julia> 1.0 + eps()/2\n",
       "1.0\n",
       "```\n",
       "\n",
       "---\n",
       "\n",
       "```\n",
       "eps(x::AbstractFloat)\n",
       "```\n",
       "\n",
       "Return the *unit in last place* (ulp) of `x`. This is the distance between consecutive representable floating point values at `x`. In most cases, if the distance on either side of `x` is different, then the larger of the two is taken, that is\n",
       "\n",
       "```\n",
       "eps(x) == max(x-prevfloat(x), nextfloat(x)-x)\n",
       "```\n",
       "\n",
       "The exceptions to this rule are the smallest and largest finite values (e.g. `nextfloat(-Inf)` and `prevfloat(Inf)` for [`Float64`](@ref)), which round to the smaller of the values.\n",
       "\n",
       "The rationale for this behavior is that `eps` bounds the floating point rounding error. Under the default `RoundNearest` rounding mode, if $y$ is a real number and $x$ is the nearest floating point number to $y$, then\n",
       "\n",
       "$$\n",
       "|y-x| \\leq \\operatorname{eps}(x)/2.\n",
       "$$\n",
       "\n",
       "See also: [`nextfloat`](@ref), [`issubnormal`](@ref), [`floatmax`](@ref).\n",
       "\n",
       "# Examples\n",
       "\n",
       "```jldoctest\n",
       "julia> eps(1.0)\n",
       "2.220446049250313e-16\n",
       "\n",
       "julia> eps(prevfloat(2.0))\n",
       "2.220446049250313e-16\n",
       "\n",
       "julia> eps(2.0)\n",
       "4.440892098500626e-16\n",
       "\n",
       "julia> x = prevfloat(Inf)      # largest finite Float64\n",
       "1.7976931348623157e308\n",
       "\n",
       "julia> x + eps(x)/2            # rounds up\n",
       "Inf\n",
       "\n",
       "julia> x + prevfloat(eps(x)/2) # rounds down\n",
       "1.7976931348623157e308\n",
       "```\n",
       "\n",
       "---\n",
       "\n",
       "```\n",
       "eps(::Type{DateTime}) -> Millisecond\n",
       "eps(::Type{Date}) -> Day\n",
       "eps(::Type{Time}) -> Nanosecond\n",
       "eps(::TimeType) -> Period\n",
       "```\n",
       "\n",
       "Return the smallest unit value supported by the `TimeType`.\n",
       "\n",
       "# Examples\n",
       "\n",
       "```jldoctest\n",
       "julia> eps(DateTime)\n",
       "1 millisecond\n",
       "\n",
       "julia> eps(Date)\n",
       "1 day\n",
       "\n",
       "julia> eps(Time)\n",
       "1 nanosecond\n",
       "```\n"
      ],
      "text/plain": [
       "\u001b[36m  eps(::Type{T}) where T<:AbstractFloat\u001b[39m\n",
       "\u001b[36m  eps()\u001b[39m\n",
       "\n",
       "  Return the \u001b[4mmachine epsilon\u001b[24m of the floating point type \u001b[36mT\u001b[39m (\u001b[36mT = Float64\u001b[39m by\n",
       "  default). This is defined as the gap between 1 and the next largest value\n",
       "  representable by \u001b[36mtypeof(one(T))\u001b[39m, and is equivalent to \u001b[36meps(one(T))\u001b[39m. (Since\n",
       "  \u001b[36meps(T)\u001b[39m is a bound on the \u001b[4mrelative error\u001b[24m of \u001b[36mT\u001b[39m, it is a \"dimensionless\"\n",
       "  quantity like \u001b[36mone\u001b[39m.)\n",
       "\n",
       "\u001b[1m  Examples\u001b[22m\n",
       "\u001b[1m  ≡≡≡≡≡≡≡≡≡≡\u001b[22m\n",
       "\n",
       "\u001b[36m  julia> eps()\u001b[39m\n",
       "\u001b[36m  2.220446049250313e-16\u001b[39m\n",
       "\u001b[36m  \u001b[39m\n",
       "\u001b[36m  julia> eps(Float32)\u001b[39m\n",
       "\u001b[36m  1.1920929f-7\u001b[39m\n",
       "\u001b[36m  \u001b[39m\n",
       "\u001b[36m  julia> 1.0 + eps()\u001b[39m\n",
       "\u001b[36m  1.0000000000000002\u001b[39m\n",
       "\u001b[36m  \u001b[39m\n",
       "\u001b[36m  julia> 1.0 + eps()/2\u001b[39m\n",
       "\u001b[36m  1.0\u001b[39m\n",
       "\n",
       "  ────────────────────────────────────────────────────────────────────────────\n",
       "\n",
       "\u001b[36m  eps(x::AbstractFloat)\u001b[39m\n",
       "\n",
       "  Return the \u001b[4munit in last place\u001b[24m (ulp) of \u001b[36mx\u001b[39m. This is the distance between\n",
       "  consecutive representable floating point values at \u001b[36mx\u001b[39m. In most cases, if the\n",
       "  distance on either side of \u001b[36mx\u001b[39m is different, then the larger of the two is\n",
       "  taken, that is\n",
       "\n",
       "\u001b[36m  eps(x) == max(x-prevfloat(x), nextfloat(x)-x)\u001b[39m\n",
       "\n",
       "  The exceptions to this rule are the smallest and largest finite values (e.g.\n",
       "  \u001b[36mnextfloat(-Inf)\u001b[39m and \u001b[36mprevfloat(Inf)\u001b[39m for \u001b[36mFloat64\u001b[39m), which round to the smaller\n",
       "  of the values.\n",
       "\n",
       "  The rationale for this behavior is that \u001b[36meps\u001b[39m bounds the floating point\n",
       "  rounding error. Under the default \u001b[36mRoundNearest\u001b[39m rounding mode, if \u001b[35my\u001b[39m is a real\n",
       "  number and \u001b[35mx\u001b[39m is the nearest floating point number to \u001b[35my\u001b[39m, then\n",
       "\n",
       "\u001b[35m  |y-x| \\leq \\operatorname{eps}(x)/2.\u001b[39m\n",
       "\n",
       "  See also: \u001b[36mnextfloat\u001b[39m, \u001b[36missubnormal\u001b[39m, \u001b[36mfloatmax\u001b[39m.\n",
       "\n",
       "\u001b[1m  Examples\u001b[22m\n",
       "\u001b[1m  ≡≡≡≡≡≡≡≡≡≡\u001b[22m\n",
       "\n",
       "\u001b[36m  julia> eps(1.0)\u001b[39m\n",
       "\u001b[36m  2.220446049250313e-16\u001b[39m\n",
       "\u001b[36m  \u001b[39m\n",
       "\u001b[36m  julia> eps(prevfloat(2.0))\u001b[39m\n",
       "\u001b[36m  2.220446049250313e-16\u001b[39m\n",
       "\u001b[36m  \u001b[39m\n",
       "\u001b[36m  julia> eps(2.0)\u001b[39m\n",
       "\u001b[36m  4.440892098500626e-16\u001b[39m\n",
       "\u001b[36m  \u001b[39m\n",
       "\u001b[36m  julia> x = prevfloat(Inf)      # largest finite Float64\u001b[39m\n",
       "\u001b[36m  1.7976931348623157e308\u001b[39m\n",
       "\u001b[36m  \u001b[39m\n",
       "\u001b[36m  julia> x + eps(x)/2            # rounds up\u001b[39m\n",
       "\u001b[36m  Inf\u001b[39m\n",
       "\u001b[36m  \u001b[39m\n",
       "\u001b[36m  julia> x + prevfloat(eps(x)/2) # rounds down\u001b[39m\n",
       "\u001b[36m  1.7976931348623157e308\u001b[39m\n",
       "\n",
       "  ────────────────────────────────────────────────────────────────────────────\n",
       "\n",
       "\u001b[36m  eps(::Type{DateTime}) -> Millisecond\u001b[39m\n",
       "\u001b[36m  eps(::Type{Date}) -> Day\u001b[39m\n",
       "\u001b[36m  eps(::Type{Time}) -> Nanosecond\u001b[39m\n",
       "\u001b[36m  eps(::TimeType) -> Period\u001b[39m\n",
       "\n",
       "  Return the smallest unit value supported by the \u001b[36mTimeType\u001b[39m.\n",
       "\n",
       "\u001b[1m  Examples\u001b[22m\n",
       "\u001b[1m  ≡≡≡≡≡≡≡≡≡≡\u001b[22m\n",
       "\n",
       "\u001b[36m  julia> eps(DateTime)\u001b[39m\n",
       "\u001b[36m  1 millisecond\u001b[39m\n",
       "\u001b[36m  \u001b[39m\n",
       "\u001b[36m  julia> eps(Date)\u001b[39m\n",
       "\u001b[36m  1 day\u001b[39m\n",
       "\u001b[36m  \u001b[39m\n",
       "\u001b[36m  julia> eps(Time)\u001b[39m\n",
       "\u001b[36m  1 nanosecond\u001b[39m"
      ]
     },
     "execution_count": 21,
     "metadata": {},
     "output_type": "execute_result"
    }
   ],
   "source": [
    "?eps()"
   ]
  },
  {
   "cell_type": "code",
   "execution_count": 22,
   "id": "4b5d1afd",
   "metadata": {},
   "outputs": [
    {
     "data": {
      "text/plain": [
       "2.220446049250313e-16"
      ]
     },
     "execution_count": 22,
     "metadata": {},
     "output_type": "execute_result"
    }
   ],
   "source": [
    "eps(1.) "
   ]
  },
  {
   "cell_type": "code",
   "execution_count": 23,
   "id": "a527bcc8",
   "metadata": {},
   "outputs": [
    {
     "data": {
      "text/plain": [
       "\"0000000000000000000000000000000000000000000000000000000000000001\""
      ]
     },
     "execution_count": 23,
     "metadata": {},
     "output_type": "execute_result"
    }
   ],
   "source": [
    "bitstring(eps(0.))"
   ]
  },
  {
   "cell_type": "code",
   "execution_count": 24,
   "id": "c10c243c",
   "metadata": {},
   "outputs": [
    {
     "data": {
      "text/plain": [
       "true"
      ]
     },
     "execution_count": 24,
     "metadata": {},
     "output_type": "execute_result"
    }
   ],
   "source": [
    "1. + eps(1.)*0.5 == 1."
   ]
  },
  {
   "cell_type": "code",
   "execution_count": 25,
   "id": "c44eca40",
   "metadata": {},
   "outputs": [
    {
     "data": {
      "text/plain": [
       "1.0000000000000002"
      ]
     },
     "execution_count": 25,
     "metadata": {},
     "output_type": "execute_result"
    }
   ],
   "source": [
    "1. + eps(1.)*0.6"
   ]
  },
  {
   "cell_type": "code",
   "execution_count": 26,
   "id": "4eb69790",
   "metadata": {},
   "outputs": [
    {
     "data": {
      "text/plain": [
       "1.7763568394002505e-15"
      ]
     },
     "execution_count": 26,
     "metadata": {},
     "output_type": "execute_result"
    }
   ],
   "source": [
    "eps(10.)"
   ]
  },
  {
   "cell_type": "code",
   "execution_count": 27,
   "id": "af6f1137",
   "metadata": {},
   "outputs": [
    {
     "data": {
      "text/plain": [
       "true"
      ]
     },
     "execution_count": 27,
     "metadata": {},
     "output_type": "execute_result"
    }
   ],
   "source": [
    "10. + eps(1.) == 10."
   ]
  },
  {
   "cell_type": "markdown",
   "id": "fbd8b61f-75dd-4b4e-b328-dc0867a2b905",
   "metadata": {},
   "source": [
    "Veamos en un gráfico como crece la distancia entre números consecutivos:"
   ]
  },
  {
   "cell_type": "code",
   "execution_count": 28,
   "id": "cf37754f",
   "metadata": {},
   "outputs": [],
   "source": [
    "x = [10.0^i for i ∈ -10:10];"
   ]
  },
  {
   "cell_type": "code",
   "execution_count": 29,
   "id": "21dc0e85",
   "metadata": {
    "tags": []
   },
   "outputs": [
    {
     "data": {
      "image/svg+xml": [
       "<?xml version=\"1.0\" encoding=\"utf-8\"?>\n",
       "<svg xmlns=\"http://www.w3.org/2000/svg\" xmlns:xlink=\"http://www.w3.org/1999/xlink\" width=\"600\" height=\"400\" viewBox=\"0 0 2400 1600\">\n",
       "<defs>\n",
       "  <clipPath id=\"clip100\">\n",
       "    <rect x=\"0\" y=\"0\" width=\"2400\" height=\"1600\"/>\n",
       "  </clipPath>\n",
       "</defs>\n",
       "<path clip-path=\"url(#clip100)\" d=\"\n",
       "M0 1600 L2400 1600 L2400 0 L0 0  Z\n",
       "  \" fill=\"#ffffff\" fill-rule=\"evenodd\" fill-opacity=\"1\"/>\n",
       "<defs>\n",
       "  <clipPath id=\"clip101\">\n",
       "    <rect x=\"480\" y=\"0\" width=\"1681\" height=\"1600\"/>\n",
       "  </clipPath>\n",
       "</defs>\n",
       "<path clip-path=\"url(#clip100)\" d=\"\n",
       "M213.607 1474.16 L2352.76 1474.16 L2352.76 47.2441 L213.607 47.2441  Z\n",
       "  \" fill=\"#ffffff\" fill-rule=\"evenodd\" fill-opacity=\"1\"/>\n",
       "<defs>\n",
       "  <clipPath id=\"clip102\">\n",
       "    <rect x=\"213\" y=\"47\" width=\"2140\" height=\"1428\"/>\n",
       "  </clipPath>\n",
       "</defs>\n",
       "<polyline clip-path=\"url(#clip102)\" style=\"stroke:#000000; stroke-linecap:butt; stroke-linejoin:round; stroke-width:2; stroke-opacity:0.1; fill:none\" points=\"\n",
       "  274.149,1474.16 274.149,47.2441 \n",
       "  \"/>\n",
       "<polyline clip-path=\"url(#clip102)\" style=\"stroke:#000000; stroke-linecap:butt; stroke-linejoin:round; stroke-width:2; stroke-opacity:0.1; fill:none\" points=\"\n",
       "  778.666,1474.16 778.666,47.2441 \n",
       "  \"/>\n",
       "<polyline clip-path=\"url(#clip102)\" style=\"stroke:#000000; stroke-linecap:butt; stroke-linejoin:round; stroke-width:2; stroke-opacity:0.1; fill:none\" points=\"\n",
       "  1283.18,1474.16 1283.18,47.2441 \n",
       "  \"/>\n",
       "<polyline clip-path=\"url(#clip102)\" style=\"stroke:#000000; stroke-linecap:butt; stroke-linejoin:round; stroke-width:2; stroke-opacity:0.1; fill:none\" points=\"\n",
       "  1787.7,1474.16 1787.7,47.2441 \n",
       "  \"/>\n",
       "<polyline clip-path=\"url(#clip102)\" style=\"stroke:#000000; stroke-linecap:butt; stroke-linejoin:round; stroke-width:2; stroke-opacity:0.1; fill:none\" points=\"\n",
       "  2292.21,1474.16 2292.21,47.2441 \n",
       "  \"/>\n",
       "<polyline clip-path=\"url(#clip100)\" style=\"stroke:#000000; stroke-linecap:butt; stroke-linejoin:round; stroke-width:4; stroke-opacity:1; fill:none\" points=\"\n",
       "  213.607,1474.16 2352.76,1474.16 \n",
       "  \"/>\n",
       "<polyline clip-path=\"url(#clip100)\" style=\"stroke:#000000; stroke-linecap:butt; stroke-linejoin:round; stroke-width:4; stroke-opacity:1; fill:none\" points=\"\n",
       "  274.149,1474.16 274.149,1455.27 \n",
       "  \"/>\n",
       "<polyline clip-path=\"url(#clip100)\" style=\"stroke:#000000; stroke-linecap:butt; stroke-linejoin:round; stroke-width:4; stroke-opacity:1; fill:none\" points=\"\n",
       "  778.666,1474.16 778.666,1455.27 \n",
       "  \"/>\n",
       "<polyline clip-path=\"url(#clip100)\" style=\"stroke:#000000; stroke-linecap:butt; stroke-linejoin:round; stroke-width:4; stroke-opacity:1; fill:none\" points=\"\n",
       "  1283.18,1474.16 1283.18,1455.27 \n",
       "  \"/>\n",
       "<polyline clip-path=\"url(#clip100)\" style=\"stroke:#000000; stroke-linecap:butt; stroke-linejoin:round; stroke-width:4; stroke-opacity:1; fill:none\" points=\"\n",
       "  1787.7,1474.16 1787.7,1455.27 \n",
       "  \"/>\n",
       "<polyline clip-path=\"url(#clip100)\" style=\"stroke:#000000; stroke-linecap:butt; stroke-linejoin:round; stroke-width:4; stroke-opacity:1; fill:none\" points=\"\n",
       "  2292.21,1474.16 2292.21,1455.27 \n",
       "  \"/>\n",
       "<path clip-path=\"url(#clip100)\" d=\"M211.513 1548.29 L219.152 1548.29 L219.152 1521.92 L210.842 1523.59 L210.842 1519.33 L219.106 1517.66 L223.781 1517.66 L223.781 1548.29 L231.42 1548.29 L231.42 1552.22 L211.513 1552.22 L211.513 1548.29 Z\" fill=\"#000000\" fill-rule=\"evenodd\" fill-opacity=\"1\" /><path clip-path=\"url(#clip100)\" d=\"M250.865 1520.74 Q247.254 1520.74 245.425 1524.31 Q243.619 1527.85 243.619 1534.98 Q243.619 1542.09 245.425 1545.65 Q247.254 1549.19 250.865 1549.19 Q254.499 1549.19 256.304 1545.65 Q258.133 1542.09 258.133 1534.98 Q258.133 1527.85 256.304 1524.31 Q254.499 1520.74 250.865 1520.74 M250.865 1517.04 Q256.675 1517.04 259.73 1521.65 Q262.809 1526.23 262.809 1534.98 Q262.809 1543.71 259.73 1548.31 Q256.675 1552.9 250.865 1552.9 Q245.055 1552.9 241.976 1548.31 Q238.92 1543.71 238.92 1534.98 Q238.92 1526.23 241.976 1521.65 Q245.055 1517.04 250.865 1517.04 Z\" fill=\"#000000\" fill-rule=\"evenodd\" fill-opacity=\"1\" /><path clip-path=\"url(#clip100)\" d=\"M262.809 1511.14 L286.921 1511.14 L286.921 1514.34 L262.809 1514.34 L262.809 1511.14 Z\" fill=\"#000000\" fill-rule=\"evenodd\" fill-opacity=\"1\" /><path clip-path=\"url(#clip100)\" d=\"M295.779 1521.62 L301.986 1521.62 L301.986 1500.19 L295.234 1501.55 L295.234 1498.09 L301.948 1496.73 L305.747 1496.73 L305.747 1521.62 L311.954 1521.62 L311.954 1524.81 L295.779 1524.81 L295.779 1521.62 Z\" fill=\"#000000\" fill-rule=\"evenodd\" fill-opacity=\"1\" /><path clip-path=\"url(#clip100)\" d=\"M327.752 1499.24 Q324.818 1499.24 323.332 1502.13 Q321.865 1505.01 321.865 1510.8 Q321.865 1516.58 323.332 1519.47 Q324.818 1522.35 327.752 1522.35 Q330.705 1522.35 332.172 1519.47 Q333.658 1516.58 333.658 1510.8 Q333.658 1505.01 332.172 1502.13 Q330.705 1499.24 327.752 1499.24 M327.752 1496.23 Q332.473 1496.23 334.956 1499.97 Q337.457 1503.69 337.457 1510.8 Q337.457 1517.89 334.956 1521.64 Q332.473 1525.36 327.752 1525.36 Q323.032 1525.36 320.53 1521.64 Q318.047 1517.89 318.047 1510.8 Q318.047 1503.69 320.53 1499.97 Q323.032 1496.23 327.752 1496.23 Z\" fill=\"#000000\" fill-rule=\"evenodd\" fill-opacity=\"1\" /><path clip-path=\"url(#clip100)\" d=\"M728.687 1548.29 L736.326 1548.29 L736.326 1521.92 L728.016 1523.59 L728.016 1519.33 L736.279 1517.66 L740.955 1517.66 L740.955 1548.29 L748.594 1548.29 L748.594 1552.22 L728.687 1552.22 L728.687 1548.29 Z\" fill=\"#000000\" fill-rule=\"evenodd\" fill-opacity=\"1\" /><path clip-path=\"url(#clip100)\" d=\"M768.038 1520.74 Q764.427 1520.74 762.599 1524.31 Q760.793 1527.85 760.793 1534.98 Q760.793 1542.09 762.599 1545.65 Q764.427 1549.19 768.038 1549.19 Q771.673 1549.19 773.478 1545.65 Q775.307 1542.09 775.307 1534.98 Q775.307 1527.85 773.478 1524.31 Q771.673 1520.74 768.038 1520.74 M768.038 1517.04 Q773.849 1517.04 776.904 1521.65 Q779.983 1526.23 779.983 1534.98 Q779.983 1543.71 776.904 1548.31 Q773.849 1552.9 768.038 1552.9 Q762.228 1552.9 759.15 1548.31 Q756.094 1543.71 756.094 1534.98 Q756.094 1526.23 759.15 1521.65 Q762.228 1517.04 768.038 1517.04 Z\" fill=\"#000000\" fill-rule=\"evenodd\" fill-opacity=\"1\" /><path clip-path=\"url(#clip100)\" d=\"M779.983 1511.14 L804.094 1511.14 L804.094 1514.34 L779.983 1514.34 L779.983 1511.14 Z\" fill=\"#000000\" fill-rule=\"evenodd\" fill-opacity=\"1\" /><path clip-path=\"url(#clip100)\" d=\"M812.332 1496.73 L827.247 1496.73 L827.247 1499.93 L815.812 1499.93 L815.812 1506.82 Q816.639 1506.53 817.467 1506.4 Q818.294 1506.25 819.122 1506.25 Q823.824 1506.25 826.57 1508.83 Q829.316 1511.4 829.316 1515.81 Q829.316 1520.34 826.494 1522.86 Q823.673 1525.36 818.539 1525.36 Q816.771 1525.36 814.928 1525.06 Q813.103 1524.76 811.147 1524.16 L811.147 1520.34 Q812.84 1521.26 814.646 1521.71 Q816.451 1522.16 818.464 1522.16 Q821.717 1522.16 823.617 1520.45 Q825.516 1518.74 825.516 1515.81 Q825.516 1512.87 823.617 1511.16 Q821.717 1509.45 818.464 1509.45 Q816.94 1509.45 815.417 1509.79 Q813.912 1510.13 812.332 1510.84 L812.332 1496.73 Z\" fill=\"#000000\" fill-rule=\"evenodd\" fill-opacity=\"1\" /><path clip-path=\"url(#clip100)\" d=\"M1248.16 1548.29 L1255.8 1548.29 L1255.8 1521.92 L1247.49 1523.59 L1247.49 1519.33 L1255.76 1517.66 L1260.43 1517.66 L1260.43 1548.29 L1268.07 1548.29 L1268.07 1552.22 L1248.16 1552.22 L1248.16 1548.29 Z\" fill=\"#000000\" fill-rule=\"evenodd\" fill-opacity=\"1\" /><path clip-path=\"url(#clip100)\" d=\"M1287.52 1520.74 Q1283.91 1520.74 1282.08 1524.31 Q1280.27 1527.85 1280.27 1534.98 Q1280.27 1542.09 1282.08 1545.65 Q1283.91 1549.19 1287.52 1549.19 Q1291.15 1549.19 1292.96 1545.65 Q1294.78 1542.09 1294.78 1534.98 Q1294.78 1527.85 1292.96 1524.31 Q1291.15 1520.74 1287.52 1520.74 M1287.52 1517.04 Q1293.33 1517.04 1296.38 1521.65 Q1299.46 1526.23 1299.46 1534.98 Q1299.46 1543.71 1296.38 1548.31 Q1293.33 1552.9 1287.52 1552.9 Q1281.71 1552.9 1278.63 1548.31 Q1275.57 1543.71 1275.57 1534.98 Q1275.57 1526.23 1278.63 1521.65 Q1281.71 1517.04 1287.52 1517.04 Z\" fill=\"#000000\" fill-rule=\"evenodd\" fill-opacity=\"1\" /><path clip-path=\"url(#clip100)\" d=\"M1309.17 1499.24 Q1306.23 1499.24 1304.75 1502.13 Q1303.28 1505.01 1303.28 1510.8 Q1303.28 1516.58 1304.75 1519.47 Q1306.23 1522.35 1309.17 1522.35 Q1312.12 1522.35 1313.59 1519.47 Q1315.07 1516.58 1315.07 1510.8 Q1315.07 1505.01 1313.59 1502.13 Q1312.12 1499.24 1309.17 1499.24 M1309.17 1496.23 Q1313.89 1496.23 1316.37 1499.97 Q1318.87 1503.69 1318.87 1510.8 Q1318.87 1517.89 1316.37 1521.64 Q1313.89 1525.36 1309.17 1525.36 Q1304.44 1525.36 1301.94 1521.64 Q1299.46 1517.89 1299.46 1510.8 Q1299.46 1503.69 1301.94 1499.97 Q1304.44 1496.23 1309.17 1496.23 Z\" fill=\"#000000\" fill-rule=\"evenodd\" fill-opacity=\"1\" /><path clip-path=\"url(#clip100)\" d=\"M1753.3 1548.29 L1760.94 1548.29 L1760.94 1521.92 L1752.63 1523.59 L1752.63 1519.33 L1760.89 1517.66 L1765.57 1517.66 L1765.57 1548.29 L1773.21 1548.29 L1773.21 1552.22 L1753.3 1552.22 L1753.3 1548.29 Z\" fill=\"#000000\" fill-rule=\"evenodd\" fill-opacity=\"1\" /><path clip-path=\"url(#clip100)\" d=\"M1792.65 1520.74 Q1789.04 1520.74 1787.21 1524.31 Q1785.41 1527.85 1785.41 1534.98 Q1785.41 1542.09 1787.21 1545.65 Q1789.04 1549.19 1792.65 1549.19 Q1796.29 1549.19 1798.09 1545.65 Q1799.92 1542.09 1799.92 1534.98 Q1799.92 1527.85 1798.09 1524.31 Q1796.29 1520.74 1792.65 1520.74 M1792.65 1517.04 Q1798.46 1517.04 1801.52 1521.65 Q1804.6 1526.23 1804.6 1534.98 Q1804.6 1543.71 1801.52 1548.31 Q1798.46 1552.9 1792.65 1552.9 Q1786.84 1552.9 1783.76 1548.31 Q1780.71 1543.71 1780.71 1534.98 Q1780.71 1526.23 1783.76 1521.65 Q1786.84 1517.04 1792.65 1517.04 Z\" fill=\"#000000\" fill-rule=\"evenodd\" fill-opacity=\"1\" /><path clip-path=\"url(#clip100)\" d=\"M1805.78 1496.73 L1820.7 1496.73 L1820.7 1499.93 L1809.26 1499.93 L1809.26 1506.82 Q1810.09 1506.53 1810.92 1506.4 Q1811.74 1506.25 1812.57 1506.25 Q1817.27 1506.25 1820.02 1508.83 Q1822.77 1511.4 1822.77 1515.81 Q1822.77 1520.34 1819.94 1522.86 Q1817.12 1525.36 1811.99 1525.36 Q1810.22 1525.36 1808.38 1525.06 Q1806.55 1524.76 1804.6 1524.16 L1804.6 1520.34 Q1806.29 1521.26 1808.1 1521.71 Q1809.9 1522.16 1811.91 1522.16 Q1815.17 1522.16 1817.07 1520.45 Q1818.97 1518.74 1818.97 1515.81 Q1818.97 1512.87 1817.07 1511.16 Q1815.17 1509.45 1811.91 1509.45 Q1810.39 1509.45 1808.87 1509.79 Q1807.36 1510.13 1805.78 1510.84 L1805.78 1496.73 Z\" fill=\"#000000\" fill-rule=\"evenodd\" fill-opacity=\"1\" /><path clip-path=\"url(#clip100)\" d=\"M2245.79 1548.29 L2253.43 1548.29 L2253.43 1521.92 L2245.12 1523.59 L2245.12 1519.33 L2253.38 1517.66 L2258.06 1517.66 L2258.06 1548.29 L2265.7 1548.29 L2265.7 1552.22 L2245.79 1552.22 L2245.79 1548.29 Z\" fill=\"#000000\" fill-rule=\"evenodd\" fill-opacity=\"1\" /><path clip-path=\"url(#clip100)\" d=\"M2285.14 1520.74 Q2281.53 1520.74 2279.7 1524.31 Q2277.9 1527.85 2277.9 1534.98 Q2277.9 1542.09 2279.7 1545.65 Q2281.53 1549.19 2285.14 1549.19 Q2288.78 1549.19 2290.58 1545.65 Q2292.41 1542.09 2292.41 1534.98 Q2292.41 1527.85 2290.58 1524.31 Q2288.78 1520.74 2285.14 1520.74 M2285.14 1517.04 Q2290.95 1517.04 2294.01 1521.65 Q2297.09 1526.23 2297.09 1534.98 Q2297.09 1543.71 2294.01 1548.31 Q2290.95 1552.9 2285.14 1552.9 Q2279.33 1552.9 2276.25 1548.31 Q2273.2 1543.71 2273.2 1534.98 Q2273.2 1526.23 2276.25 1521.65 Q2279.33 1517.04 2285.14 1517.04 Z\" fill=\"#000000\" fill-rule=\"evenodd\" fill-opacity=\"1\" /><path clip-path=\"url(#clip100)\" d=\"M2297.63 1521.62 L2303.84 1521.62 L2303.84 1500.19 L2297.09 1501.55 L2297.09 1498.09 L2303.8 1496.73 L2307.6 1496.73 L2307.6 1521.62 L2313.81 1521.62 L2313.81 1524.81 L2297.63 1524.81 L2297.63 1521.62 Z\" fill=\"#000000\" fill-rule=\"evenodd\" fill-opacity=\"1\" /><path clip-path=\"url(#clip100)\" d=\"M2329.6 1499.24 Q2326.67 1499.24 2325.18 1502.13 Q2323.72 1505.01 2323.72 1510.8 Q2323.72 1516.58 2325.18 1519.47 Q2326.67 1522.35 2329.6 1522.35 Q2332.56 1522.35 2334.02 1519.47 Q2335.51 1516.58 2335.51 1510.8 Q2335.51 1505.01 2334.02 1502.13 Q2332.56 1499.24 2329.6 1499.24 M2329.6 1496.23 Q2334.33 1496.23 2336.81 1499.97 Q2339.31 1503.69 2339.31 1510.8 Q2339.31 1517.89 2336.81 1521.64 Q2334.33 1525.36 2329.6 1525.36 Q2324.88 1525.36 2322.38 1521.64 Q2319.9 1517.89 2319.9 1510.8 Q2319.9 1503.69 2322.38 1499.97 Q2324.88 1496.23 2329.6 1496.23 Z\" fill=\"#000000\" fill-rule=\"evenodd\" fill-opacity=\"1\" /><polyline clip-path=\"url(#clip102)\" style=\"stroke:#000000; stroke-linecap:butt; stroke-linejoin:round; stroke-width:2; stroke-opacity:0.1; fill:none\" points=\"\n",
       "  213.607,1040.76 2352.76,1040.76 \n",
       "  \"/>\n",
       "<polyline clip-path=\"url(#clip102)\" style=\"stroke:#000000; stroke-linecap:butt; stroke-linejoin:round; stroke-width:2; stroke-opacity:0.1; fill:none\" points=\"\n",
       "  213.607,373.32 2352.76,373.32 \n",
       "  \"/>\n",
       "<polyline clip-path=\"url(#clip100)\" style=\"stroke:#000000; stroke-linecap:butt; stroke-linejoin:round; stroke-width:4; stroke-opacity:1; fill:none\" points=\"\n",
       "  213.607,1474.16 213.607,47.2441 \n",
       "  \"/>\n",
       "<polyline clip-path=\"url(#clip100)\" style=\"stroke:#000000; stroke-linecap:butt; stroke-linejoin:round; stroke-width:4; stroke-opacity:1; fill:none\" points=\"\n",
       "  213.607,1040.76 232.505,1040.76 \n",
       "  \"/>\n",
       "<polyline clip-path=\"url(#clip100)\" style=\"stroke:#000000; stroke-linecap:butt; stroke-linejoin:round; stroke-width:4; stroke-opacity:1; fill:none\" points=\"\n",
       "  213.607,373.32 232.505,373.32 \n",
       "  \"/>\n",
       "<path clip-path=\"url(#clip100)\" d=\"M51.6634 1060.55 L59.3023 1060.55 L59.3023 1034.18 L50.9921 1035.85 L50.9921 1031.59 L59.256 1029.92 L63.9319 1029.92 L63.9319 1060.55 L71.5707 1060.55 L71.5707 1064.48 L51.6634 1064.48 L51.6634 1060.55 Z\" fill=\"#000000\" fill-rule=\"evenodd\" fill-opacity=\"1\" /><path clip-path=\"url(#clip100)\" d=\"M91.0151 1033 Q87.404 1033 85.5753 1036.57 Q83.7697 1040.11 83.7697 1047.24 Q83.7697 1054.34 85.5753 1057.91 Q87.404 1061.45 91.0151 1061.45 Q94.6493 1061.45 96.4548 1057.91 Q98.2835 1054.34 98.2835 1047.24 Q98.2835 1040.11 96.4548 1036.57 Q94.6493 1033 91.0151 1033 M91.0151 1029.3 Q96.8252 1029.3 99.8808 1033.9 Q102.959 1038.49 102.959 1047.24 Q102.959 1055.96 99.8808 1060.57 Q96.8252 1065.15 91.0151 1065.15 Q85.2049 1065.15 82.1262 1060.57 Q79.0707 1055.96 79.0707 1047.24 Q79.0707 1038.49 82.1262 1033.9 Q85.2049 1029.3 91.0151 1029.3 Z\" fill=\"#000000\" fill-rule=\"evenodd\" fill-opacity=\"1\" /><path clip-path=\"url(#clip100)\" d=\"M102.959 1023.4 L127.071 1023.4 L127.071 1026.6 L102.959 1026.6 L102.959 1023.4 Z\" fill=\"#000000\" fill-rule=\"evenodd\" fill-opacity=\"1\" /><path clip-path=\"url(#clip100)\" d=\"M138.544 1033.88 L151.803 1033.88 L151.803 1037.07 L133.973 1037.07 L133.973 1033.88 Q136.136 1031.64 139.86 1027.88 Q143.603 1024.1 144.562 1023 Q146.387 1020.95 147.101 1019.54 Q147.835 1018.11 147.835 1016.74 Q147.835 1014.5 146.255 1013.09 Q144.694 1011.68 142.174 1011.68 Q140.387 1011.68 138.393 1012.3 Q136.418 1012.92 134.162 1014.18 L134.162 1010.35 Q136.456 1009.43 138.45 1008.95 Q140.443 1008.48 142.098 1008.48 Q146.462 1008.48 149.057 1010.67 Q151.653 1012.85 151.653 1016.5 Q151.653 1018.23 150.994 1019.79 Q150.355 1021.33 148.644 1023.44 Q148.173 1023.98 145.653 1026.6 Q143.133 1029.19 138.544 1033.88 Z\" fill=\"#000000\" fill-rule=\"evenodd\" fill-opacity=\"1\" /><path clip-path=\"url(#clip100)\" d=\"M167.903 1011.49 Q164.969 1011.49 163.483 1014.39 Q162.016 1017.27 162.016 1023.06 Q162.016 1028.83 163.483 1031.73 Q164.969 1034.61 167.903 1034.61 Q170.855 1034.61 172.322 1031.73 Q173.808 1028.83 173.808 1023.06 Q173.808 1017.27 172.322 1014.39 Q170.855 1011.49 167.903 1011.49 M167.903 1008.48 Q172.623 1008.48 175.106 1012.23 Q177.607 1015.95 177.607 1023.06 Q177.607 1030.15 175.106 1033.89 Q172.623 1037.62 167.903 1037.62 Q163.182 1037.62 160.68 1033.89 Q158.198 1030.15 158.198 1023.06 Q158.198 1015.95 160.68 1012.23 Q163.182 1008.48 167.903 1008.48 Z\" fill=\"#000000\" fill-rule=\"evenodd\" fill-opacity=\"1\" /><path clip-path=\"url(#clip100)\" d=\"M51.6634 393.112 L59.3023 393.112 L59.3023 366.747 L50.9921 368.413 L50.9921 364.154 L59.256 362.487 L63.9319 362.487 L63.9319 393.112 L71.5707 393.112 L71.5707 397.047 L51.6634 397.047 L51.6634 393.112 Z\" fill=\"#000000\" fill-rule=\"evenodd\" fill-opacity=\"1\" /><path clip-path=\"url(#clip100)\" d=\"M91.0151 365.566 Q87.404 365.566 85.5753 369.131 Q83.7697 372.673 83.7697 379.802 Q83.7697 386.909 85.5753 390.473 Q87.404 394.015 91.0151 394.015 Q94.6493 394.015 96.4548 390.473 Q98.2835 386.909 98.2835 379.802 Q98.2835 372.673 96.4548 369.131 Q94.6493 365.566 91.0151 365.566 M91.0151 361.862 Q96.8252 361.862 99.8808 366.469 Q102.959 371.052 102.959 379.802 Q102.959 388.529 99.8808 393.135 Q96.8252 397.719 91.0151 397.719 Q85.2049 397.719 82.1262 393.135 Q79.0707 388.529 79.0707 379.802 Q79.0707 371.052 82.1262 366.469 Q85.2049 361.862 91.0151 361.862 Z\" fill=\"#000000\" fill-rule=\"evenodd\" fill-opacity=\"1\" /><path clip-path=\"url(#clip100)\" d=\"M102.959 355.964 L127.071 355.964 L127.071 359.161 L102.959 359.161 L102.959 355.964 Z\" fill=\"#000000\" fill-rule=\"evenodd\" fill-opacity=\"1\" /><path clip-path=\"url(#clip100)\" d=\"M135.929 366.44 L142.136 366.44 L142.136 345.018 L135.384 346.372 L135.384 342.911 L142.098 341.557 L145.898 341.557 L145.898 366.44 L152.104 366.44 L152.104 369.637 L135.929 369.637 L135.929 366.44 Z\" fill=\"#000000\" fill-rule=\"evenodd\" fill-opacity=\"1\" /><path clip-path=\"url(#clip100)\" d=\"M167.903 344.058 Q164.969 344.058 163.483 346.955 Q162.016 349.832 162.016 355.625 Q162.016 361.399 163.483 364.296 Q164.969 367.173 167.903 367.173 Q170.855 367.173 172.322 364.296 Q173.808 361.399 173.808 355.625 Q173.808 349.832 172.322 346.955 Q170.855 344.058 167.903 344.058 M167.903 341.049 Q172.623 341.049 175.106 344.792 Q177.607 348.516 177.607 355.625 Q177.607 362.716 175.106 366.458 Q172.623 370.182 167.903 370.182 Q163.182 370.182 160.68 366.458 Q158.198 362.716 158.198 355.625 Q158.198 348.516 160.68 344.792 Q163.182 341.049 167.903 341.049 Z\" fill=\"#000000\" fill-rule=\"evenodd\" fill-opacity=\"1\" /><circle clip-path=\"url(#clip102)\" cx=\"274.149\" cy=\"1433.78\" r=\"14\" fill=\"#009af9\" fill-rule=\"evenodd\" fill-opacity=\"1\" stroke=\"#000000\" stroke-opacity=\"1\" stroke-width=\"3.2\"/>\n",
       "<circle clip-path=\"url(#clip102)\" cx=\"375.053\" cy=\"1353.41\" r=\"14\" fill=\"#009af9\" fill-rule=\"evenodd\" fill-opacity=\"1\" stroke=\"#000000\" stroke-opacity=\"1\" stroke-width=\"3.2\"/>\n",
       "<circle clip-path=\"url(#clip102)\" cx=\"475.956\" cy=\"1293.14\" r=\"14\" fill=\"#009af9\" fill-rule=\"evenodd\" fill-opacity=\"1\" stroke=\"#000000\" stroke-opacity=\"1\" stroke-width=\"3.2\"/>\n",
       "<circle clip-path=\"url(#clip102)\" cx=\"576.859\" cy=\"1232.86\" r=\"14\" fill=\"#009af9\" fill-rule=\"evenodd\" fill-opacity=\"1\" stroke=\"#000000\" stroke-opacity=\"1\" stroke-width=\"3.2\"/>\n",
       "<circle clip-path=\"url(#clip102)\" cx=\"677.762\" cy=\"1152.49\" r=\"14\" fill=\"#009af9\" fill-rule=\"evenodd\" fill-opacity=\"1\" stroke=\"#000000\" stroke-opacity=\"1\" stroke-width=\"3.2\"/>\n",
       "<circle clip-path=\"url(#clip102)\" cx=\"778.666\" cy=\"1092.22\" r=\"14\" fill=\"#009af9\" fill-rule=\"evenodd\" fill-opacity=\"1\" stroke=\"#000000\" stroke-opacity=\"1\" stroke-width=\"3.2\"/>\n",
       "<circle clip-path=\"url(#clip102)\" cx=\"879.569\" cy=\"1031.94\" r=\"14\" fill=\"#009af9\" fill-rule=\"evenodd\" fill-opacity=\"1\" stroke=\"#000000\" stroke-opacity=\"1\" stroke-width=\"3.2\"/>\n",
       "<circle clip-path=\"url(#clip102)\" cx=\"980.472\" cy=\"951.577\" r=\"14\" fill=\"#009af9\" fill-rule=\"evenodd\" fill-opacity=\"1\" stroke=\"#000000\" stroke-opacity=\"1\" stroke-width=\"3.2\"/>\n",
       "<circle clip-path=\"url(#clip102)\" cx=\"1081.38\" cy=\"891.301\" r=\"14\" fill=\"#009af9\" fill-rule=\"evenodd\" fill-opacity=\"1\" stroke=\"#000000\" stroke-opacity=\"1\" stroke-width=\"3.2\"/>\n",
       "<circle clip-path=\"url(#clip102)\" cx=\"1182.28\" cy=\"831.026\" r=\"14\" fill=\"#009af9\" fill-rule=\"evenodd\" fill-opacity=\"1\" stroke=\"#000000\" stroke-opacity=\"1\" stroke-width=\"3.2\"/>\n",
       "<circle clip-path=\"url(#clip102)\" cx=\"1283.18\" cy=\"750.658\" r=\"14\" fill=\"#009af9\" fill-rule=\"evenodd\" fill-opacity=\"1\" stroke=\"#000000\" stroke-opacity=\"1\" stroke-width=\"3.2\"/>\n",
       "<circle clip-path=\"url(#clip102)\" cx=\"1384.08\" cy=\"690.383\" r=\"14\" fill=\"#009af9\" fill-rule=\"evenodd\" fill-opacity=\"1\" stroke=\"#000000\" stroke-opacity=\"1\" stroke-width=\"3.2\"/>\n",
       "<circle clip-path=\"url(#clip102)\" cx=\"1484.99\" cy=\"630.108\" r=\"14\" fill=\"#009af9\" fill-rule=\"evenodd\" fill-opacity=\"1\" stroke=\"#000000\" stroke-opacity=\"1\" stroke-width=\"3.2\"/>\n",
       "<circle clip-path=\"url(#clip102)\" cx=\"1585.89\" cy=\"569.832\" r=\"14\" fill=\"#009af9\" fill-rule=\"evenodd\" fill-opacity=\"1\" stroke=\"#000000\" stroke-opacity=\"1\" stroke-width=\"3.2\"/>\n",
       "<circle clip-path=\"url(#clip102)\" cx=\"1686.79\" cy=\"489.465\" r=\"14\" fill=\"#009af9\" fill-rule=\"evenodd\" fill-opacity=\"1\" stroke=\"#000000\" stroke-opacity=\"1\" stroke-width=\"3.2\"/>\n",
       "<circle clip-path=\"url(#clip102)\" cx=\"1787.7\" cy=\"429.189\" r=\"14\" fill=\"#009af9\" fill-rule=\"evenodd\" fill-opacity=\"1\" stroke=\"#000000\" stroke-opacity=\"1\" stroke-width=\"3.2\"/>\n",
       "<circle clip-path=\"url(#clip102)\" cx=\"1888.6\" cy=\"368.914\" r=\"14\" fill=\"#009af9\" fill-rule=\"evenodd\" fill-opacity=\"1\" stroke=\"#000000\" stroke-opacity=\"1\" stroke-width=\"3.2\"/>\n",
       "<circle clip-path=\"url(#clip102)\" cx=\"1989.5\" cy=\"288.547\" r=\"14\" fill=\"#009af9\" fill-rule=\"evenodd\" fill-opacity=\"1\" stroke=\"#000000\" stroke-opacity=\"1\" stroke-width=\"3.2\"/>\n",
       "<circle clip-path=\"url(#clip102)\" cx=\"2090.41\" cy=\"228.271\" r=\"14\" fill=\"#009af9\" fill-rule=\"evenodd\" fill-opacity=\"1\" stroke=\"#000000\" stroke-opacity=\"1\" stroke-width=\"3.2\"/>\n",
       "<circle clip-path=\"url(#clip102)\" cx=\"2191.31\" cy=\"167.996\" r=\"14\" fill=\"#009af9\" fill-rule=\"evenodd\" fill-opacity=\"1\" stroke=\"#000000\" stroke-opacity=\"1\" stroke-width=\"3.2\"/>\n",
       "<circle clip-path=\"url(#clip102)\" cx=\"2292.21\" cy=\"87.6286\" r=\"14\" fill=\"#009af9\" fill-rule=\"evenodd\" fill-opacity=\"1\" stroke=\"#000000\" stroke-opacity=\"1\" stroke-width=\"3.2\"/>\n",
       "<path clip-path=\"url(#clip100)\" d=\"\n",
       "M1871.36 198.488 L2281.45 198.488 L2281.45 94.8081 L1871.36 94.8081  Z\n",
       "  \" fill=\"#ffffff\" fill-rule=\"evenodd\" fill-opacity=\"1\"/>\n",
       "<polyline clip-path=\"url(#clip100)\" style=\"stroke:#000000; stroke-linecap:butt; stroke-linejoin:round; stroke-width:4; stroke-opacity:1; fill:none\" points=\"\n",
       "  1871.36,198.488 2281.45,198.488 2281.45,94.8081 1871.36,94.8081 1871.36,198.488 \n",
       "  \"/>\n",
       "<circle clip-path=\"url(#clip100)\" cx=\"1967.36\" cy=\"146.648\" r=\"23\" fill=\"#009af9\" fill-rule=\"evenodd\" fill-opacity=\"1\" stroke=\"#000000\" stroke-opacity=\"1\" stroke-width=\"5.12\"/>\n",
       "<path clip-path=\"url(#clip100)\" d=\"M2063.36 129.368 L2083.22 129.368 L2083.22 133.303 L2068.04 133.303 L2068.04 143.488 L2081.74 143.488 L2081.74 147.424 L2068.04 147.424 L2068.04 163.928 L2063.36 163.928 L2063.36 129.368 Z\" fill=\"#000000\" fill-rule=\"evenodd\" fill-opacity=\"1\" /><path clip-path=\"url(#clip100)\" d=\"M2090.44 127.91 L2094.7 127.91 L2094.7 163.928 L2090.44 163.928 L2090.44 127.91 Z\" fill=\"#000000\" fill-rule=\"evenodd\" fill-opacity=\"1\" /><path clip-path=\"url(#clip100)\" d=\"M2113.66 140.988 Q2110.23 140.988 2108.24 143.674 Q2106.25 146.336 2106.25 150.988 Q2106.25 155.641 2108.22 158.326 Q2110.21 160.988 2113.66 160.988 Q2117.06 160.988 2119.05 158.303 Q2121.04 155.618 2121.04 150.988 Q2121.04 146.382 2119.05 143.697 Q2117.06 140.988 2113.66 140.988 M2113.66 137.377 Q2119.22 137.377 2122.39 140.988 Q2125.56 144.6 2125.56 150.988 Q2125.56 157.354 2122.39 160.988 Q2119.22 164.599 2113.66 164.599 Q2108.08 164.599 2104.91 160.988 Q2101.76 157.354 2101.76 150.988 Q2101.76 144.6 2104.91 140.988 Q2108.08 137.377 2113.66 137.377 Z\" fill=\"#000000\" fill-rule=\"evenodd\" fill-opacity=\"1\" /><path clip-path=\"url(#clip100)\" d=\"M2144.4 150.896 Q2139.24 150.896 2137.25 152.076 Q2135.26 153.257 2135.26 156.104 Q2135.26 158.373 2136.74 159.715 Q2138.24 161.035 2140.81 161.035 Q2144.35 161.035 2146.48 158.535 Q2148.64 156.011 2148.64 151.845 L2148.64 150.896 L2144.4 150.896 M2152.9 149.137 L2152.9 163.928 L2148.64 163.928 L2148.64 159.993 Q2147.18 162.354 2145 163.488 Q2142.83 164.599 2139.68 164.599 Q2135.7 164.599 2133.34 162.377 Q2131 160.132 2131 156.382 Q2131 152.007 2133.91 149.785 Q2136.85 147.562 2142.66 147.562 L2148.64 147.562 L2148.64 147.146 Q2148.64 144.206 2146.69 142.609 Q2144.77 140.988 2141.28 140.988 Q2139.05 140.988 2136.95 141.521 Q2134.84 142.053 2132.9 143.118 L2132.9 139.183 Q2135.23 138.28 2137.43 137.84 Q2139.63 137.377 2141.72 137.377 Q2147.34 137.377 2150.12 140.294 Q2152.9 143.211 2152.9 149.137 Z\" fill=\"#000000\" fill-rule=\"evenodd\" fill-opacity=\"1\" /><path clip-path=\"url(#clip100)\" d=\"M2165.88 130.641 L2165.88 138.002 L2174.65 138.002 L2174.65 141.312 L2165.88 141.312 L2165.88 155.386 Q2165.88 158.558 2166.74 159.461 Q2167.62 160.363 2170.28 160.363 L2174.65 160.363 L2174.65 163.928 L2170.28 163.928 Q2165.35 163.928 2163.47 162.099 Q2161.6 160.248 2161.6 155.386 L2161.6 141.312 L2158.47 141.312 L2158.47 138.002 L2161.6 138.002 L2161.6 130.641 L2165.88 130.641 Z\" fill=\"#000000\" fill-rule=\"evenodd\" fill-opacity=\"1\" /><path clip-path=\"url(#clip100)\" d=\"M2191.44 144.785 Q2188.29 144.785 2186.44 146.937 Q2184.61 149.09 2184.61 152.84 Q2184.61 156.567 2186.44 158.743 Q2188.29 160.896 2191.44 160.896 Q2194.59 160.896 2196.41 158.743 Q2198.27 156.567 2198.27 152.84 Q2198.27 149.09 2196.41 146.937 Q2194.59 144.785 2191.44 144.785 M2200.72 130.132 L2200.72 134.391 Q2198.96 133.558 2197.15 133.118 Q2195.37 132.678 2193.61 132.678 Q2188.98 132.678 2186.53 135.803 Q2184.1 138.928 2183.75 145.248 Q2185.12 143.234 2187.18 142.169 Q2189.24 141.081 2191.72 141.081 Q2196.92 141.081 2199.93 144.252 Q2202.97 147.4 2202.97 152.84 Q2202.97 158.164 2199.82 161.382 Q2196.67 164.599 2191.44 164.599 Q2185.44 164.599 2182.27 160.016 Q2179.1 155.41 2179.1 146.683 Q2179.1 138.488 2182.99 133.627 Q2186.88 128.743 2193.43 128.743 Q2195.19 128.743 2196.97 129.09 Q2198.78 129.438 2200.72 130.132 Z\" fill=\"#000000\" fill-rule=\"evenodd\" fill-opacity=\"1\" /><path clip-path=\"url(#clip100)\" d=\"M2223.87 133.442 L2212.06 151.891 L2223.87 151.891 L2223.87 133.442 M2222.64 129.368 L2228.52 129.368 L2228.52 151.891 L2233.45 151.891 L2233.45 155.78 L2228.52 155.78 L2228.52 163.928 L2223.87 163.928 L2223.87 155.78 L2208.27 155.78 L2208.27 151.266 L2222.64 129.368 Z\" fill=\"#000000\" fill-rule=\"evenodd\" fill-opacity=\"1\" /></svg>\n"
      ]
     },
     "execution_count": 29,
     "metadata": {},
     "output_type": "execute_result"
    }
   ],
   "source": [
    "scatter(x,eps.(x),yscale=:log10, xscale=:log10, label=\"Float64\")"
   ]
  },
  {
   "cell_type": "code",
   "execution_count": 30,
   "id": "41063074",
   "metadata": {},
   "outputs": [
    {
     "data": {
      "text/plain": [
       "Float16(0.000977)"
      ]
     },
     "execution_count": 30,
     "metadata": {},
     "output_type": "execute_result"
    }
   ],
   "source": [
    "eps(Float16(1))"
   ]
  },
  {
   "cell_type": "code",
   "execution_count": 31,
   "id": "091d53d3",
   "metadata": {},
   "outputs": [],
   "source": [
    "x16 = [Float16(10.0)^i for i ∈ -4:4];"
   ]
  },
  {
   "cell_type": "code",
   "execution_count": 32,
   "id": "7badb1e0",
   "metadata": {
    "tags": []
   },
   "outputs": [
    {
     "data": {
      "image/svg+xml": [
       "<?xml version=\"1.0\" encoding=\"utf-8\"?>\n",
       "<svg xmlns=\"http://www.w3.org/2000/svg\" xmlns:xlink=\"http://www.w3.org/1999/xlink\" width=\"600\" height=\"400\" viewBox=\"0 0 2400 1600\">\n",
       "<defs>\n",
       "  <clipPath id=\"clip140\">\n",
       "    <rect x=\"0\" y=\"0\" width=\"2400\" height=\"1600\"/>\n",
       "  </clipPath>\n",
       "</defs>\n",
       "<path clip-path=\"url(#clip140)\" d=\"\n",
       "M0 1600 L2400 1600 L2400 0 L0 0  Z\n",
       "  \" fill=\"#ffffff\" fill-rule=\"evenodd\" fill-opacity=\"1\"/>\n",
       "<defs>\n",
       "  <clipPath id=\"clip141\">\n",
       "    <rect x=\"480\" y=\"0\" width=\"1681\" height=\"1600\"/>\n",
       "  </clipPath>\n",
       "</defs>\n",
       "<path clip-path=\"url(#clip140)\" d=\"\n",
       "M213.607 1474.16 L2352.76 1474.16 L2352.76 47.2441 L213.607 47.2441  Z\n",
       "  \" fill=\"#ffffff\" fill-rule=\"evenodd\" fill-opacity=\"1\"/>\n",
       "<defs>\n",
       "  <clipPath id=\"clip142\">\n",
       "    <rect x=\"213\" y=\"47\" width=\"2140\" height=\"1428\"/>\n",
       "  </clipPath>\n",
       "</defs>\n",
       "<polyline clip-path=\"url(#clip142)\" style=\"stroke:#000000; stroke-linecap:butt; stroke-linejoin:round; stroke-width:2; stroke-opacity:0.1; fill:none\" points=\"\n",
       "  274.149,1474.16 274.149,47.2441 \n",
       "  \"/>\n",
       "<polyline clip-path=\"url(#clip142)\" style=\"stroke:#000000; stroke-linecap:butt; stroke-linejoin:round; stroke-width:2; stroke-opacity:0.1; fill:none\" points=\"\n",
       "  778.666,1474.16 778.666,47.2441 \n",
       "  \"/>\n",
       "<polyline clip-path=\"url(#clip142)\" style=\"stroke:#000000; stroke-linecap:butt; stroke-linejoin:round; stroke-width:2; stroke-opacity:0.1; fill:none\" points=\"\n",
       "  1283.18,1474.16 1283.18,47.2441 \n",
       "  \"/>\n",
       "<polyline clip-path=\"url(#clip142)\" style=\"stroke:#000000; stroke-linecap:butt; stroke-linejoin:round; stroke-width:2; stroke-opacity:0.1; fill:none\" points=\"\n",
       "  1787.7,1474.16 1787.7,47.2441 \n",
       "  \"/>\n",
       "<polyline clip-path=\"url(#clip142)\" style=\"stroke:#000000; stroke-linecap:butt; stroke-linejoin:round; stroke-width:2; stroke-opacity:0.1; fill:none\" points=\"\n",
       "  2292.21,1474.16 2292.21,47.2441 \n",
       "  \"/>\n",
       "<polyline clip-path=\"url(#clip140)\" style=\"stroke:#000000; stroke-linecap:butt; stroke-linejoin:round; stroke-width:4; stroke-opacity:1; fill:none\" points=\"\n",
       "  213.607,1474.16 2352.76,1474.16 \n",
       "  \"/>\n",
       "<polyline clip-path=\"url(#clip140)\" style=\"stroke:#000000; stroke-linecap:butt; stroke-linejoin:round; stroke-width:4; stroke-opacity:1; fill:none\" points=\"\n",
       "  274.149,1474.16 274.149,1455.27 \n",
       "  \"/>\n",
       "<polyline clip-path=\"url(#clip140)\" style=\"stroke:#000000; stroke-linecap:butt; stroke-linejoin:round; stroke-width:4; stroke-opacity:1; fill:none\" points=\"\n",
       "  778.666,1474.16 778.666,1455.27 \n",
       "  \"/>\n",
       "<polyline clip-path=\"url(#clip140)\" style=\"stroke:#000000; stroke-linecap:butt; stroke-linejoin:round; stroke-width:4; stroke-opacity:1; fill:none\" points=\"\n",
       "  1283.18,1474.16 1283.18,1455.27 \n",
       "  \"/>\n",
       "<polyline clip-path=\"url(#clip140)\" style=\"stroke:#000000; stroke-linecap:butt; stroke-linejoin:round; stroke-width:4; stroke-opacity:1; fill:none\" points=\"\n",
       "  1787.7,1474.16 1787.7,1455.27 \n",
       "  \"/>\n",
       "<polyline clip-path=\"url(#clip140)\" style=\"stroke:#000000; stroke-linecap:butt; stroke-linejoin:round; stroke-width:4; stroke-opacity:1; fill:none\" points=\"\n",
       "  2292.21,1474.16 2292.21,1455.27 \n",
       "  \"/>\n",
       "<path clip-path=\"url(#clip140)\" d=\"M211.513 1548.29 L219.152 1548.29 L219.152 1521.92 L210.842 1523.59 L210.842 1519.33 L219.106 1517.66 L223.781 1517.66 L223.781 1548.29 L231.42 1548.29 L231.42 1552.22 L211.513 1552.22 L211.513 1548.29 Z\" fill=\"#000000\" fill-rule=\"evenodd\" fill-opacity=\"1\" /><path clip-path=\"url(#clip140)\" d=\"M250.865 1520.74 Q247.254 1520.74 245.425 1524.31 Q243.619 1527.85 243.619 1534.98 Q243.619 1542.09 245.425 1545.65 Q247.254 1549.19 250.865 1549.19 Q254.499 1549.19 256.304 1545.65 Q258.133 1542.09 258.133 1534.98 Q258.133 1527.85 256.304 1524.31 Q254.499 1520.74 250.865 1520.74 M250.865 1517.04 Q256.675 1517.04 259.73 1521.65 Q262.809 1526.23 262.809 1534.98 Q262.809 1543.71 259.73 1548.31 Q256.675 1552.9 250.865 1552.9 Q245.055 1552.9 241.976 1548.31 Q238.92 1543.71 238.92 1534.98 Q238.92 1526.23 241.976 1521.65 Q245.055 1517.04 250.865 1517.04 Z\" fill=\"#000000\" fill-rule=\"evenodd\" fill-opacity=\"1\" /><path clip-path=\"url(#clip140)\" d=\"M262.809 1511.14 L286.921 1511.14 L286.921 1514.34 L262.809 1514.34 L262.809 1511.14 Z\" fill=\"#000000\" fill-rule=\"evenodd\" fill-opacity=\"1\" /><path clip-path=\"url(#clip140)\" d=\"M295.779 1521.62 L301.986 1521.62 L301.986 1500.19 L295.234 1501.55 L295.234 1498.09 L301.948 1496.73 L305.747 1496.73 L305.747 1521.62 L311.954 1521.62 L311.954 1524.81 L295.779 1524.81 L295.779 1521.62 Z\" fill=\"#000000\" fill-rule=\"evenodd\" fill-opacity=\"1\" /><path clip-path=\"url(#clip140)\" d=\"M327.752 1499.24 Q324.818 1499.24 323.332 1502.13 Q321.865 1505.01 321.865 1510.8 Q321.865 1516.58 323.332 1519.47 Q324.818 1522.35 327.752 1522.35 Q330.705 1522.35 332.172 1519.47 Q333.658 1516.58 333.658 1510.8 Q333.658 1505.01 332.172 1502.13 Q330.705 1499.24 327.752 1499.24 M327.752 1496.23 Q332.473 1496.23 334.956 1499.97 Q337.457 1503.69 337.457 1510.8 Q337.457 1517.89 334.956 1521.64 Q332.473 1525.36 327.752 1525.36 Q323.032 1525.36 320.53 1521.64 Q318.047 1517.89 318.047 1510.8 Q318.047 1503.69 320.53 1499.97 Q323.032 1496.23 327.752 1496.23 Z\" fill=\"#000000\" fill-rule=\"evenodd\" fill-opacity=\"1\" /><path clip-path=\"url(#clip140)\" d=\"M728.687 1548.29 L736.326 1548.29 L736.326 1521.92 L728.016 1523.59 L728.016 1519.33 L736.279 1517.66 L740.955 1517.66 L740.955 1548.29 L748.594 1548.29 L748.594 1552.22 L728.687 1552.22 L728.687 1548.29 Z\" fill=\"#000000\" fill-rule=\"evenodd\" fill-opacity=\"1\" /><path clip-path=\"url(#clip140)\" d=\"M768.038 1520.74 Q764.427 1520.74 762.599 1524.31 Q760.793 1527.85 760.793 1534.98 Q760.793 1542.09 762.599 1545.65 Q764.427 1549.19 768.038 1549.19 Q771.673 1549.19 773.478 1545.65 Q775.307 1542.09 775.307 1534.98 Q775.307 1527.85 773.478 1524.31 Q771.673 1520.74 768.038 1520.74 M768.038 1517.04 Q773.849 1517.04 776.904 1521.65 Q779.983 1526.23 779.983 1534.98 Q779.983 1543.71 776.904 1548.31 Q773.849 1552.9 768.038 1552.9 Q762.228 1552.9 759.15 1548.31 Q756.094 1543.71 756.094 1534.98 Q756.094 1526.23 759.15 1521.65 Q762.228 1517.04 768.038 1517.04 Z\" fill=\"#000000\" fill-rule=\"evenodd\" fill-opacity=\"1\" /><path clip-path=\"url(#clip140)\" d=\"M779.983 1511.14 L804.094 1511.14 L804.094 1514.34 L779.983 1514.34 L779.983 1511.14 Z\" fill=\"#000000\" fill-rule=\"evenodd\" fill-opacity=\"1\" /><path clip-path=\"url(#clip140)\" d=\"M812.332 1496.73 L827.247 1496.73 L827.247 1499.93 L815.812 1499.93 L815.812 1506.82 Q816.639 1506.53 817.467 1506.4 Q818.294 1506.25 819.122 1506.25 Q823.824 1506.25 826.57 1508.83 Q829.316 1511.4 829.316 1515.81 Q829.316 1520.34 826.494 1522.86 Q823.673 1525.36 818.539 1525.36 Q816.771 1525.36 814.928 1525.06 Q813.103 1524.76 811.147 1524.16 L811.147 1520.34 Q812.84 1521.26 814.646 1521.71 Q816.451 1522.16 818.464 1522.16 Q821.717 1522.16 823.617 1520.45 Q825.516 1518.74 825.516 1515.81 Q825.516 1512.87 823.617 1511.16 Q821.717 1509.45 818.464 1509.45 Q816.94 1509.45 815.417 1509.79 Q813.912 1510.13 812.332 1510.84 L812.332 1496.73 Z\" fill=\"#000000\" fill-rule=\"evenodd\" fill-opacity=\"1\" /><path clip-path=\"url(#clip140)\" d=\"M1248.16 1548.29 L1255.8 1548.29 L1255.8 1521.92 L1247.49 1523.59 L1247.49 1519.33 L1255.76 1517.66 L1260.43 1517.66 L1260.43 1548.29 L1268.07 1548.29 L1268.07 1552.22 L1248.16 1552.22 L1248.16 1548.29 Z\" fill=\"#000000\" fill-rule=\"evenodd\" fill-opacity=\"1\" /><path clip-path=\"url(#clip140)\" d=\"M1287.52 1520.74 Q1283.91 1520.74 1282.08 1524.31 Q1280.27 1527.85 1280.27 1534.98 Q1280.27 1542.09 1282.08 1545.65 Q1283.91 1549.19 1287.52 1549.19 Q1291.15 1549.19 1292.96 1545.65 Q1294.78 1542.09 1294.78 1534.98 Q1294.78 1527.85 1292.96 1524.31 Q1291.15 1520.74 1287.52 1520.74 M1287.52 1517.04 Q1293.33 1517.04 1296.38 1521.65 Q1299.46 1526.23 1299.46 1534.98 Q1299.46 1543.71 1296.38 1548.31 Q1293.33 1552.9 1287.52 1552.9 Q1281.71 1552.9 1278.63 1548.31 Q1275.57 1543.71 1275.57 1534.98 Q1275.57 1526.23 1278.63 1521.65 Q1281.71 1517.04 1287.52 1517.04 Z\" fill=\"#000000\" fill-rule=\"evenodd\" fill-opacity=\"1\" /><path clip-path=\"url(#clip140)\" d=\"M1309.17 1499.24 Q1306.23 1499.24 1304.75 1502.13 Q1303.28 1505.01 1303.28 1510.8 Q1303.28 1516.58 1304.75 1519.47 Q1306.23 1522.35 1309.17 1522.35 Q1312.12 1522.35 1313.59 1519.47 Q1315.07 1516.58 1315.07 1510.8 Q1315.07 1505.01 1313.59 1502.13 Q1312.12 1499.24 1309.17 1499.24 M1309.17 1496.23 Q1313.89 1496.23 1316.37 1499.97 Q1318.87 1503.69 1318.87 1510.8 Q1318.87 1517.89 1316.37 1521.64 Q1313.89 1525.36 1309.17 1525.36 Q1304.44 1525.36 1301.94 1521.64 Q1299.46 1517.89 1299.46 1510.8 Q1299.46 1503.69 1301.94 1499.97 Q1304.44 1496.23 1309.17 1496.23 Z\" fill=\"#000000\" fill-rule=\"evenodd\" fill-opacity=\"1\" /><path clip-path=\"url(#clip140)\" d=\"M1753.3 1548.29 L1760.94 1548.29 L1760.94 1521.92 L1752.63 1523.59 L1752.63 1519.33 L1760.89 1517.66 L1765.57 1517.66 L1765.57 1548.29 L1773.21 1548.29 L1773.21 1552.22 L1753.3 1552.22 L1753.3 1548.29 Z\" fill=\"#000000\" fill-rule=\"evenodd\" fill-opacity=\"1\" /><path clip-path=\"url(#clip140)\" d=\"M1792.65 1520.74 Q1789.04 1520.74 1787.21 1524.31 Q1785.41 1527.85 1785.41 1534.98 Q1785.41 1542.09 1787.21 1545.65 Q1789.04 1549.19 1792.65 1549.19 Q1796.29 1549.19 1798.09 1545.65 Q1799.92 1542.09 1799.92 1534.98 Q1799.92 1527.85 1798.09 1524.31 Q1796.29 1520.74 1792.65 1520.74 M1792.65 1517.04 Q1798.46 1517.04 1801.52 1521.65 Q1804.6 1526.23 1804.6 1534.98 Q1804.6 1543.71 1801.52 1548.31 Q1798.46 1552.9 1792.65 1552.9 Q1786.84 1552.9 1783.76 1548.31 Q1780.71 1543.71 1780.71 1534.98 Q1780.71 1526.23 1783.76 1521.65 Q1786.84 1517.04 1792.65 1517.04 Z\" fill=\"#000000\" fill-rule=\"evenodd\" fill-opacity=\"1\" /><path clip-path=\"url(#clip140)\" d=\"M1805.78 1496.73 L1820.7 1496.73 L1820.7 1499.93 L1809.26 1499.93 L1809.26 1506.82 Q1810.09 1506.53 1810.92 1506.4 Q1811.74 1506.25 1812.57 1506.25 Q1817.27 1506.25 1820.02 1508.83 Q1822.77 1511.4 1822.77 1515.81 Q1822.77 1520.34 1819.94 1522.86 Q1817.12 1525.36 1811.99 1525.36 Q1810.22 1525.36 1808.38 1525.06 Q1806.55 1524.76 1804.6 1524.16 L1804.6 1520.34 Q1806.29 1521.26 1808.1 1521.71 Q1809.9 1522.16 1811.91 1522.16 Q1815.17 1522.16 1817.07 1520.45 Q1818.97 1518.74 1818.97 1515.81 Q1818.97 1512.87 1817.07 1511.16 Q1815.17 1509.45 1811.91 1509.45 Q1810.39 1509.45 1808.87 1509.79 Q1807.36 1510.13 1805.78 1510.84 L1805.78 1496.73 Z\" fill=\"#000000\" fill-rule=\"evenodd\" fill-opacity=\"1\" /><path clip-path=\"url(#clip140)\" d=\"M2245.79 1548.29 L2253.43 1548.29 L2253.43 1521.92 L2245.12 1523.59 L2245.12 1519.33 L2253.38 1517.66 L2258.06 1517.66 L2258.06 1548.29 L2265.7 1548.29 L2265.7 1552.22 L2245.79 1552.22 L2245.79 1548.29 Z\" fill=\"#000000\" fill-rule=\"evenodd\" fill-opacity=\"1\" /><path clip-path=\"url(#clip140)\" d=\"M2285.14 1520.74 Q2281.53 1520.74 2279.7 1524.31 Q2277.9 1527.85 2277.9 1534.98 Q2277.9 1542.09 2279.7 1545.65 Q2281.53 1549.19 2285.14 1549.19 Q2288.78 1549.19 2290.58 1545.65 Q2292.41 1542.09 2292.41 1534.98 Q2292.41 1527.85 2290.58 1524.31 Q2288.78 1520.74 2285.14 1520.74 M2285.14 1517.04 Q2290.95 1517.04 2294.01 1521.65 Q2297.09 1526.23 2297.09 1534.98 Q2297.09 1543.71 2294.01 1548.31 Q2290.95 1552.9 2285.14 1552.9 Q2279.33 1552.9 2276.25 1548.31 Q2273.2 1543.71 2273.2 1534.98 Q2273.2 1526.23 2276.25 1521.65 Q2279.33 1517.04 2285.14 1517.04 Z\" fill=\"#000000\" fill-rule=\"evenodd\" fill-opacity=\"1\" /><path clip-path=\"url(#clip140)\" d=\"M2297.63 1521.62 L2303.84 1521.62 L2303.84 1500.19 L2297.09 1501.55 L2297.09 1498.09 L2303.8 1496.73 L2307.6 1496.73 L2307.6 1521.62 L2313.81 1521.62 L2313.81 1524.81 L2297.63 1524.81 L2297.63 1521.62 Z\" fill=\"#000000\" fill-rule=\"evenodd\" fill-opacity=\"1\" /><path clip-path=\"url(#clip140)\" d=\"M2329.6 1499.24 Q2326.67 1499.24 2325.18 1502.13 Q2323.72 1505.01 2323.72 1510.8 Q2323.72 1516.58 2325.18 1519.47 Q2326.67 1522.35 2329.6 1522.35 Q2332.56 1522.35 2334.02 1519.47 Q2335.51 1516.58 2335.51 1510.8 Q2335.51 1505.01 2334.02 1502.13 Q2332.56 1499.24 2329.6 1499.24 M2329.6 1496.23 Q2334.33 1496.23 2336.81 1499.97 Q2339.31 1503.69 2339.31 1510.8 Q2339.31 1517.89 2336.81 1521.64 Q2334.33 1525.36 2329.6 1525.36 Q2324.88 1525.36 2322.38 1521.64 Q2319.9 1517.89 2319.9 1510.8 Q2319.9 1503.69 2322.38 1499.97 Q2324.88 1496.23 2329.6 1496.23 Z\" fill=\"#000000\" fill-rule=\"evenodd\" fill-opacity=\"1\" /><polyline clip-path=\"url(#clip142)\" style=\"stroke:#000000; stroke-linecap:butt; stroke-linejoin:round; stroke-width:2; stroke-opacity:0.1; fill:none\" points=\"\n",
       "  213.607,1137.91 2352.76,1137.91 \n",
       "  \"/>\n",
       "<polyline clip-path=\"url(#clip142)\" style=\"stroke:#000000; stroke-linecap:butt; stroke-linejoin:round; stroke-width:2; stroke-opacity:0.1; fill:none\" points=\"\n",
       "  213.607,635.456 2352.76,635.456 \n",
       "  \"/>\n",
       "<polyline clip-path=\"url(#clip142)\" style=\"stroke:#000000; stroke-linecap:butt; stroke-linejoin:round; stroke-width:2; stroke-opacity:0.1; fill:none\" points=\"\n",
       "  213.607,133.005 2352.76,133.005 \n",
       "  \"/>\n",
       "<polyline clip-path=\"url(#clip140)\" style=\"stroke:#000000; stroke-linecap:butt; stroke-linejoin:round; stroke-width:4; stroke-opacity:1; fill:none\" points=\"\n",
       "  213.607,1474.16 213.607,47.2441 \n",
       "  \"/>\n",
       "<polyline clip-path=\"url(#clip140)\" style=\"stroke:#000000; stroke-linecap:butt; stroke-linejoin:round; stroke-width:4; stroke-opacity:1; fill:none\" points=\"\n",
       "  213.607,1137.91 232.505,1137.91 \n",
       "  \"/>\n",
       "<polyline clip-path=\"url(#clip140)\" style=\"stroke:#000000; stroke-linecap:butt; stroke-linejoin:round; stroke-width:4; stroke-opacity:1; fill:none\" points=\"\n",
       "  213.607,635.456 232.505,635.456 \n",
       "  \"/>\n",
       "<polyline clip-path=\"url(#clip140)\" style=\"stroke:#000000; stroke-linecap:butt; stroke-linejoin:round; stroke-width:4; stroke-opacity:1; fill:none\" points=\"\n",
       "  213.607,133.005 232.505,133.005 \n",
       "  \"/>\n",
       "<path clip-path=\"url(#clip140)\" d=\"M51.6634 1157.7 L59.3023 1157.7 L59.3023 1131.33 L50.9921 1133 L50.9921 1128.74 L59.256 1127.08 L63.9319 1127.08 L63.9319 1157.7 L71.5707 1157.7 L71.5707 1161.64 L51.6634 1161.64 L51.6634 1157.7 Z\" fill=\"#000000\" fill-rule=\"evenodd\" fill-opacity=\"1\" /><path clip-path=\"url(#clip140)\" d=\"M91.0151 1130.15 Q87.404 1130.15 85.5753 1133.72 Q83.7697 1137.26 83.7697 1144.39 Q83.7697 1151.5 85.5753 1155.06 Q87.404 1158.6 91.0151 1158.6 Q94.6493 1158.6 96.4548 1155.06 Q98.2835 1151.5 98.2835 1144.39 Q98.2835 1137.26 96.4548 1133.72 Q94.6493 1130.15 91.0151 1130.15 M91.0151 1126.45 Q96.8252 1126.45 99.8808 1131.06 Q102.959 1135.64 102.959 1144.39 Q102.959 1153.12 99.8808 1157.72 Q96.8252 1162.31 91.0151 1162.31 Q85.2049 1162.31 82.1262 1157.72 Q79.0707 1153.12 79.0707 1144.39 Q79.0707 1135.64 82.1262 1131.06 Q85.2049 1126.45 91.0151 1126.45 Z\" fill=\"#000000\" fill-rule=\"evenodd\" fill-opacity=\"1\" /><path clip-path=\"url(#clip140)\" d=\"M102.959 1120.55 L127.071 1120.55 L127.071 1123.75 L102.959 1123.75 L102.959 1120.55 Z\" fill=\"#000000\" fill-rule=\"evenodd\" fill-opacity=\"1\" /><path clip-path=\"url(#clip140)\" d=\"M138.544 1131.03 L151.803 1131.03 L151.803 1134.22 L133.973 1134.22 L133.973 1131.03 Q136.136 1128.79 139.86 1125.03 Q143.603 1121.25 144.562 1120.16 Q146.387 1118.11 147.101 1116.7 Q147.835 1115.27 147.835 1113.89 Q147.835 1111.66 146.255 1110.24 Q144.694 1108.83 142.174 1108.83 Q140.387 1108.83 138.393 1109.45 Q136.418 1110.08 134.162 1111.34 L134.162 1107.5 Q136.456 1106.58 138.45 1106.11 Q140.443 1105.64 142.098 1105.64 Q146.462 1105.64 149.057 1107.82 Q151.653 1110 151.653 1113.65 Q151.653 1115.38 150.994 1116.94 Q150.355 1118.48 148.644 1120.59 Q148.173 1121.13 145.653 1123.75 Q143.133 1126.34 138.544 1131.03 Z\" fill=\"#000000\" fill-rule=\"evenodd\" fill-opacity=\"1\" /><path clip-path=\"url(#clip140)\" d=\"M167.903 1108.65 Q164.969 1108.65 163.483 1111.54 Q162.016 1114.42 162.016 1120.21 Q162.016 1125.99 163.483 1128.88 Q164.969 1131.76 167.903 1131.76 Q170.855 1131.76 172.322 1128.88 Q173.808 1125.99 173.808 1120.21 Q173.808 1114.42 172.322 1111.54 Q170.855 1108.65 167.903 1108.65 M167.903 1105.64 Q172.623 1105.64 175.106 1109.38 Q177.607 1113.1 177.607 1120.21 Q177.607 1127.3 175.106 1131.05 Q172.623 1134.77 167.903 1134.77 Q163.182 1134.77 160.68 1131.05 Q158.198 1127.3 158.198 1120.21 Q158.198 1113.1 160.68 1109.38 Q163.182 1105.64 167.903 1105.64 Z\" fill=\"#000000\" fill-rule=\"evenodd\" fill-opacity=\"1\" /><path clip-path=\"url(#clip140)\" d=\"M51.6634 655.248 L59.3023 655.248 L59.3023 628.883 L50.9921 630.55 L50.9921 626.29 L59.256 624.624 L63.9319 624.624 L63.9319 655.248 L71.5707 655.248 L71.5707 659.184 L51.6634 659.184 L51.6634 655.248 Z\" fill=\"#000000\" fill-rule=\"evenodd\" fill-opacity=\"1\" /><path clip-path=\"url(#clip140)\" d=\"M91.0151 627.702 Q87.404 627.702 85.5753 631.267 Q83.7697 634.809 83.7697 641.938 Q83.7697 649.045 85.5753 652.61 Q87.404 656.151 91.0151 656.151 Q94.6493 656.151 96.4548 652.61 Q98.2835 649.045 98.2835 641.938 Q98.2835 634.809 96.4548 631.267 Q94.6493 627.702 91.0151 627.702 M91.0151 623.999 Q96.8252 623.999 99.8808 628.605 Q102.959 633.188 102.959 641.938 Q102.959 650.665 99.8808 655.272 Q96.8252 659.855 91.0151 659.855 Q85.2049 659.855 82.1262 655.272 Q79.0707 650.665 79.0707 641.938 Q79.0707 633.188 82.1262 628.605 Q85.2049 623.999 91.0151 623.999 Z\" fill=\"#000000\" fill-rule=\"evenodd\" fill-opacity=\"1\" /><path clip-path=\"url(#clip140)\" d=\"M102.959 618.1 L127.071 618.1 L127.071 621.297 L102.959 621.297 L102.959 618.1 Z\" fill=\"#000000\" fill-rule=\"evenodd\" fill-opacity=\"1\" /><path clip-path=\"url(#clip140)\" d=\"M135.929 628.576 L142.136 628.576 L142.136 607.154 L135.384 608.508 L135.384 605.047 L142.098 603.693 L145.898 603.693 L145.898 628.576 L152.104 628.576 L152.104 631.773 L135.929 631.773 L135.929 628.576 Z\" fill=\"#000000\" fill-rule=\"evenodd\" fill-opacity=\"1\" /><path clip-path=\"url(#clip140)\" d=\"M167.903 606.195 Q164.969 606.195 163.483 609.091 Q162.016 611.969 162.016 617.761 Q162.016 623.535 163.483 626.432 Q164.969 629.309 167.903 629.309 Q170.855 629.309 172.322 626.432 Q173.808 623.535 173.808 617.761 Q173.808 611.969 172.322 609.091 Q170.855 606.195 167.903 606.195 M167.903 603.185 Q172.623 603.185 175.106 606.928 Q177.607 610.652 177.607 617.761 Q177.607 624.852 175.106 628.595 Q172.623 632.319 167.903 632.319 Q163.182 632.319 160.68 628.595 Q158.198 624.852 158.198 617.761 Q158.198 610.652 160.68 606.928 Q163.182 603.185 167.903 603.185 Z\" fill=\"#000000\" fill-rule=\"evenodd\" fill-opacity=\"1\" /><path clip-path=\"url(#clip140)\" d=\"M106.902 152.797 L114.541 152.797 L114.541 126.431 L106.231 128.098 L106.231 123.839 L114.494 122.172 L119.17 122.172 L119.17 152.797 L126.809 152.797 L126.809 156.732 L106.902 156.732 L106.902 152.797 Z\" fill=\"#000000\" fill-rule=\"evenodd\" fill-opacity=\"1\" /><path clip-path=\"url(#clip140)\" d=\"M146.253 125.251 Q142.642 125.251 140.814 128.816 Q139.008 132.357 139.008 139.487 Q139.008 146.593 140.814 150.158 Q142.642 153.7 146.253 153.7 Q149.888 153.7 151.693 150.158 Q153.522 146.593 153.522 139.487 Q153.522 132.357 151.693 128.816 Q149.888 125.251 146.253 125.251 M146.253 121.547 Q152.064 121.547 155.119 126.154 Q158.198 130.737 158.198 139.487 Q158.198 148.214 155.119 152.82 Q152.064 157.403 146.253 157.403 Q140.443 157.403 137.365 152.82 Q134.309 148.214 134.309 139.487 Q134.309 130.737 137.365 126.154 Q140.443 121.547 146.253 121.547 Z\" fill=\"#000000\" fill-rule=\"evenodd\" fill-opacity=\"1\" /><path clip-path=\"url(#clip140)\" d=\"M167.903 103.743 Q164.969 103.743 163.483 106.64 Q162.016 109.517 162.016 115.31 Q162.016 121.084 163.483 123.98 Q164.969 126.858 167.903 126.858 Q170.855 126.858 172.322 123.98 Q173.808 121.084 173.808 115.31 Q173.808 109.517 172.322 106.64 Q170.855 103.743 167.903 103.743 M167.903 100.734 Q172.623 100.734 175.106 104.477 Q177.607 108.201 177.607 115.31 Q177.607 122.4 175.106 126.143 Q172.623 129.867 167.903 129.867 Q163.182 129.867 160.68 126.143 Q158.198 122.4 158.198 115.31 Q158.198 108.201 160.68 104.477 Q163.182 100.734 167.903 100.734 Z\" fill=\"#000000\" fill-rule=\"evenodd\" fill-opacity=\"1\" /><circle clip-path=\"url(#clip142)\" cx=\"274.149\" cy=\"1433.78\" r=\"14\" fill=\"#009af9\" fill-rule=\"evenodd\" fill-opacity=\"1\" stroke=\"#000000\" stroke-opacity=\"1\" stroke-width=\"3.2\"/>\n",
       "<circle clip-path=\"url(#clip142)\" cx=\"375.053\" cy=\"1373.28\" r=\"14\" fill=\"#009af9\" fill-rule=\"evenodd\" fill-opacity=\"1\" stroke=\"#000000\" stroke-opacity=\"1\" stroke-width=\"3.2\"/>\n",
       "<circle clip-path=\"url(#clip142)\" cx=\"475.956\" cy=\"1327.9\" r=\"14\" fill=\"#009af9\" fill-rule=\"evenodd\" fill-opacity=\"1\" stroke=\"#000000\" stroke-opacity=\"1\" stroke-width=\"3.2\"/>\n",
       "<circle clip-path=\"url(#clip142)\" cx=\"576.859\" cy=\"1282.53\" r=\"14\" fill=\"#009af9\" fill-rule=\"evenodd\" fill-opacity=\"1\" stroke=\"#000000\" stroke-opacity=\"1\" stroke-width=\"3.2\"/>\n",
       "<circle clip-path=\"url(#clip142)\" cx=\"677.762\" cy=\"1222.03\" r=\"14\" fill=\"#009af9\" fill-rule=\"evenodd\" fill-opacity=\"1\" stroke=\"#000000\" stroke-opacity=\"1\" stroke-width=\"3.2\"/>\n",
       "<circle clip-path=\"url(#clip142)\" cx=\"778.666\" cy=\"1176.65\" r=\"14\" fill=\"#009af9\" fill-rule=\"evenodd\" fill-opacity=\"1\" stroke=\"#000000\" stroke-opacity=\"1\" stroke-width=\"3.2\"/>\n",
       "<circle clip-path=\"url(#clip142)\" cx=\"879.569\" cy=\"1131.27\" r=\"14\" fill=\"#009af9\" fill-rule=\"evenodd\" fill-opacity=\"1\" stroke=\"#000000\" stroke-opacity=\"1\" stroke-width=\"3.2\"/>\n",
       "<circle clip-path=\"url(#clip142)\" cx=\"980.472\" cy=\"1070.77\" r=\"14\" fill=\"#009af9\" fill-rule=\"evenodd\" fill-opacity=\"1\" stroke=\"#000000\" stroke-opacity=\"1\" stroke-width=\"3.2\"/>\n",
       "<circle clip-path=\"url(#clip142)\" cx=\"1081.38\" cy=\"1025.4\" r=\"14\" fill=\"#009af9\" fill-rule=\"evenodd\" fill-opacity=\"1\" stroke=\"#000000\" stroke-opacity=\"1\" stroke-width=\"3.2\"/>\n",
       "<circle clip-path=\"url(#clip142)\" cx=\"1182.28\" cy=\"980.021\" r=\"14\" fill=\"#009af9\" fill-rule=\"evenodd\" fill-opacity=\"1\" stroke=\"#000000\" stroke-opacity=\"1\" stroke-width=\"3.2\"/>\n",
       "<circle clip-path=\"url(#clip142)\" cx=\"1283.18\" cy=\"919.52\" r=\"14\" fill=\"#009af9\" fill-rule=\"evenodd\" fill-opacity=\"1\" stroke=\"#000000\" stroke-opacity=\"1\" stroke-width=\"3.2\"/>\n",
       "<circle clip-path=\"url(#clip142)\" cx=\"1384.08\" cy=\"874.144\" r=\"14\" fill=\"#009af9\" fill-rule=\"evenodd\" fill-opacity=\"1\" stroke=\"#000000\" stroke-opacity=\"1\" stroke-width=\"3.2\"/>\n",
       "<circle clip-path=\"url(#clip142)\" cx=\"1484.99\" cy=\"828.768\" r=\"14\" fill=\"#009af9\" fill-rule=\"evenodd\" fill-opacity=\"1\" stroke=\"#000000\" stroke-opacity=\"1\" stroke-width=\"3.2\"/>\n",
       "<circle clip-path=\"url(#clip142)\" cx=\"1585.89\" cy=\"783.392\" r=\"14\" fill=\"#009af9\" fill-rule=\"evenodd\" fill-opacity=\"1\" stroke=\"#000000\" stroke-opacity=\"1\" stroke-width=\"3.2\"/>\n",
       "<circle clip-path=\"url(#clip142)\" cx=\"1686.79\" cy=\"722.891\" r=\"14\" fill=\"#009af9\" fill-rule=\"evenodd\" fill-opacity=\"1\" stroke=\"#000000\" stroke-opacity=\"1\" stroke-width=\"3.2\"/>\n",
       "<circle clip-path=\"url(#clip142)\" cx=\"1787.7\" cy=\"677.515\" r=\"14\" fill=\"#009af9\" fill-rule=\"evenodd\" fill-opacity=\"1\" stroke=\"#000000\" stroke-opacity=\"1\" stroke-width=\"3.2\"/>\n",
       "<circle clip-path=\"url(#clip142)\" cx=\"1888.6\" cy=\"632.139\" r=\"14\" fill=\"#009af9\" fill-rule=\"evenodd\" fill-opacity=\"1\" stroke=\"#000000\" stroke-opacity=\"1\" stroke-width=\"3.2\"/>\n",
       "<circle clip-path=\"url(#clip142)\" cx=\"1989.5\" cy=\"571.638\" r=\"14\" fill=\"#009af9\" fill-rule=\"evenodd\" fill-opacity=\"1\" stroke=\"#000000\" stroke-opacity=\"1\" stroke-width=\"3.2\"/>\n",
       "<circle clip-path=\"url(#clip142)\" cx=\"2090.41\" cy=\"526.262\" r=\"14\" fill=\"#009af9\" fill-rule=\"evenodd\" fill-opacity=\"1\" stroke=\"#000000\" stroke-opacity=\"1\" stroke-width=\"3.2\"/>\n",
       "<circle clip-path=\"url(#clip142)\" cx=\"2191.31\" cy=\"480.886\" r=\"14\" fill=\"#009af9\" fill-rule=\"evenodd\" fill-opacity=\"1\" stroke=\"#000000\" stroke-opacity=\"1\" stroke-width=\"3.2\"/>\n",
       "<circle clip-path=\"url(#clip142)\" cx=\"2292.21\" cy=\"420.385\" r=\"14\" fill=\"#009af9\" fill-rule=\"evenodd\" fill-opacity=\"1\" stroke=\"#000000\" stroke-opacity=\"1\" stroke-width=\"3.2\"/>\n",
       "<circle clip-path=\"url(#clip142)\" cx=\"879.576\" cy=\"496.012\" r=\"14\" fill=\"#e26f46\" fill-rule=\"evenodd\" fill-opacity=\"1\" stroke=\"#000000\" stroke-opacity=\"1\" stroke-width=\"3.2\"/>\n",
       "<circle clip-path=\"url(#clip142)\" cx=\"980.49\" cy=\"435.51\" r=\"14\" fill=\"#e26f46\" fill-rule=\"evenodd\" fill-opacity=\"1\" stroke=\"#000000\" stroke-opacity=\"1\" stroke-width=\"3.2\"/>\n",
       "<circle clip-path=\"url(#clip142)\" cx=\"1081.38\" cy=\"390.135\" r=\"14\" fill=\"#e26f46\" fill-rule=\"evenodd\" fill-opacity=\"1\" stroke=\"#000000\" stroke-opacity=\"1\" stroke-width=\"3.2\"/>\n",
       "<circle clip-path=\"url(#clip142)\" cx=\"1182.27\" cy=\"344.759\" r=\"14\" fill=\"#e26f46\" fill-rule=\"evenodd\" fill-opacity=\"1\" stroke=\"#000000\" stroke-opacity=\"1\" stroke-width=\"3.2\"/>\n",
       "<circle clip-path=\"url(#clip142)\" cx=\"1283.18\" cy=\"284.258\" r=\"14\" fill=\"#e26f46\" fill-rule=\"evenodd\" fill-opacity=\"1\" stroke=\"#000000\" stroke-opacity=\"1\" stroke-width=\"3.2\"/>\n",
       "<circle clip-path=\"url(#clip142)\" cx=\"1384.08\" cy=\"238.882\" r=\"14\" fill=\"#e26f46\" fill-rule=\"evenodd\" fill-opacity=\"1\" stroke=\"#000000\" stroke-opacity=\"1\" stroke-width=\"3.2\"/>\n",
       "<circle clip-path=\"url(#clip142)\" cx=\"1484.99\" cy=\"193.506\" r=\"14\" fill=\"#e26f46\" fill-rule=\"evenodd\" fill-opacity=\"1\" stroke=\"#000000\" stroke-opacity=\"1\" stroke-width=\"3.2\"/>\n",
       "<circle clip-path=\"url(#clip142)\" cx=\"1585.89\" cy=\"148.13\" r=\"14\" fill=\"#e26f46\" fill-rule=\"evenodd\" fill-opacity=\"1\" stroke=\"#000000\" stroke-opacity=\"1\" stroke-width=\"3.2\"/>\n",
       "<circle clip-path=\"url(#clip142)\" cx=\"1686.79\" cy=\"87.6286\" r=\"14\" fill=\"#e26f46\" fill-rule=\"evenodd\" fill-opacity=\"1\" stroke=\"#000000\" stroke-opacity=\"1\" stroke-width=\"3.2\"/>\n",
       "<path clip-path=\"url(#clip140)\" d=\"\n",
       "M1871.36 250.328 L2281.45 250.328 L2281.45 94.8081 L1871.36 94.8081  Z\n",
       "  \" fill=\"#ffffff\" fill-rule=\"evenodd\" fill-opacity=\"1\"/>\n",
       "<polyline clip-path=\"url(#clip140)\" style=\"stroke:#000000; stroke-linecap:butt; stroke-linejoin:round; stroke-width:4; stroke-opacity:1; fill:none\" points=\"\n",
       "  1871.36,250.328 2281.45,250.328 2281.45,94.8081 1871.36,94.8081 1871.36,250.328 \n",
       "  \"/>\n",
       "<circle clip-path=\"url(#clip140)\" cx=\"1967.36\" cy=\"146.648\" r=\"23\" fill=\"#009af9\" fill-rule=\"evenodd\" fill-opacity=\"1\" stroke=\"#000000\" stroke-opacity=\"1\" stroke-width=\"5.12\"/>\n",
       "<path clip-path=\"url(#clip140)\" d=\"M2063.36 129.368 L2083.22 129.368 L2083.22 133.303 L2068.04 133.303 L2068.04 143.488 L2081.74 143.488 L2081.74 147.424 L2068.04 147.424 L2068.04 163.928 L2063.36 163.928 L2063.36 129.368 Z\" fill=\"#000000\" fill-rule=\"evenodd\" fill-opacity=\"1\" /><path clip-path=\"url(#clip140)\" d=\"M2090.44 127.91 L2094.7 127.91 L2094.7 163.928 L2090.44 163.928 L2090.44 127.91 Z\" fill=\"#000000\" fill-rule=\"evenodd\" fill-opacity=\"1\" /><path clip-path=\"url(#clip140)\" d=\"M2113.66 140.988 Q2110.23 140.988 2108.24 143.674 Q2106.25 146.336 2106.25 150.988 Q2106.25 155.641 2108.22 158.326 Q2110.21 160.988 2113.66 160.988 Q2117.06 160.988 2119.05 158.303 Q2121.04 155.618 2121.04 150.988 Q2121.04 146.382 2119.05 143.697 Q2117.06 140.988 2113.66 140.988 M2113.66 137.377 Q2119.22 137.377 2122.39 140.988 Q2125.56 144.6 2125.56 150.988 Q2125.56 157.354 2122.39 160.988 Q2119.22 164.599 2113.66 164.599 Q2108.08 164.599 2104.91 160.988 Q2101.76 157.354 2101.76 150.988 Q2101.76 144.6 2104.91 140.988 Q2108.08 137.377 2113.66 137.377 Z\" fill=\"#000000\" fill-rule=\"evenodd\" fill-opacity=\"1\" /><path clip-path=\"url(#clip140)\" d=\"M2144.4 150.896 Q2139.24 150.896 2137.25 152.076 Q2135.26 153.257 2135.26 156.104 Q2135.26 158.373 2136.74 159.715 Q2138.24 161.035 2140.81 161.035 Q2144.35 161.035 2146.48 158.535 Q2148.64 156.011 2148.64 151.845 L2148.64 150.896 L2144.4 150.896 M2152.9 149.137 L2152.9 163.928 L2148.64 163.928 L2148.64 159.993 Q2147.18 162.354 2145 163.488 Q2142.83 164.599 2139.68 164.599 Q2135.7 164.599 2133.34 162.377 Q2131 160.132 2131 156.382 Q2131 152.007 2133.91 149.785 Q2136.85 147.562 2142.66 147.562 L2148.64 147.562 L2148.64 147.146 Q2148.64 144.206 2146.69 142.609 Q2144.77 140.988 2141.28 140.988 Q2139.05 140.988 2136.95 141.521 Q2134.84 142.053 2132.9 143.118 L2132.9 139.183 Q2135.23 138.28 2137.43 137.84 Q2139.63 137.377 2141.72 137.377 Q2147.34 137.377 2150.12 140.294 Q2152.9 143.211 2152.9 149.137 Z\" fill=\"#000000\" fill-rule=\"evenodd\" fill-opacity=\"1\" /><path clip-path=\"url(#clip140)\" d=\"M2165.88 130.641 L2165.88 138.002 L2174.65 138.002 L2174.65 141.312 L2165.88 141.312 L2165.88 155.386 Q2165.88 158.558 2166.74 159.461 Q2167.62 160.363 2170.28 160.363 L2174.65 160.363 L2174.65 163.928 L2170.28 163.928 Q2165.35 163.928 2163.47 162.099 Q2161.6 160.248 2161.6 155.386 L2161.6 141.312 L2158.47 141.312 L2158.47 138.002 L2161.6 138.002 L2161.6 130.641 L2165.88 130.641 Z\" fill=\"#000000\" fill-rule=\"evenodd\" fill-opacity=\"1\" /><path clip-path=\"url(#clip140)\" d=\"M2191.44 144.785 Q2188.29 144.785 2186.44 146.937 Q2184.61 149.09 2184.61 152.84 Q2184.61 156.567 2186.44 158.743 Q2188.29 160.896 2191.44 160.896 Q2194.59 160.896 2196.41 158.743 Q2198.27 156.567 2198.27 152.84 Q2198.27 149.09 2196.41 146.937 Q2194.59 144.785 2191.44 144.785 M2200.72 130.132 L2200.72 134.391 Q2198.96 133.558 2197.15 133.118 Q2195.37 132.678 2193.61 132.678 Q2188.98 132.678 2186.53 135.803 Q2184.1 138.928 2183.75 145.248 Q2185.12 143.234 2187.18 142.169 Q2189.24 141.081 2191.72 141.081 Q2196.92 141.081 2199.93 144.252 Q2202.97 147.4 2202.97 152.84 Q2202.97 158.164 2199.82 161.382 Q2196.67 164.599 2191.44 164.599 Q2185.44 164.599 2182.27 160.016 Q2179.1 155.41 2179.1 146.683 Q2179.1 138.488 2182.99 133.627 Q2186.88 128.743 2193.43 128.743 Q2195.19 128.743 2196.97 129.09 Q2198.78 129.438 2200.72 130.132 Z\" fill=\"#000000\" fill-rule=\"evenodd\" fill-opacity=\"1\" /><path clip-path=\"url(#clip140)\" d=\"M2223.87 133.442 L2212.06 151.891 L2223.87 151.891 L2223.87 133.442 M2222.64 129.368 L2228.52 129.368 L2228.52 151.891 L2233.45 151.891 L2233.45 155.78 L2228.52 155.78 L2228.52 163.928 L2223.87 163.928 L2223.87 155.78 L2208.27 155.78 L2208.27 151.266 L2222.64 129.368 Z\" fill=\"#000000\" fill-rule=\"evenodd\" fill-opacity=\"1\" /><circle clip-path=\"url(#clip140)\" cx=\"1967.36\" cy=\"198.488\" r=\"23\" fill=\"#e26f46\" fill-rule=\"evenodd\" fill-opacity=\"1\" stroke=\"#000000\" stroke-opacity=\"1\" stroke-width=\"5.12\"/>\n",
       "<path clip-path=\"url(#clip140)\" d=\"M2063.36 181.208 L2083.22 181.208 L2083.22 185.143 L2068.04 185.143 L2068.04 195.328 L2081.74 195.328 L2081.74 199.264 L2068.04 199.264 L2068.04 215.768 L2063.36 215.768 L2063.36 181.208 Z\" fill=\"#000000\" fill-rule=\"evenodd\" fill-opacity=\"1\" /><path clip-path=\"url(#clip140)\" d=\"M2090.44 179.75 L2094.7 179.75 L2094.7 215.768 L2090.44 215.768 L2090.44 179.75 Z\" fill=\"#000000\" fill-rule=\"evenodd\" fill-opacity=\"1\" /><path clip-path=\"url(#clip140)\" d=\"M2113.66 192.828 Q2110.23 192.828 2108.24 195.514 Q2106.25 198.176 2106.25 202.828 Q2106.25 207.481 2108.22 210.166 Q2110.21 212.828 2113.66 212.828 Q2117.06 212.828 2119.05 210.143 Q2121.04 207.458 2121.04 202.828 Q2121.04 198.222 2119.05 195.537 Q2117.06 192.828 2113.66 192.828 M2113.66 189.217 Q2119.22 189.217 2122.39 192.828 Q2125.56 196.44 2125.56 202.828 Q2125.56 209.194 2122.39 212.828 Q2119.22 216.439 2113.66 216.439 Q2108.08 216.439 2104.91 212.828 Q2101.76 209.194 2101.76 202.828 Q2101.76 196.44 2104.91 192.828 Q2108.08 189.217 2113.66 189.217 Z\" fill=\"#000000\" fill-rule=\"evenodd\" fill-opacity=\"1\" /><path clip-path=\"url(#clip140)\" d=\"M2144.4 202.736 Q2139.24 202.736 2137.25 203.916 Q2135.26 205.097 2135.26 207.944 Q2135.26 210.213 2136.74 211.555 Q2138.24 212.875 2140.81 212.875 Q2144.35 212.875 2146.48 210.375 Q2148.64 207.851 2148.64 203.685 L2148.64 202.736 L2144.4 202.736 M2152.9 200.977 L2152.9 215.768 L2148.64 215.768 L2148.64 211.833 Q2147.18 214.194 2145 215.328 Q2142.83 216.439 2139.68 216.439 Q2135.7 216.439 2133.34 214.217 Q2131 211.972 2131 208.222 Q2131 203.847 2133.91 201.625 Q2136.85 199.402 2142.66 199.402 L2148.64 199.402 L2148.64 198.986 Q2148.64 196.046 2146.69 194.449 Q2144.77 192.828 2141.28 192.828 Q2139.05 192.828 2136.95 193.361 Q2134.84 193.893 2132.9 194.958 L2132.9 191.023 Q2135.23 190.12 2137.43 189.68 Q2139.63 189.217 2141.72 189.217 Q2147.34 189.217 2150.12 192.134 Q2152.9 195.051 2152.9 200.977 Z\" fill=\"#000000\" fill-rule=\"evenodd\" fill-opacity=\"1\" /><path clip-path=\"url(#clip140)\" d=\"M2165.88 182.481 L2165.88 189.842 L2174.65 189.842 L2174.65 193.152 L2165.88 193.152 L2165.88 207.226 Q2165.88 210.398 2166.74 211.301 Q2167.62 212.203 2170.28 212.203 L2174.65 212.203 L2174.65 215.768 L2170.28 215.768 Q2165.35 215.768 2163.47 213.939 Q2161.6 212.088 2161.6 207.226 L2161.6 193.152 L2158.47 193.152 L2158.47 189.842 L2161.6 189.842 L2161.6 182.481 L2165.88 182.481 Z\" fill=\"#000000\" fill-rule=\"evenodd\" fill-opacity=\"1\" /><path clip-path=\"url(#clip140)\" d=\"M2181.67 211.833 L2189.31 211.833 L2189.31 185.467 L2181 187.134 L2181 182.875 L2189.26 181.208 L2193.94 181.208 L2193.94 211.833 L2201.58 211.833 L2201.58 215.768 L2181.67 215.768 L2181.67 211.833 Z\" fill=\"#000000\" fill-rule=\"evenodd\" fill-opacity=\"1\" /><path clip-path=\"url(#clip140)\" d=\"M2221.6 196.625 Q2218.45 196.625 2216.6 198.777 Q2214.77 200.93 2214.77 204.68 Q2214.77 208.407 2216.6 210.583 Q2218.45 212.736 2221.6 212.736 Q2224.75 212.736 2226.58 210.583 Q2228.43 208.407 2228.43 204.68 Q2228.43 200.93 2226.58 198.777 Q2224.75 196.625 2221.6 196.625 M2230.88 181.972 L2230.88 186.231 Q2229.12 185.398 2227.32 184.958 Q2225.53 184.518 2223.78 184.518 Q2219.15 184.518 2216.69 187.643 Q2214.26 190.768 2213.91 197.088 Q2215.28 195.074 2217.34 194.009 Q2219.4 192.921 2221.88 192.921 Q2227.09 192.921 2230.09 196.092 Q2233.13 199.24 2233.13 204.68 Q2233.13 210.004 2229.98 213.222 Q2226.83 216.439 2221.6 216.439 Q2215.6 216.439 2212.43 211.856 Q2209.26 207.25 2209.26 198.523 Q2209.26 190.328 2213.15 185.467 Q2217.04 180.583 2223.59 180.583 Q2225.35 180.583 2227.13 180.93 Q2228.94 181.278 2230.88 181.972 Z\" fill=\"#000000\" fill-rule=\"evenodd\" fill-opacity=\"1\" /></svg>\n"
      ]
     },
     "execution_count": 32,
     "metadata": {},
     "output_type": "execute_result"
    }
   ],
   "source": [
    "scatter!(x16,eps.(x16)\n",
    "    , yscale=:log10\n",
    "    , xscale=:log10\n",
    "    , label=\"Float16\"\n",
    ")"
   ]
  },
  {
   "cell_type": "markdown",
   "id": "f34281b4",
   "metadata": {},
   "source": [
    "## Los límites de la representación: \n",
    "\n",
    "El número finito más grande que podemos representar en Float64 es:"
   ]
  },
  {
   "cell_type": "code",
   "execution_count": 33,
   "id": "6ebf73bc",
   "metadata": {},
   "outputs": [
    {
     "data": {
      "text/plain": [
       "1.7976931348623157e308"
      ]
     },
     "execution_count": 33,
     "metadata": {},
     "output_type": "execute_result"
    }
   ],
   "source": [
    "prevfloat(Inf)"
   ]
  },
  {
   "cell_type": "markdown",
   "id": "ac904a23",
   "metadata": {},
   "source": [
    "El más pequeño (en módulo):"
   ]
  },
  {
   "cell_type": "code",
   "execution_count": 34,
   "id": "86574823",
   "metadata": {},
   "outputs": [
    {
     "data": {
      "text/plain": [
       "5.0e-324"
      ]
     },
     "execution_count": 34,
     "metadata": {},
     "output_type": "execute_result"
    }
   ],
   "source": [
    "nextfloat(0.)"
   ]
  },
  {
   "cell_type": "markdown",
   "id": "48f521e5-970f-40a8-ae05-3c7dcb8d52fd",
   "metadata": {},
   "source": [
    "El primer número cercano a zero es un número denormalizado."
   ]
  },
  {
   "cell_type": "code",
   "execution_count": 35,
   "id": "7f35e2a4-09ea-4e49-bb94-6b432a55aeb3",
   "metadata": {},
   "outputs": [
    {
     "data": {
      "text/plain": [
       "\"0000000000000000000000000000000000000000000000000000000000000001\""
      ]
     },
     "execution_count": 35,
     "metadata": {},
     "output_type": "execute_result"
    }
   ],
   "source": [
    "bitstring(eps(0.0))"
   ]
  },
  {
   "cell_type": "code",
   "execution_count": 36,
   "id": "bbc75329-fc04-444e-931c-2e317cf765a7",
   "metadata": {},
   "outputs": [
    {
     "data": {
      "text/plain": [
       "\"00000000000000000000000000000001\""
      ]
     },
     "execution_count": 36,
     "metadata": {},
     "output_type": "execute_result"
    }
   ],
   "source": [
    "bitstring(eps(Float32(0.0)))"
   ]
  },
  {
   "cell_type": "code",
   "execution_count": 37,
   "id": "f2665593-9f30-4a11-a712-7f050df6c447",
   "metadata": {},
   "outputs": [
    {
     "data": {
      "text/plain": [
       "false"
      ]
     },
     "execution_count": 37,
     "metadata": {},
     "output_type": "execute_result"
    }
   ],
   "source": [
    "1 + eps(1.)*0.6 == 1."
   ]
  },
  {
   "cell_type": "code",
   "execution_count": 38,
   "id": "cab5a5bc-03da-4f97-aaac-4589e08e2569",
   "metadata": {},
   "outputs": [
    {
     "data": {
      "text/plain": [
       "\"0111111111111000000000000000000000000000000000000000000000000000\""
      ]
     },
     "execution_count": 38,
     "metadata": {},
     "output_type": "execute_result"
    }
   ],
   "source": [
    "bitstring(NaN)"
   ]
  },
  {
   "cell_type": "code",
   "execution_count": 39,
   "id": "ae8693ac-1bc5-4294-a141-9dba37c6a0f3",
   "metadata": {},
   "outputs": [
    {
     "data": {
      "text/plain": [
       "\"0111111111110000000000000000000000000000000000000000000000000000\""
      ]
     },
     "execution_count": 39,
     "metadata": {},
     "output_type": "execute_result"
    }
   ],
   "source": [
    "bitstring(Inf)"
   ]
  },
  {
   "cell_type": "code",
   "execution_count": null,
   "id": "7f48f950-6d98-425d-adae-92987e9a452b",
   "metadata": {},
   "outputs": [],
   "source": []
  }
 ],
 "metadata": {
  "kernelspec": {
   "display_name": "Julia 1.7.2",
   "language": "julia",
   "name": "julia-1.7"
  },
  "language_info": {
   "file_extension": ".jl",
   "mimetype": "application/julia",
   "name": "julia",
   "version": "1.7.2"
  }
 },
 "nbformat": 4,
 "nbformat_minor": 5
}
